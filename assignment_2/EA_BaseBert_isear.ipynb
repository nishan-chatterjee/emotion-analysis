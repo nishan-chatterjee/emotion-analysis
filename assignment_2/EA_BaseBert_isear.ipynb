{
 "cells": [
  {
   "cell_type": "code",
   "execution_count": 3,
   "metadata": {
    "colab": {
<<<<<<< HEAD
      "name": "EA-BaseBert-isear.ipynb",
      "provenance": [],
      "collapsed_sections": []
    },
    "kernelspec": {
      "name": "python3",
      "display_name": "Python 3"
    },
    "widgets": {
      "application/vnd.jupyter.widget-state+json": {
        "725a2723ffbb453b9437fee4e10f763f": {
          "model_module": "@jupyter-widgets/controls",
          "model_name": "HBoxModel",
          "state": {
            "_view_name": "HBoxView",
            "_dom_classes": [],
            "_model_name": "HBoxModel",
            "_view_module": "@jupyter-widgets/controls",
            "_model_module_version": "1.5.0",
            "_view_count": null,
            "_view_module_version": "1.5.0",
            "box_style": "",
            "layout": "IPY_MODEL_9a9a7bf470924690abf8f74db6d2b97f",
            "_model_module": "@jupyter-widgets/controls",
            "children": [
              "IPY_MODEL_8ae9291baf3d48f08663385e8d85ff57",
              "IPY_MODEL_3d760132cefa4c97bbb38729bc561f6e"
            ]
          }
        },
        "9a9a7bf470924690abf8f74db6d2b97f": {
          "model_module": "@jupyter-widgets/base",
          "model_name": "LayoutModel",
          "state": {
            "_view_name": "LayoutView",
            "grid_template_rows": null,
            "right": null,
            "justify_content": null,
            "_view_module": "@jupyter-widgets/base",
            "overflow": null,
            "_model_module_version": "1.2.0",
            "_view_count": null,
            "flex_flow": null,
            "width": null,
            "min_width": null,
            "border": null,
            "align_items": null,
            "bottom": null,
            "_model_module": "@jupyter-widgets/base",
            "top": null,
            "grid_column": null,
            "overflow_y": null,
            "overflow_x": null,
            "grid_auto_flow": null,
            "grid_area": null,
            "grid_template_columns": null,
            "flex": null,
            "_model_name": "LayoutModel",
            "justify_items": null,
            "grid_row": null,
            "max_height": null,
            "align_content": null,
            "visibility": null,
            "align_self": null,
            "height": null,
            "min_height": null,
            "padding": null,
            "grid_auto_rows": null,
            "grid_gap": null,
            "max_width": null,
            "order": null,
            "_view_module_version": "1.2.0",
            "grid_template_areas": null,
            "object_position": null,
            "object_fit": null,
            "grid_auto_columns": null,
            "margin": null,
            "display": null,
            "left": null
          }
        },
        "8ae9291baf3d48f08663385e8d85ff57": {
          "model_module": "@jupyter-widgets/controls",
          "model_name": "FloatProgressModel",
          "state": {
            "_view_name": "ProgressView",
            "style": "IPY_MODEL_22b0a6126bbb426ca5c377f11a06a0b5",
            "_dom_classes": [],
            "description": "Downloading: 100%",
            "_model_name": "FloatProgressModel",
            "bar_style": "success",
            "max": 231508,
            "_view_module": "@jupyter-widgets/controls",
            "_model_module_version": "1.5.0",
            "value": 231508,
            "_view_count": null,
            "_view_module_version": "1.5.0",
            "orientation": "horizontal",
            "min": 0,
            "description_tooltip": null,
            "_model_module": "@jupyter-widgets/controls",
            "layout": "IPY_MODEL_95d1001a33534667a34c2e26bd15c71f"
          }
        },
        "3d760132cefa4c97bbb38729bc561f6e": {
          "model_module": "@jupyter-widgets/controls",
          "model_name": "HTMLModel",
          "state": {
            "_view_name": "HTMLView",
            "style": "IPY_MODEL_23e7412a40b54a18a9c6d187b266aa5c",
            "_dom_classes": [],
            "description": "",
            "_model_name": "HTMLModel",
            "placeholder": "​",
            "_view_module": "@jupyter-widgets/controls",
            "_model_module_version": "1.5.0",
            "value": " 232k/232k [00:00&lt;00:00, 739kB/s]",
            "_view_count": null,
            "_view_module_version": "1.5.0",
            "description_tooltip": null,
            "_model_module": "@jupyter-widgets/controls",
            "layout": "IPY_MODEL_c5c0250ab36d45c8aba4ce5b0efc4500"
          }
        },
        "22b0a6126bbb426ca5c377f11a06a0b5": {
          "model_module": "@jupyter-widgets/controls",
          "model_name": "ProgressStyleModel",
          "state": {
            "_view_name": "StyleView",
            "_model_name": "ProgressStyleModel",
            "description_width": "initial",
            "_view_module": "@jupyter-widgets/base",
            "_model_module_version": "1.5.0",
            "_view_count": null,
            "_view_module_version": "1.2.0",
            "bar_color": null,
            "_model_module": "@jupyter-widgets/controls"
          }
        },
        "95d1001a33534667a34c2e26bd15c71f": {
          "model_module": "@jupyter-widgets/base",
          "model_name": "LayoutModel",
          "state": {
            "_view_name": "LayoutView",
            "grid_template_rows": null,
            "right": null,
            "justify_content": null,
            "_view_module": "@jupyter-widgets/base",
            "overflow": null,
            "_model_module_version": "1.2.0",
            "_view_count": null,
            "flex_flow": null,
            "width": null,
            "min_width": null,
            "border": null,
            "align_items": null,
            "bottom": null,
            "_model_module": "@jupyter-widgets/base",
            "top": null,
            "grid_column": null,
            "overflow_y": null,
            "overflow_x": null,
            "grid_auto_flow": null,
            "grid_area": null,
            "grid_template_columns": null,
            "flex": null,
            "_model_name": "LayoutModel",
            "justify_items": null,
            "grid_row": null,
            "max_height": null,
            "align_content": null,
            "visibility": null,
            "align_self": null,
            "height": null,
            "min_height": null,
            "padding": null,
            "grid_auto_rows": null,
            "grid_gap": null,
            "max_width": null,
            "order": null,
            "_view_module_version": "1.2.0",
            "grid_template_areas": null,
            "object_position": null,
            "object_fit": null,
            "grid_auto_columns": null,
            "margin": null,
            "display": null,
            "left": null
          }
        },
        "23e7412a40b54a18a9c6d187b266aa5c": {
          "model_module": "@jupyter-widgets/controls",
          "model_name": "DescriptionStyleModel",
          "state": {
            "_view_name": "StyleView",
            "_model_name": "DescriptionStyleModel",
            "description_width": "",
            "_view_module": "@jupyter-widgets/base",
            "_model_module_version": "1.5.0",
            "_view_count": null,
            "_view_module_version": "1.2.0",
            "_model_module": "@jupyter-widgets/controls"
          }
        },
        "c5c0250ab36d45c8aba4ce5b0efc4500": {
          "model_module": "@jupyter-widgets/base",
          "model_name": "LayoutModel",
          "state": {
            "_view_name": "LayoutView",
            "grid_template_rows": null,
            "right": null,
            "justify_content": null,
            "_view_module": "@jupyter-widgets/base",
            "overflow": null,
            "_model_module_version": "1.2.0",
            "_view_count": null,
            "flex_flow": null,
            "width": null,
            "min_width": null,
            "border": null,
            "align_items": null,
            "bottom": null,
            "_model_module": "@jupyter-widgets/base",
            "top": null,
            "grid_column": null,
            "overflow_y": null,
            "overflow_x": null,
            "grid_auto_flow": null,
            "grid_area": null,
            "grid_template_columns": null,
            "flex": null,
            "_model_name": "LayoutModel",
            "justify_items": null,
            "grid_row": null,
            "max_height": null,
            "align_content": null,
            "visibility": null,
            "align_self": null,
            "height": null,
            "min_height": null,
            "padding": null,
            "grid_auto_rows": null,
            "grid_gap": null,
            "max_width": null,
            "order": null,
            "_view_module_version": "1.2.0",
            "grid_template_areas": null,
            "object_position": null,
            "object_fit": null,
            "grid_auto_columns": null,
            "margin": null,
            "display": null,
            "left": null
          }
        },
        "5b2ff2b197d44377826d9aa1e580f649": {
          "model_module": "@jupyter-widgets/controls",
          "model_name": "HBoxModel",
          "state": {
            "_view_name": "HBoxView",
            "_dom_classes": [],
            "_model_name": "HBoxModel",
            "_view_module": "@jupyter-widgets/controls",
            "_model_module_version": "1.5.0",
            "_view_count": null,
            "_view_module_version": "1.5.0",
            "box_style": "",
            "layout": "IPY_MODEL_a7dc14f9e3e2423fa25ba200130353e3",
            "_model_module": "@jupyter-widgets/controls",
            "children": [
              "IPY_MODEL_6835d1cf2ae945ffa3ed196fc11f3e34",
              "IPY_MODEL_c4d25cf2960d4546b5008f9b7100e7f7"
            ]
          }
        },
        "a7dc14f9e3e2423fa25ba200130353e3": {
          "model_module": "@jupyter-widgets/base",
          "model_name": "LayoutModel",
          "state": {
            "_view_name": "LayoutView",
            "grid_template_rows": null,
            "right": null,
            "justify_content": null,
            "_view_module": "@jupyter-widgets/base",
            "overflow": null,
            "_model_module_version": "1.2.0",
            "_view_count": null,
            "flex_flow": null,
            "width": null,
            "min_width": null,
            "border": null,
            "align_items": null,
            "bottom": null,
            "_model_module": "@jupyter-widgets/base",
            "top": null,
            "grid_column": null,
            "overflow_y": null,
            "overflow_x": null,
            "grid_auto_flow": null,
            "grid_area": null,
            "grid_template_columns": null,
            "flex": null,
            "_model_name": "LayoutModel",
            "justify_items": null,
            "grid_row": null,
            "max_height": null,
            "align_content": null,
            "visibility": null,
            "align_self": null,
            "height": null,
            "min_height": null,
            "padding": null,
            "grid_auto_rows": null,
            "grid_gap": null,
            "max_width": null,
            "order": null,
            "_view_module_version": "1.2.0",
            "grid_template_areas": null,
            "object_position": null,
            "object_fit": null,
            "grid_auto_columns": null,
            "margin": null,
            "display": null,
            "left": null
          }
        },
        "6835d1cf2ae945ffa3ed196fc11f3e34": {
          "model_module": "@jupyter-widgets/controls",
          "model_name": "FloatProgressModel",
          "state": {
            "_view_name": "ProgressView",
            "style": "IPY_MODEL_00289ceb1c254429b17f84f3b0c53bea",
            "_dom_classes": [],
            "description": "Downloading: 100%",
            "_model_name": "FloatProgressModel",
            "bar_style": "success",
            "max": 433,
            "_view_module": "@jupyter-widgets/controls",
            "_model_module_version": "1.5.0",
            "value": 433,
            "_view_count": null,
            "_view_module_version": "1.5.0",
            "orientation": "horizontal",
            "min": 0,
            "description_tooltip": null,
            "_model_module": "@jupyter-widgets/controls",
            "layout": "IPY_MODEL_2222fe544ec74b2e83223bb51ef243e0"
          }
        },
        "c4d25cf2960d4546b5008f9b7100e7f7": {
          "model_module": "@jupyter-widgets/controls",
          "model_name": "HTMLModel",
          "state": {
            "_view_name": "HTMLView",
            "style": "IPY_MODEL_452cf5ffaa3942448a3b25ace8cc2533",
            "_dom_classes": [],
            "description": "",
            "_model_name": "HTMLModel",
            "placeholder": "​",
            "_view_module": "@jupyter-widgets/controls",
            "_model_module_version": "1.5.0",
            "value": " 433/433 [00:00&lt;00:00, 717B/s]",
            "_view_count": null,
            "_view_module_version": "1.5.0",
            "description_tooltip": null,
            "_model_module": "@jupyter-widgets/controls",
            "layout": "IPY_MODEL_7f9884cabba84ab7b66ad027adb1083c"
          }
        },
        "00289ceb1c254429b17f84f3b0c53bea": {
          "model_module": "@jupyter-widgets/controls",
          "model_name": "ProgressStyleModel",
          "state": {
            "_view_name": "StyleView",
            "_model_name": "ProgressStyleModel",
            "description_width": "initial",
            "_view_module": "@jupyter-widgets/base",
            "_model_module_version": "1.5.0",
            "_view_count": null,
            "_view_module_version": "1.2.0",
            "bar_color": null,
            "_model_module": "@jupyter-widgets/controls"
          }
        },
        "2222fe544ec74b2e83223bb51ef243e0": {
          "model_module": "@jupyter-widgets/base",
          "model_name": "LayoutModel",
          "state": {
            "_view_name": "LayoutView",
            "grid_template_rows": null,
            "right": null,
            "justify_content": null,
            "_view_module": "@jupyter-widgets/base",
            "overflow": null,
            "_model_module_version": "1.2.0",
            "_view_count": null,
            "flex_flow": null,
            "width": null,
            "min_width": null,
            "border": null,
            "align_items": null,
            "bottom": null,
            "_model_module": "@jupyter-widgets/base",
            "top": null,
            "grid_column": null,
            "overflow_y": null,
            "overflow_x": null,
            "grid_auto_flow": null,
            "grid_area": null,
            "grid_template_columns": null,
            "flex": null,
            "_model_name": "LayoutModel",
            "justify_items": null,
            "grid_row": null,
            "max_height": null,
            "align_content": null,
            "visibility": null,
            "align_self": null,
            "height": null,
            "min_height": null,
            "padding": null,
            "grid_auto_rows": null,
            "grid_gap": null,
            "max_width": null,
            "order": null,
            "_view_module_version": "1.2.0",
            "grid_template_areas": null,
            "object_position": null,
            "object_fit": null,
            "grid_auto_columns": null,
            "margin": null,
            "display": null,
            "left": null
          }
        },
        "452cf5ffaa3942448a3b25ace8cc2533": {
          "model_module": "@jupyter-widgets/controls",
          "model_name": "DescriptionStyleModel",
          "state": {
            "_view_name": "StyleView",
            "_model_name": "DescriptionStyleModel",
            "description_width": "",
            "_view_module": "@jupyter-widgets/base",
            "_model_module_version": "1.5.0",
            "_view_count": null,
            "_view_module_version": "1.2.0",
            "_model_module": "@jupyter-widgets/controls"
          }
        },
        "7f9884cabba84ab7b66ad027adb1083c": {
          "model_module": "@jupyter-widgets/base",
          "model_name": "LayoutModel",
          "state": {
            "_view_name": "LayoutView",
            "grid_template_rows": null,
            "right": null,
            "justify_content": null,
            "_view_module": "@jupyter-widgets/base",
            "overflow": null,
            "_model_module_version": "1.2.0",
            "_view_count": null,
            "flex_flow": null,
            "width": null,
            "min_width": null,
            "border": null,
            "align_items": null,
            "bottom": null,
            "_model_module": "@jupyter-widgets/base",
            "top": null,
            "grid_column": null,
            "overflow_y": null,
            "overflow_x": null,
            "grid_auto_flow": null,
            "grid_area": null,
            "grid_template_columns": null,
            "flex": null,
            "_model_name": "LayoutModel",
            "justify_items": null,
            "grid_row": null,
            "max_height": null,
            "align_content": null,
            "visibility": null,
            "align_self": null,
            "height": null,
            "min_height": null,
            "padding": null,
            "grid_auto_rows": null,
            "grid_gap": null,
            "max_width": null,
            "order": null,
            "_view_module_version": "1.2.0",
            "grid_template_areas": null,
            "object_position": null,
            "object_fit": null,
            "grid_auto_columns": null,
            "margin": null,
            "display": null,
            "left": null
          }
        },
        "84070a0370224b4d97a6390d7acb904a": {
          "model_module": "@jupyter-widgets/controls",
          "model_name": "HBoxModel",
          "state": {
            "_view_name": "HBoxView",
            "_dom_classes": [],
            "_model_name": "HBoxModel",
            "_view_module": "@jupyter-widgets/controls",
            "_model_module_version": "1.5.0",
            "_view_count": null,
            "_view_module_version": "1.5.0",
            "box_style": "",
            "layout": "IPY_MODEL_221c758007a44bdfa0a6ce9b33a8e7be",
            "_model_module": "@jupyter-widgets/controls",
            "children": [
              "IPY_MODEL_78493ca9d66f474bb7fd5aa0cbf11b83",
              "IPY_MODEL_c5eef510cf3e441b81cc313f15e03c04"
            ]
          }
        },
        "221c758007a44bdfa0a6ce9b33a8e7be": {
          "model_module": "@jupyter-widgets/base",
          "model_name": "LayoutModel",
          "state": {
            "_view_name": "LayoutView",
            "grid_template_rows": null,
            "right": null,
            "justify_content": null,
            "_view_module": "@jupyter-widgets/base",
            "overflow": null,
            "_model_module_version": "1.2.0",
            "_view_count": null,
            "flex_flow": null,
            "width": null,
            "min_width": null,
            "border": null,
            "align_items": null,
            "bottom": null,
            "_model_module": "@jupyter-widgets/base",
            "top": null,
            "grid_column": null,
            "overflow_y": null,
            "overflow_x": null,
            "grid_auto_flow": null,
            "grid_area": null,
            "grid_template_columns": null,
            "flex": null,
            "_model_name": "LayoutModel",
            "justify_items": null,
            "grid_row": null,
            "max_height": null,
            "align_content": null,
            "visibility": null,
            "align_self": null,
            "height": null,
            "min_height": null,
            "padding": null,
            "grid_auto_rows": null,
            "grid_gap": null,
            "max_width": null,
            "order": null,
            "_view_module_version": "1.2.0",
            "grid_template_areas": null,
            "object_position": null,
            "object_fit": null,
            "grid_auto_columns": null,
            "margin": null,
            "display": null,
            "left": null
          }
        },
        "78493ca9d66f474bb7fd5aa0cbf11b83": {
          "model_module": "@jupyter-widgets/controls",
          "model_name": "FloatProgressModel",
          "state": {
            "_view_name": "ProgressView",
            "style": "IPY_MODEL_3ce29676e049481cbd142e9721a62624",
            "_dom_classes": [],
            "description": "Downloading: 100%",
            "_model_name": "FloatProgressModel",
            "bar_style": "success",
            "max": 440473133,
            "_view_module": "@jupyter-widgets/controls",
            "_model_module_version": "1.5.0",
            "value": 440473133,
            "_view_count": null,
            "_view_module_version": "1.5.0",
            "orientation": "horizontal",
            "min": 0,
            "description_tooltip": null,
            "_model_module": "@jupyter-widgets/controls",
            "layout": "IPY_MODEL_9243965e443d443c945cd4f32cdbcef1"
          }
        },
        "c5eef510cf3e441b81cc313f15e03c04": {
          "model_module": "@jupyter-widgets/controls",
          "model_name": "HTMLModel",
          "state": {
            "_view_name": "HTMLView",
            "style": "IPY_MODEL_279d9bbcbaf7445ea0b825312fd32b3b",
            "_dom_classes": [],
            "description": "",
            "_model_name": "HTMLModel",
            "placeholder": "​",
            "_view_module": "@jupyter-widgets/controls",
            "_model_module_version": "1.5.0",
            "value": " 440M/440M [00:27&lt;00:00, 16.0MB/s]",
            "_view_count": null,
            "_view_module_version": "1.5.0",
            "description_tooltip": null,
            "_model_module": "@jupyter-widgets/controls",
            "layout": "IPY_MODEL_2822ec2ed62f4ac992e1f26fe988a04f"
          }
        },
        "3ce29676e049481cbd142e9721a62624": {
          "model_module": "@jupyter-widgets/controls",
          "model_name": "ProgressStyleModel",
          "state": {
            "_view_name": "StyleView",
            "_model_name": "ProgressStyleModel",
            "description_width": "initial",
            "_view_module": "@jupyter-widgets/base",
            "_model_module_version": "1.5.0",
            "_view_count": null,
            "_view_module_version": "1.2.0",
            "bar_color": null,
            "_model_module": "@jupyter-widgets/controls"
          }
        },
        "9243965e443d443c945cd4f32cdbcef1": {
          "model_module": "@jupyter-widgets/base",
          "model_name": "LayoutModel",
          "state": {
            "_view_name": "LayoutView",
            "grid_template_rows": null,
            "right": null,
            "justify_content": null,
            "_view_module": "@jupyter-widgets/base",
            "overflow": null,
            "_model_module_version": "1.2.0",
            "_view_count": null,
            "flex_flow": null,
            "width": null,
            "min_width": null,
            "border": null,
            "align_items": null,
            "bottom": null,
            "_model_module": "@jupyter-widgets/base",
            "top": null,
            "grid_column": null,
            "overflow_y": null,
            "overflow_x": null,
            "grid_auto_flow": null,
            "grid_area": null,
            "grid_template_columns": null,
            "flex": null,
            "_model_name": "LayoutModel",
            "justify_items": null,
            "grid_row": null,
            "max_height": null,
            "align_content": null,
            "visibility": null,
            "align_self": null,
            "height": null,
            "min_height": null,
            "padding": null,
            "grid_auto_rows": null,
            "grid_gap": null,
            "max_width": null,
            "order": null,
            "_view_module_version": "1.2.0",
            "grid_template_areas": null,
            "object_position": null,
            "object_fit": null,
            "grid_auto_columns": null,
            "margin": null,
            "display": null,
            "left": null
          }
        },
        "279d9bbcbaf7445ea0b825312fd32b3b": {
          "model_module": "@jupyter-widgets/controls",
          "model_name": "DescriptionStyleModel",
          "state": {
            "_view_name": "StyleView",
            "_model_name": "DescriptionStyleModel",
            "description_width": "",
            "_view_module": "@jupyter-widgets/base",
            "_model_module_version": "1.5.0",
            "_view_count": null,
            "_view_module_version": "1.2.0",
            "_model_module": "@jupyter-widgets/controls"
          }
        },
        "2822ec2ed62f4ac992e1f26fe988a04f": {
          "model_module": "@jupyter-widgets/base",
          "model_name": "LayoutModel",
          "state": {
            "_view_name": "LayoutView",
            "grid_template_rows": null,
            "right": null,
            "justify_content": null,
            "_view_module": "@jupyter-widgets/base",
            "overflow": null,
            "_model_module_version": "1.2.0",
            "_view_count": null,
            "flex_flow": null,
            "width": null,
            "min_width": null,
            "border": null,
            "align_items": null,
            "bottom": null,
            "_model_module": "@jupyter-widgets/base",
            "top": null,
            "grid_column": null,
            "overflow_y": null,
            "overflow_x": null,
            "grid_auto_flow": null,
            "grid_area": null,
            "grid_template_columns": null,
            "flex": null,
            "_model_name": "LayoutModel",
            "justify_items": null,
            "grid_row": null,
            "max_height": null,
            "align_content": null,
            "visibility": null,
            "align_self": null,
            "height": null,
            "min_height": null,
            "padding": null,
            "grid_auto_rows": null,
            "grid_gap": null,
            "max_width": null,
            "order": null,
            "_view_module_version": "1.2.0",
            "grid_template_areas": null,
            "object_position": null,
            "object_fit": null,
            "grid_auto_columns": null,
            "margin": null,
            "display": null,
            "left": null
          }
        },
        "5be7ec6cbe0f4c329a416e0089cd70e6": {
          "model_module": "@jupyter-widgets/controls",
          "model_name": "HBoxModel",
          "state": {
            "_view_name": "HBoxView",
            "_dom_classes": [],
            "_model_name": "HBoxModel",
            "_view_module": "@jupyter-widgets/controls",
            "_model_module_version": "1.5.0",
            "_view_count": null,
            "_view_module_version": "1.5.0",
            "box_style": "",
            "layout": "IPY_MODEL_bec53d87231d4c74b12123321e6a73e7",
            "_model_module": "@jupyter-widgets/controls",
            "children": [
              "IPY_MODEL_772b97c0f0a343c19d0b702d4cf7eacc",
              "IPY_MODEL_b6536403e691499c832321c36ae3ec89"
            ]
          }
        },
        "bec53d87231d4c74b12123321e6a73e7": {
          "model_module": "@jupyter-widgets/base",
          "model_name": "LayoutModel",
          "state": {
            "_view_name": "LayoutView",
            "grid_template_rows": null,
            "right": null,
            "justify_content": null,
            "_view_module": "@jupyter-widgets/base",
            "overflow": null,
            "_model_module_version": "1.2.0",
            "_view_count": null,
            "flex_flow": null,
            "width": null,
            "min_width": null,
            "border": null,
            "align_items": null,
            "bottom": null,
            "_model_module": "@jupyter-widgets/base",
            "top": null,
            "grid_column": null,
            "overflow_y": null,
            "overflow_x": null,
            "grid_auto_flow": null,
            "grid_area": null,
            "grid_template_columns": null,
            "flex": null,
            "_model_name": "LayoutModel",
            "justify_items": null,
            "grid_row": null,
            "max_height": null,
            "align_content": null,
            "visibility": null,
            "align_self": null,
            "height": null,
            "min_height": null,
            "padding": null,
            "grid_auto_rows": null,
            "grid_gap": null,
            "max_width": null,
            "order": null,
            "_view_module_version": "1.2.0",
            "grid_template_areas": null,
            "object_position": null,
            "object_fit": null,
            "grid_auto_columns": null,
            "margin": null,
            "display": null,
            "left": null
          }
        },
        "772b97c0f0a343c19d0b702d4cf7eacc": {
          "model_module": "@jupyter-widgets/controls",
          "model_name": "FloatProgressModel",
          "state": {
            "_view_name": "ProgressView",
            "style": "IPY_MODEL_0cc93de4e6414756ab01e9fca886d4ff",
            "_dom_classes": [],
            "description": " 33%",
            "_model_name": "FloatProgressModel",
            "bar_style": "",
            "max": 3,
            "_view_module": "@jupyter-widgets/controls",
            "_model_module_version": "1.5.0",
            "value": 1,
            "_view_count": null,
            "_view_module_version": "1.5.0",
            "orientation": "horizontal",
            "min": 0,
            "description_tooltip": null,
            "_model_module": "@jupyter-widgets/controls",
            "layout": "IPY_MODEL_f67796fe72a4470eb65ab75fd8dcc726"
          }
        },
        "b6536403e691499c832321c36ae3ec89": {
          "model_module": "@jupyter-widgets/controls",
          "model_name": "HTMLModel",
          "state": {
            "_view_name": "HTMLView",
            "style": "IPY_MODEL_a92b39253ba54b9686bc759ace841bfb",
            "_dom_classes": [],
            "description": "",
            "_model_name": "HTMLModel",
            "placeholder": "​",
            "_view_module": "@jupyter-widgets/controls",
            "_model_module_version": "1.5.0",
            "value": " 1/3 [4:03:36&lt;8:07:13, 14616.88s/it]",
            "_view_count": null,
            "_view_module_version": "1.5.0",
            "description_tooltip": null,
            "_model_module": "@jupyter-widgets/controls",
            "layout": "IPY_MODEL_036bd21158a04a5da1f2a9127ed4bdb0"
          }
        },
        "0cc93de4e6414756ab01e9fca886d4ff": {
          "model_module": "@jupyter-widgets/controls",
          "model_name": "ProgressStyleModel",
          "state": {
            "_view_name": "StyleView",
            "_model_name": "ProgressStyleModel",
            "description_width": "initial",
            "_view_module": "@jupyter-widgets/base",
            "_model_module_version": "1.5.0",
            "_view_count": null,
            "_view_module_version": "1.2.0",
            "bar_color": null,
            "_model_module": "@jupyter-widgets/controls"
          }
        },
        "f67796fe72a4470eb65ab75fd8dcc726": {
          "model_module": "@jupyter-widgets/base",
          "model_name": "LayoutModel",
          "state": {
            "_view_name": "LayoutView",
            "grid_template_rows": null,
            "right": null,
            "justify_content": null,
            "_view_module": "@jupyter-widgets/base",
            "overflow": null,
            "_model_module_version": "1.2.0",
            "_view_count": null,
            "flex_flow": null,
            "width": null,
            "min_width": null,
            "border": null,
            "align_items": null,
            "bottom": null,
            "_model_module": "@jupyter-widgets/base",
            "top": null,
            "grid_column": null,
            "overflow_y": null,
            "overflow_x": null,
            "grid_auto_flow": null,
            "grid_area": null,
            "grid_template_columns": null,
            "flex": null,
            "_model_name": "LayoutModel",
            "justify_items": null,
            "grid_row": null,
            "max_height": null,
            "align_content": null,
            "visibility": null,
            "align_self": null,
            "height": null,
            "min_height": null,
            "padding": null,
            "grid_auto_rows": null,
            "grid_gap": null,
            "max_width": null,
            "order": null,
            "_view_module_version": "1.2.0",
            "grid_template_areas": null,
            "object_position": null,
            "object_fit": null,
            "grid_auto_columns": null,
            "margin": null,
            "display": null,
            "left": null
          }
        },
        "a92b39253ba54b9686bc759ace841bfb": {
          "model_module": "@jupyter-widgets/controls",
          "model_name": "DescriptionStyleModel",
          "state": {
            "_view_name": "StyleView",
            "_model_name": "DescriptionStyleModel",
            "description_width": "",
            "_view_module": "@jupyter-widgets/base",
            "_model_module_version": "1.5.0",
            "_view_count": null,
            "_view_module_version": "1.2.0",
            "_model_module": "@jupyter-widgets/controls"
          }
        },
        "036bd21158a04a5da1f2a9127ed4bdb0": {
          "model_module": "@jupyter-widgets/base",
          "model_name": "LayoutModel",
          "state": {
            "_view_name": "LayoutView",
            "grid_template_rows": null,
            "right": null,
            "justify_content": null,
            "_view_module": "@jupyter-widgets/base",
            "overflow": null,
            "_model_module_version": "1.2.0",
            "_view_count": null,
            "flex_flow": null,
            "width": null,
            "min_width": null,
            "border": null,
            "align_items": null,
            "bottom": null,
            "_model_module": "@jupyter-widgets/base",
            "top": null,
            "grid_column": null,
            "overflow_y": null,
            "overflow_x": null,
            "grid_auto_flow": null,
            "grid_area": null,
            "grid_template_columns": null,
            "flex": null,
            "_model_name": "LayoutModel",
            "justify_items": null,
            "grid_row": null,
            "max_height": null,
            "align_content": null,
            "visibility": null,
            "align_self": null,
            "height": null,
            "min_height": null,
            "padding": null,
            "grid_auto_rows": null,
            "grid_gap": null,
            "max_width": null,
            "order": null,
            "_view_module_version": "1.2.0",
            "grid_template_areas": null,
            "object_position": null,
            "object_fit": null,
            "grid_auto_columns": null,
            "margin": null,
            "display": null,
            "left": null
          }
        },
        "f32b8d6b8a78422cbdcbfd143d7ce764": {
          "model_module": "@jupyter-widgets/controls",
          "model_name": "HBoxModel",
          "state": {
            "_view_name": "HBoxView",
            "_dom_classes": [],
            "_model_name": "HBoxModel",
            "_view_module": "@jupyter-widgets/controls",
            "_model_module_version": "1.5.0",
            "_view_count": null,
            "_view_module_version": "1.5.0",
            "box_style": "",
            "layout": "IPY_MODEL_caa338af70904c90a6e2173058ee7110",
            "_model_module": "@jupyter-widgets/controls",
            "children": [
              "IPY_MODEL_823e7d22a91c460cb3409c9ac2a14370",
              "IPY_MODEL_213266a680b742ccb5d0112b64d76977"
            ]
          }
        },
        "caa338af70904c90a6e2173058ee7110": {
          "model_module": "@jupyter-widgets/base",
          "model_name": "LayoutModel",
          "state": {
            "_view_name": "LayoutView",
            "grid_template_rows": null,
            "right": null,
            "justify_content": null,
            "_view_module": "@jupyter-widgets/base",
            "overflow": null,
            "_model_module_version": "1.2.0",
            "_view_count": null,
            "flex_flow": null,
            "width": null,
            "min_width": null,
            "border": null,
            "align_items": null,
            "bottom": null,
            "_model_module": "@jupyter-widgets/base",
            "top": null,
            "grid_column": null,
            "overflow_y": null,
            "overflow_x": null,
            "grid_auto_flow": null,
            "grid_area": null,
            "grid_template_columns": null,
            "flex": null,
            "_model_name": "LayoutModel",
            "justify_items": null,
            "grid_row": null,
            "max_height": null,
            "align_content": null,
            "visibility": null,
            "align_self": null,
            "height": null,
            "min_height": null,
            "padding": null,
            "grid_auto_rows": null,
            "grid_gap": null,
            "max_width": null,
            "order": null,
            "_view_module_version": "1.2.0",
            "grid_template_areas": null,
            "object_position": null,
            "object_fit": null,
            "grid_auto_columns": null,
            "margin": null,
            "display": null,
            "left": null
          }
        },
        "823e7d22a91c460cb3409c9ac2a14370": {
          "model_module": "@jupyter-widgets/controls",
          "model_name": "FloatProgressModel",
          "state": {
            "_view_name": "ProgressView",
            "style": "IPY_MODEL_48695e4350264b5baaaaf1af23d9840e",
            "_dom_classes": [],
            "description": "Epoch 1: 100%",
            "_model_name": "FloatProgressModel",
            "bar_style": "",
            "max": 1552,
            "_view_module": "@jupyter-widgets/controls",
            "_model_module_version": "1.5.0",
            "value": 1552,
            "_view_count": null,
            "_view_module_version": "1.5.0",
            "orientation": "horizontal",
            "min": 0,
            "description_tooltip": null,
            "_model_module": "@jupyter-widgets/controls",
            "layout": "IPY_MODEL_c0ae1107c02e490d95b3ed24fd430856"
          }
        },
        "213266a680b742ccb5d0112b64d76977": {
          "model_module": "@jupyter-widgets/controls",
          "model_name": "HTMLModel",
          "state": {
            "_view_name": "HTMLView",
            "style": "IPY_MODEL_bee10a116fe84d948862b6e433146f10",
            "_dom_classes": [],
            "description": "",
            "_model_name": "HTMLModel",
            "placeholder": "​",
            "_view_module": "@jupyter-widgets/controls",
            "_model_module_version": "1.5.0",
            "value": " 1552/1552 [3:51:34&lt;00:00,  8.43s/it, training_loss=0.120]",
            "_view_count": null,
            "_view_module_version": "1.5.0",
            "description_tooltip": null,
            "_model_module": "@jupyter-widgets/controls",
            "layout": "IPY_MODEL_84daf8d2bc3f4cf8a37b6537c519f52d"
          }
        },
        "48695e4350264b5baaaaf1af23d9840e": {
          "model_module": "@jupyter-widgets/controls",
          "model_name": "ProgressStyleModel",
          "state": {
            "_view_name": "StyleView",
            "_model_name": "ProgressStyleModel",
            "description_width": "initial",
            "_view_module": "@jupyter-widgets/base",
            "_model_module_version": "1.5.0",
            "_view_count": null,
            "_view_module_version": "1.2.0",
            "bar_color": null,
            "_model_module": "@jupyter-widgets/controls"
          }
        },
        "c0ae1107c02e490d95b3ed24fd430856": {
          "model_module": "@jupyter-widgets/base",
          "model_name": "LayoutModel",
          "state": {
            "_view_name": "LayoutView",
            "grid_template_rows": null,
            "right": null,
            "justify_content": null,
            "_view_module": "@jupyter-widgets/base",
            "overflow": null,
            "_model_module_version": "1.2.0",
            "_view_count": null,
            "flex_flow": null,
            "width": null,
            "min_width": null,
            "border": null,
            "align_items": null,
            "bottom": null,
            "_model_module": "@jupyter-widgets/base",
            "top": null,
            "grid_column": null,
            "overflow_y": null,
            "overflow_x": null,
            "grid_auto_flow": null,
            "grid_area": null,
            "grid_template_columns": null,
            "flex": null,
            "_model_name": "LayoutModel",
            "justify_items": null,
            "grid_row": null,
            "max_height": null,
            "align_content": null,
            "visibility": null,
            "align_self": null,
            "height": null,
            "min_height": null,
            "padding": null,
            "grid_auto_rows": null,
            "grid_gap": null,
            "max_width": null,
            "order": null,
            "_view_module_version": "1.2.0",
            "grid_template_areas": null,
            "object_position": null,
            "object_fit": null,
            "grid_auto_columns": null,
            "margin": null,
            "display": null,
            "left": null
          }
        },
        "bee10a116fe84d948862b6e433146f10": {
          "model_module": "@jupyter-widgets/controls",
          "model_name": "DescriptionStyleModel",
          "state": {
            "_view_name": "StyleView",
            "_model_name": "DescriptionStyleModel",
            "description_width": "",
            "_view_module": "@jupyter-widgets/base",
            "_model_module_version": "1.5.0",
            "_view_count": null,
            "_view_module_version": "1.2.0",
            "_model_module": "@jupyter-widgets/controls"
          }
        },
        "84daf8d2bc3f4cf8a37b6537c519f52d": {
          "model_module": "@jupyter-widgets/base",
          "model_name": "LayoutModel",
          "state": {
            "_view_name": "LayoutView",
            "grid_template_rows": null,
            "right": null,
            "justify_content": null,
            "_view_module": "@jupyter-widgets/base",
            "overflow": null,
            "_model_module_version": "1.2.0",
            "_view_count": null,
            "flex_flow": null,
            "width": null,
            "min_width": null,
            "border": null,
            "align_items": null,
            "bottom": null,
            "_model_module": "@jupyter-widgets/base",
            "top": null,
            "grid_column": null,
            "overflow_y": null,
            "overflow_x": null,
            "grid_auto_flow": null,
            "grid_area": null,
            "grid_template_columns": null,
            "flex": null,
            "_model_name": "LayoutModel",
            "justify_items": null,
            "grid_row": null,
            "max_height": null,
            "align_content": null,
            "visibility": null,
            "align_self": null,
            "height": null,
            "min_height": null,
            "padding": null,
            "grid_auto_rows": null,
            "grid_gap": null,
            "max_width": null,
            "order": null,
            "_view_module_version": "1.2.0",
            "grid_template_areas": null,
            "object_position": null,
            "object_fit": null,
            "grid_auto_columns": null,
            "margin": null,
            "display": null,
            "left": null
          }
        },
        "c3af8c0353224cea95936cf46568fb3b": {
          "model_module": "@jupyter-widgets/controls",
          "model_name": "HBoxModel",
          "state": {
            "_view_name": "HBoxView",
            "_dom_classes": [],
            "_model_name": "HBoxModel",
            "_view_module": "@jupyter-widgets/controls",
            "_model_module_version": "1.5.0",
            "_view_count": null,
            "_view_module_version": "1.5.0",
            "box_style": "",
            "layout": "IPY_MODEL_0e7f38eb81474b71beca49cb471c4c45",
            "_model_module": "@jupyter-widgets/controls",
            "children": [
              "IPY_MODEL_6354fe6b43664b71ac310522256db1cb",
              "IPY_MODEL_1d0831694e8c48569215ca83c339a75a"
            ]
          }
        },
        "0e7f38eb81474b71beca49cb471c4c45": {
          "model_module": "@jupyter-widgets/base",
          "model_name": "LayoutModel",
          "state": {
            "_view_name": "LayoutView",
            "grid_template_rows": null,
            "right": null,
            "justify_content": null,
            "_view_module": "@jupyter-widgets/base",
            "overflow": null,
            "_model_module_version": "1.2.0",
            "_view_count": null,
            "flex_flow": null,
            "width": null,
            "min_width": null,
            "border": null,
            "align_items": null,
            "bottom": null,
            "_model_module": "@jupyter-widgets/base",
            "top": null,
            "grid_column": null,
            "overflow_y": null,
            "overflow_x": null,
            "grid_auto_flow": null,
            "grid_area": null,
            "grid_template_columns": null,
            "flex": null,
            "_model_name": "LayoutModel",
            "justify_items": null,
            "grid_row": null,
            "max_height": null,
            "align_content": null,
            "visibility": null,
            "align_self": null,
            "height": null,
            "min_height": null,
            "padding": null,
            "grid_auto_rows": null,
            "grid_gap": null,
            "max_width": null,
            "order": null,
            "_view_module_version": "1.2.0",
            "grid_template_areas": null,
            "object_position": null,
            "object_fit": null,
            "grid_auto_columns": null,
            "margin": null,
            "display": null,
            "left": null
          }
        },
        "6354fe6b43664b71ac310522256db1cb": {
          "model_module": "@jupyter-widgets/controls",
          "model_name": "FloatProgressModel",
          "state": {
            "_view_name": "ProgressView",
            "style": "IPY_MODEL_67ca0e7f6e554da2b1f3d9840873eb1b",
            "_dom_classes": [],
            "description": "Epoch 2:   0%",
            "_model_name": "FloatProgressModel",
            "bar_style": "",
            "max": 1552,
            "_view_module": "@jupyter-widgets/controls",
            "_model_module_version": "1.5.0",
            "value": 0,
            "_view_count": null,
            "_view_module_version": "1.5.0",
            "orientation": "horizontal",
            "min": 0,
            "description_tooltip": null,
            "_model_module": "@jupyter-widgets/controls",
            "layout": "IPY_MODEL_36b695cc31e4491ba5d0f272d7486a32"
          }
        },
        "1d0831694e8c48569215ca83c339a75a": {
          "model_module": "@jupyter-widgets/controls",
          "model_name": "HTMLModel",
          "state": {
            "_view_name": "HTMLView",
            "style": "IPY_MODEL_247ef2d042674d39b684dd24c00bd4d0",
            "_dom_classes": [],
            "description": "",
            "_model_name": "HTMLModel",
            "placeholder": "​",
            "_view_module": "@jupyter-widgets/controls",
            "_model_module_version": "1.5.0",
            "value": " 0/1552 [00:00&lt;?, ?it/s]",
            "_view_count": null,
            "_view_module_version": "1.5.0",
            "description_tooltip": null,
            "_model_module": "@jupyter-widgets/controls",
            "layout": "IPY_MODEL_17f881b9d3354294bc1d20a8d533a48e"
          }
        },
        "67ca0e7f6e554da2b1f3d9840873eb1b": {
          "model_module": "@jupyter-widgets/controls",
          "model_name": "ProgressStyleModel",
          "state": {
            "_view_name": "StyleView",
            "_model_name": "ProgressStyleModel",
            "description_width": "initial",
            "_view_module": "@jupyter-widgets/base",
            "_model_module_version": "1.5.0",
            "_view_count": null,
            "_view_module_version": "1.2.0",
            "bar_color": null,
            "_model_module": "@jupyter-widgets/controls"
          }
        },
        "36b695cc31e4491ba5d0f272d7486a32": {
          "model_module": "@jupyter-widgets/base",
          "model_name": "LayoutModel",
          "state": {
            "_view_name": "LayoutView",
            "grid_template_rows": null,
            "right": null,
            "justify_content": null,
            "_view_module": "@jupyter-widgets/base",
            "overflow": null,
            "_model_module_version": "1.2.0",
            "_view_count": null,
            "flex_flow": null,
            "width": null,
            "min_width": null,
            "border": null,
            "align_items": null,
            "bottom": null,
            "_model_module": "@jupyter-widgets/base",
            "top": null,
            "grid_column": null,
            "overflow_y": null,
            "overflow_x": null,
            "grid_auto_flow": null,
            "grid_area": null,
            "grid_template_columns": null,
            "flex": null,
            "_model_name": "LayoutModel",
            "justify_items": null,
            "grid_row": null,
            "max_height": null,
            "align_content": null,
            "visibility": null,
            "align_self": null,
            "height": null,
            "min_height": null,
            "padding": null,
            "grid_auto_rows": null,
            "grid_gap": null,
            "max_width": null,
            "order": null,
            "_view_module_version": "1.2.0",
            "grid_template_areas": null,
            "object_position": null,
            "object_fit": null,
            "grid_auto_columns": null,
            "margin": null,
            "display": null,
            "left": null
          }
        },
        "247ef2d042674d39b684dd24c00bd4d0": {
          "model_module": "@jupyter-widgets/controls",
          "model_name": "DescriptionStyleModel",
          "state": {
            "_view_name": "StyleView",
            "_model_name": "DescriptionStyleModel",
            "description_width": "",
            "_view_module": "@jupyter-widgets/base",
            "_model_module_version": "1.5.0",
            "_view_count": null,
            "_view_module_version": "1.2.0",
            "_model_module": "@jupyter-widgets/controls"
          }
        },
        "17f881b9d3354294bc1d20a8d533a48e": {
          "model_module": "@jupyter-widgets/base",
          "model_name": "LayoutModel",
          "state": {
            "_view_name": "LayoutView",
            "grid_template_rows": null,
            "right": null,
            "justify_content": null,
            "_view_module": "@jupyter-widgets/base",
            "overflow": null,
            "_model_module_version": "1.2.0",
            "_view_count": null,
            "flex_flow": null,
            "width": null,
            "min_width": null,
            "border": null,
            "align_items": null,
            "bottom": null,
            "_model_module": "@jupyter-widgets/base",
            "top": null,
            "grid_column": null,
            "overflow_y": null,
            "overflow_x": null,
            "grid_auto_flow": null,
            "grid_area": null,
            "grid_template_columns": null,
            "flex": null,
            "_model_name": "LayoutModel",
            "justify_items": null,
            "grid_row": null,
            "max_height": null,
            "align_content": null,
            "visibility": null,
            "align_self": null,
            "height": null,
            "min_height": null,
            "padding": null,
            "grid_auto_rows": null,
            "grid_gap": null,
            "max_width": null,
            "order": null,
            "_view_module_version": "1.2.0",
            "grid_template_areas": null,
            "object_position": null,
            "object_fit": null,
            "grid_auto_columns": null,
            "margin": null,
            "display": null,
            "left": null
          }
        }
      }
=======
     "base_uri": "https://localhost:8080/"
    },
    "id": "mb2uaoHhB0sa",
    "outputId": "65e6a03a-74e2-41d6-c50a-d3e10702275e"
   },
   "outputs": [
    {
     "name": "stdout",
     "output_type": "stream",
     "text": [
      "Collecting transformers\n",
      "\u001b[?25l  Downloading https://files.pythonhosted.org/packages/50/0c/7d5950fcd80b029be0a8891727ba21e0cd27692c407c51261c3c921f6da3/transformers-4.1.1-py3-none-any.whl (1.5MB)\n",
      "\u001b[K     |████████████████████████████████| 1.5MB 4.3MB/s \n",
      "\u001b[?25hRequirement already satisfied: dataclasses; python_version < \"3.7\" in /usr/local/lib/python3.6/dist-packages (from transformers) (0.8)\n",
      "Requirement already satisfied: requests in /usr/local/lib/python3.6/dist-packages (from transformers) (2.23.0)\n",
      "Requirement already satisfied: tqdm>=4.27 in /usr/local/lib/python3.6/dist-packages (from transformers) (4.41.1)\n",
      "Collecting tokenizers==0.9.4\n",
      "\u001b[?25l  Downloading https://files.pythonhosted.org/packages/0f/1c/e789a8b12e28be5bc1ce2156cf87cb522b379be9cadc7ad8091a4cc107c4/tokenizers-0.9.4-cp36-cp36m-manylinux2010_x86_64.whl (2.9MB)\n",
      "\u001b[K     |████████████████████████████████| 2.9MB 37.7MB/s \n",
      "\u001b[?25hRequirement already satisfied: numpy in /usr/local/lib/python3.6/dist-packages (from transformers) (1.19.4)\n",
      "Collecting sacremoses\n",
      "\u001b[?25l  Downloading https://files.pythonhosted.org/packages/7d/34/09d19aff26edcc8eb2a01bed8e98f13a1537005d31e95233fd48216eed10/sacremoses-0.0.43.tar.gz (883kB)\n",
      "\u001b[K     |████████████████████████████████| 890kB 35.4MB/s \n",
      "\u001b[?25hRequirement already satisfied: packaging in /usr/local/lib/python3.6/dist-packages (from transformers) (20.8)\n",
      "Requirement already satisfied: filelock in /usr/local/lib/python3.6/dist-packages (from transformers) (3.0.12)\n",
      "Requirement already satisfied: regex!=2019.12.17 in /usr/local/lib/python3.6/dist-packages (from transformers) (2019.12.20)\n",
      "Requirement already satisfied: urllib3!=1.25.0,!=1.25.1,<1.26,>=1.21.1 in /usr/local/lib/python3.6/dist-packages (from requests->transformers) (1.24.3)\n",
      "Requirement already satisfied: chardet<4,>=3.0.2 in /usr/local/lib/python3.6/dist-packages (from requests->transformers) (3.0.4)\n",
      "Requirement already satisfied: certifi>=2017.4.17 in /usr/local/lib/python3.6/dist-packages (from requests->transformers) (2020.12.5)\n",
      "Requirement already satisfied: idna<3,>=2.5 in /usr/local/lib/python3.6/dist-packages (from requests->transformers) (2.10)\n",
      "Requirement already satisfied: six in /usr/local/lib/python3.6/dist-packages (from sacremoses->transformers) (1.15.0)\n",
      "Requirement already satisfied: click in /usr/local/lib/python3.6/dist-packages (from sacremoses->transformers) (7.1.2)\n",
      "Requirement already satisfied: joblib in /usr/local/lib/python3.6/dist-packages (from sacremoses->transformers) (1.0.0)\n",
      "Requirement already satisfied: pyparsing>=2.0.2 in /usr/local/lib/python3.6/dist-packages (from packaging->transformers) (2.4.7)\n",
      "Building wheels for collected packages: sacremoses\n",
      "  Building wheel for sacremoses (setup.py) ... \u001b[?25l\u001b[?25hdone\n",
      "  Created wheel for sacremoses: filename=sacremoses-0.0.43-cp36-none-any.whl size=893261 sha256=e85a1c7241f6af45c2b2d629a6e1d1b40190fb13f61784ec72b05b4393d69a82\n",
      "  Stored in directory: /root/.cache/pip/wheels/29/3c/fd/7ce5c3f0666dab31a50123635e6fb5e19ceb42ce38d4e58f45\n",
      "Successfully built sacremoses\n",
      "Installing collected packages: tokenizers, sacremoses, transformers\n",
      "Successfully installed sacremoses-0.0.43 tokenizers-0.9.4 transformers-4.1.1\n"
     ]
>>>>>>> 0f39f68f9786158b1c3bb11c3e68d2c21edb3658
    }
   ],
   "source": [
    "!pip install transformers"
   ]
  },
  {
   "cell_type": "code",
   "execution_count": 4,
   "metadata": {
    "id": "8OsvQqhE4T4N"
   },
   "outputs": [],
   "source": [
    "import torch\n",
    "from tqdm.notebook import tqdm\n",
    "\n",
    "from transformers import BertTokenizer\n",
    "from torch.utils.data import TensorDataset\n",
    "\n",
    "from transformers import BertForSequenceClassification"
   ]
  },
  {
   "cell_type": "code",
   "execution_count": 5,
   "metadata": {
    "colab": {
     "base_uri": "https://localhost:8080/"
    },
    "id": "M1JyQE7l4A5p",
    "outputId": "12bacf07-8dc7-4c16-cfd8-6640f1da8104"
   },
   "outputs": [
    {
<<<<<<< HEAD
      "cell_type": "code",
      "metadata": {
        "colab": {
          "base_uri": "https://localhost:8080/"
        },
        "id": "mb2uaoHhB0sa",
        "outputId": "973133ee-2cea-49fd-df79-43cff5eef001"
      },
      "source": [
        "!pip install transformers"
      ],
      "execution_count": 1,
      "outputs": [
        {
          "output_type": "stream",
          "text": [
            "Collecting transformers\n",
            "\u001b[?25l  Downloading https://files.pythonhosted.org/packages/50/0c/7d5950fcd80b029be0a8891727ba21e0cd27692c407c51261c3c921f6da3/transformers-4.1.1-py3-none-any.whl (1.5MB)\n",
            "\r\u001b[K     |▏                               | 10kB 17.1MB/s eta 0:00:01\r\u001b[K     |▍                               | 20kB 22.2MB/s eta 0:00:01\r\u001b[K     |▋                               | 30kB 17.2MB/s eta 0:00:01\r\u001b[K     |▉                               | 40kB 11.7MB/s eta 0:00:01\r\u001b[K     |█                               | 51kB 8.3MB/s eta 0:00:01\r\u001b[K     |█▎                              | 61kB 8.8MB/s eta 0:00:01\r\u001b[K     |█▌                              | 71kB 9.0MB/s eta 0:00:01\r\u001b[K     |█▊                              | 81kB 8.8MB/s eta 0:00:01\r\u001b[K     |██                              | 92kB 9.0MB/s eta 0:00:01\r\u001b[K     |██▏                             | 102kB 7.8MB/s eta 0:00:01\r\u001b[K     |██▍                             | 112kB 7.8MB/s eta 0:00:01\r\u001b[K     |██▋                             | 122kB 7.8MB/s eta 0:00:01\r\u001b[K     |██▉                             | 133kB 7.8MB/s eta 0:00:01\r\u001b[K     |███                             | 143kB 7.8MB/s eta 0:00:01\r\u001b[K     |███▎                            | 153kB 7.8MB/s eta 0:00:01\r\u001b[K     |███▌                            | 163kB 7.8MB/s eta 0:00:01\r\u001b[K     |███▊                            | 174kB 7.8MB/s eta 0:00:01\r\u001b[K     |████                            | 184kB 7.8MB/s eta 0:00:01\r\u001b[K     |████▏                           | 194kB 7.8MB/s eta 0:00:01\r\u001b[K     |████▎                           | 204kB 7.8MB/s eta 0:00:01\r\u001b[K     |████▌                           | 215kB 7.8MB/s eta 0:00:01\r\u001b[K     |████▊                           | 225kB 7.8MB/s eta 0:00:01\r\u001b[K     |█████                           | 235kB 7.8MB/s eta 0:00:01\r\u001b[K     |█████▏                          | 245kB 7.8MB/s eta 0:00:01\r\u001b[K     |█████▍                          | 256kB 7.8MB/s eta 0:00:01\r\u001b[K     |█████▋                          | 266kB 7.8MB/s eta 0:00:01\r\u001b[K     |█████▉                          | 276kB 7.8MB/s eta 0:00:01\r\u001b[K     |██████                          | 286kB 7.8MB/s eta 0:00:01\r\u001b[K     |██████▎                         | 296kB 7.8MB/s eta 0:00:01\r\u001b[K     |██████▌                         | 307kB 7.8MB/s eta 0:00:01\r\u001b[K     |██████▊                         | 317kB 7.8MB/s eta 0:00:01\r\u001b[K     |███████                         | 327kB 7.8MB/s eta 0:00:01\r\u001b[K     |███████▏                        | 337kB 7.8MB/s eta 0:00:01\r\u001b[K     |███████▍                        | 348kB 7.8MB/s eta 0:00:01\r\u001b[K     |███████▋                        | 358kB 7.8MB/s eta 0:00:01\r\u001b[K     |███████▉                        | 368kB 7.8MB/s eta 0:00:01\r\u001b[K     |████████                        | 378kB 7.8MB/s eta 0:00:01\r\u001b[K     |████████▎                       | 389kB 7.8MB/s eta 0:00:01\r\u001b[K     |████████▌                       | 399kB 7.8MB/s eta 0:00:01\r\u001b[K     |████████▋                       | 409kB 7.8MB/s eta 0:00:01\r\u001b[K     |████████▉                       | 419kB 7.8MB/s eta 0:00:01\r\u001b[K     |█████████                       | 430kB 7.8MB/s eta 0:00:01\r\u001b[K     |█████████▎                      | 440kB 7.8MB/s eta 0:00:01\r\u001b[K     |█████████▌                      | 450kB 7.8MB/s eta 0:00:01\r\u001b[K     |█████████▊                      | 460kB 7.8MB/s eta 0:00:01\r\u001b[K     |██████████                      | 471kB 7.8MB/s eta 0:00:01\r\u001b[K     |██████████▏                     | 481kB 7.8MB/s eta 0:00:01\r\u001b[K     |██████████▍                     | 491kB 7.8MB/s eta 0:00:01\r\u001b[K     |██████████▋                     | 501kB 7.8MB/s eta 0:00:01\r\u001b[K     |██████████▉                     | 512kB 7.8MB/s eta 0:00:01\r\u001b[K     |███████████                     | 522kB 7.8MB/s eta 0:00:01\r\u001b[K     |███████████▎                    | 532kB 7.8MB/s eta 0:00:01\r\u001b[K     |███████████▌                    | 542kB 7.8MB/s eta 0:00:01\r\u001b[K     |███████████▊                    | 552kB 7.8MB/s eta 0:00:01\r\u001b[K     |████████████                    | 563kB 7.8MB/s eta 0:00:01\r\u001b[K     |████████████▏                   | 573kB 7.8MB/s eta 0:00:01\r\u001b[K     |████████████▍                   | 583kB 7.8MB/s eta 0:00:01\r\u001b[K     |████████████▋                   | 593kB 7.8MB/s eta 0:00:01\r\u001b[K     |████████████▉                   | 604kB 7.8MB/s eta 0:00:01\r\u001b[K     |█████████████                   | 614kB 7.8MB/s eta 0:00:01\r\u001b[K     |█████████████▏                  | 624kB 7.8MB/s eta 0:00:01\r\u001b[K     |█████████████▍                  | 634kB 7.8MB/s eta 0:00:01\r\u001b[K     |█████████████▋                  | 645kB 7.8MB/s eta 0:00:01\r\u001b[K     |█████████████▉                  | 655kB 7.8MB/s eta 0:00:01\r\u001b[K     |██████████████                  | 665kB 7.8MB/s eta 0:00:01\r\u001b[K     |██████████████▎                 | 675kB 7.8MB/s eta 0:00:01\r\u001b[K     |██████████████▌                 | 686kB 7.8MB/s eta 0:00:01\r\u001b[K     |██████████████▊                 | 696kB 7.8MB/s eta 0:00:01\r\u001b[K     |███████████████                 | 706kB 7.8MB/s eta 0:00:01\r\u001b[K     |███████████████▏                | 716kB 7.8MB/s eta 0:00:01\r\u001b[K     |███████████████▍                | 727kB 7.8MB/s eta 0:00:01\r\u001b[K     |███████████████▋                | 737kB 7.8MB/s eta 0:00:01\r\u001b[K     |███████████████▉                | 747kB 7.8MB/s eta 0:00:01\r\u001b[K     |████████████████                | 757kB 7.8MB/s eta 0:00:01\r\u001b[K     |████████████████▎               | 768kB 7.8MB/s eta 0:00:01\r\u001b[K     |████████████████▌               | 778kB 7.8MB/s eta 0:00:01\r\u001b[K     |████████████████▊               | 788kB 7.8MB/s eta 0:00:01\r\u001b[K     |█████████████████               | 798kB 7.8MB/s eta 0:00:01\r\u001b[K     |█████████████████               | 808kB 7.8MB/s eta 0:00:01\r\u001b[K     |█████████████████▎              | 819kB 7.8MB/s eta 0:00:01\r\u001b[K     |█████████████████▌              | 829kB 7.8MB/s eta 0:00:01\r\u001b[K     |█████████████████▊              | 839kB 7.8MB/s eta 0:00:01\r\u001b[K     |██████████████████              | 849kB 7.8MB/s eta 0:00:01\r\u001b[K     |██████████████████▏             | 860kB 7.8MB/s eta 0:00:01\r\u001b[K     |██████████████████▍             | 870kB 7.8MB/s eta 0:00:01\r\u001b[K     |██████████████████▋             | 880kB 7.8MB/s eta 0:00:01\r\u001b[K     |██████████████████▉             | 890kB 7.8MB/s eta 0:00:01\r\u001b[K     |███████████████████             | 901kB 7.8MB/s eta 0:00:01\r\u001b[K     |███████████████████▎            | 911kB 7.8MB/s eta 0:00:01\r\u001b[K     |███████████████████▌            | 921kB 7.8MB/s eta 0:00:01\r\u001b[K     |███████████████████▊            | 931kB 7.8MB/s eta 0:00:01\r\u001b[K     |████████████████████            | 942kB 7.8MB/s eta 0:00:01\r\u001b[K     |████████████████████▏           | 952kB 7.8MB/s eta 0:00:01\r\u001b[K     |████████████████████▍           | 962kB 7.8MB/s eta 0:00:01\r\u001b[K     |████████████████████▋           | 972kB 7.8MB/s eta 0:00:01\r\u001b[K     |████████████████████▉           | 983kB 7.8MB/s eta 0:00:01\r\u001b[K     |█████████████████████           | 993kB 7.8MB/s eta 0:00:01\r\u001b[K     |█████████████████████▎          | 1.0MB 7.8MB/s eta 0:00:01\r\u001b[K     |█████████████████████▍          | 1.0MB 7.8MB/s eta 0:00:01\r\u001b[K     |█████████████████████▋          | 1.0MB 7.8MB/s eta 0:00:01\r\u001b[K     |█████████████████████▉          | 1.0MB 7.8MB/s eta 0:00:01\r\u001b[K     |██████████████████████          | 1.0MB 7.8MB/s eta 0:00:01\r\u001b[K     |██████████████████████▎         | 1.1MB 7.8MB/s eta 0:00:01\r\u001b[K     |██████████████████████▌         | 1.1MB 7.8MB/s eta 0:00:01\r\u001b[K     |██████████████████████▊         | 1.1MB 7.8MB/s eta 0:00:01\r\u001b[K     |███████████████████████         | 1.1MB 7.8MB/s eta 0:00:01\r\u001b[K     |███████████████████████▏        | 1.1MB 7.8MB/s eta 0:00:01\r\u001b[K     |███████████████████████▍        | 1.1MB 7.8MB/s eta 0:00:01\r\u001b[K     |███████████████████████▋        | 1.1MB 7.8MB/s eta 0:00:01\r\u001b[K     |███████████████████████▉        | 1.1MB 7.8MB/s eta 0:00:01\r\u001b[K     |████████████████████████        | 1.1MB 7.8MB/s eta 0:00:01\r\u001b[K     |████████████████████████▎       | 1.1MB 7.8MB/s eta 0:00:01\r\u001b[K     |████████████████████████▌       | 1.2MB 7.8MB/s eta 0:00:01\r\u001b[K     |████████████████████████▊       | 1.2MB 7.8MB/s eta 0:00:01\r\u001b[K     |█████████████████████████       | 1.2MB 7.8MB/s eta 0:00:01\r\u001b[K     |█████████████████████████▏      | 1.2MB 7.8MB/s eta 0:00:01\r\u001b[K     |█████████████████████████▍      | 1.2MB 7.8MB/s eta 0:00:01\r\u001b[K     |█████████████████████████▋      | 1.2MB 7.8MB/s eta 0:00:01\r\u001b[K     |█████████████████████████▊      | 1.2MB 7.8MB/s eta 0:00:01\r\u001b[K     |██████████████████████████      | 1.2MB 7.8MB/s eta 0:00:01\r\u001b[K     |██████████████████████████▏     | 1.2MB 7.8MB/s eta 0:00:01\r\u001b[K     |██████████████████████████▍     | 1.2MB 7.8MB/s eta 0:00:01\r\u001b[K     |██████████████████████████▋     | 1.3MB 7.8MB/s eta 0:00:01\r\u001b[K     |██████████████████████████▉     | 1.3MB 7.8MB/s eta 0:00:01\r\u001b[K     |███████████████████████████     | 1.3MB 7.8MB/s eta 0:00:01\r\u001b[K     |███████████████████████████▎    | 1.3MB 7.8MB/s eta 0:00:01\r\u001b[K     |███████████████████████████▌    | 1.3MB 7.8MB/s eta 0:00:01\r\u001b[K     |███████████████████████████▊    | 1.3MB 7.8MB/s eta 0:00:01\r\u001b[K     |████████████████████████████    | 1.3MB 7.8MB/s eta 0:00:01\r\u001b[K     |████████████████████████████▏   | 1.3MB 7.8MB/s eta 0:00:01\r\u001b[K     |████████████████████████████▍   | 1.3MB 7.8MB/s eta 0:00:01\r\u001b[K     |████████████████████████████▋   | 1.4MB 7.8MB/s eta 0:00:01\r\u001b[K     |████████████████████████████▉   | 1.4MB 7.8MB/s eta 0:00:01\r\u001b[K     |█████████████████████████████   | 1.4MB 7.8MB/s eta 0:00:01\r\u001b[K     |█████████████████████████████▎  | 1.4MB 7.8MB/s eta 0:00:01\r\u001b[K     |█████████████████████████████▌  | 1.4MB 7.8MB/s eta 0:00:01\r\u001b[K     |█████████████████████████████▊  | 1.4MB 7.8MB/s eta 0:00:01\r\u001b[K     |█████████████████████████████▉  | 1.4MB 7.8MB/s eta 0:00:01\r\u001b[K     |██████████████████████████████  | 1.4MB 7.8MB/s eta 0:00:01\r\u001b[K     |██████████████████████████████▎ | 1.4MB 7.8MB/s eta 0:00:01\r\u001b[K     |██████████████████████████████▌ | 1.4MB 7.8MB/s eta 0:00:01\r\u001b[K     |██████████████████████████████▊ | 1.5MB 7.8MB/s eta 0:00:01\r\u001b[K     |███████████████████████████████ | 1.5MB 7.8MB/s eta 0:00:01\r\u001b[K     |███████████████████████████████▏| 1.5MB 7.8MB/s eta 0:00:01\r\u001b[K     |███████████████████████████████▍| 1.5MB 7.8MB/s eta 0:00:01\r\u001b[K     |███████████████████████████████▋| 1.5MB 7.8MB/s eta 0:00:01\r\u001b[K     |███████████████████████████████▉| 1.5MB 7.8MB/s eta 0:00:01\r\u001b[K     |████████████████████████████████| 1.5MB 7.8MB/s \n",
            "\u001b[?25hRequirement already satisfied: packaging in /usr/local/lib/python3.6/dist-packages (from transformers) (20.8)\n",
            "Collecting tokenizers==0.9.4\n",
            "\u001b[?25l  Downloading https://files.pythonhosted.org/packages/0f/1c/e789a8b12e28be5bc1ce2156cf87cb522b379be9cadc7ad8091a4cc107c4/tokenizers-0.9.4-cp36-cp36m-manylinux2010_x86_64.whl (2.9MB)\n",
            "\u001b[K     |████████████████████████████████| 2.9MB 26.7MB/s \n",
            "\u001b[?25hRequirement already satisfied: requests in /usr/local/lib/python3.6/dist-packages (from transformers) (2.23.0)\n",
            "Requirement already satisfied: tqdm>=4.27 in /usr/local/lib/python3.6/dist-packages (from transformers) (4.41.1)\n",
            "Requirement already satisfied: numpy in /usr/local/lib/python3.6/dist-packages (from transformers) (1.19.4)\n",
            "Requirement already satisfied: dataclasses; python_version < \"3.7\" in /usr/local/lib/python3.6/dist-packages (from transformers) (0.8)\n",
            "Collecting sacremoses\n",
            "\u001b[?25l  Downloading https://files.pythonhosted.org/packages/7d/34/09d19aff26edcc8eb2a01bed8e98f13a1537005d31e95233fd48216eed10/sacremoses-0.0.43.tar.gz (883kB)\n",
            "\u001b[K     |████████████████████████████████| 890kB 41.1MB/s \n",
            "\u001b[?25hRequirement already satisfied: regex!=2019.12.17 in /usr/local/lib/python3.6/dist-packages (from transformers) (2019.12.20)\n",
            "Requirement already satisfied: filelock in /usr/local/lib/python3.6/dist-packages (from transformers) (3.0.12)\n",
            "Requirement already satisfied: pyparsing>=2.0.2 in /usr/local/lib/python3.6/dist-packages (from packaging->transformers) (2.4.7)\n",
            "Requirement already satisfied: chardet<4,>=3.0.2 in /usr/local/lib/python3.6/dist-packages (from requests->transformers) (3.0.4)\n",
            "Requirement already satisfied: certifi>=2017.4.17 in /usr/local/lib/python3.6/dist-packages (from requests->transformers) (2020.12.5)\n",
            "Requirement already satisfied: urllib3!=1.25.0,!=1.25.1,<1.26,>=1.21.1 in /usr/local/lib/python3.6/dist-packages (from requests->transformers) (1.24.3)\n",
            "Requirement already satisfied: idna<3,>=2.5 in /usr/local/lib/python3.6/dist-packages (from requests->transformers) (2.10)\n",
            "Requirement already satisfied: six in /usr/local/lib/python3.6/dist-packages (from sacremoses->transformers) (1.15.0)\n",
            "Requirement already satisfied: click in /usr/local/lib/python3.6/dist-packages (from sacremoses->transformers) (7.1.2)\n",
            "Requirement already satisfied: joblib in /usr/local/lib/python3.6/dist-packages (from sacremoses->transformers) (1.0.0)\n",
            "Building wheels for collected packages: sacremoses\n",
            "  Building wheel for sacremoses (setup.py) ... \u001b[?25l\u001b[?25hdone\n",
            "  Created wheel for sacremoses: filename=sacremoses-0.0.43-cp36-none-any.whl size=893261 sha256=432573480754a8a1168038e0a511291cf9d68321f39c0ca3c80d54bd4109a1cc\n",
            "  Stored in directory: /root/.cache/pip/wheels/29/3c/fd/7ce5c3f0666dab31a50123635e6fb5e19ceb42ce38d4e58f45\n",
            "Successfully built sacremoses\n",
            "Installing collected packages: tokenizers, sacremoses, transformers\n",
            "Successfully installed sacremoses-0.0.43 tokenizers-0.9.4 transformers-4.1.1\n"
          ],
          "name": "stdout"
        }
=======
     "data": {
      "text/plain": [
       "{'affectivetext',\n",
       " 'crowdflower',\n",
       " 'dailydialogues',\n",
       " 'electoraltweets',\n",
       " 'emoint',\n",
       " 'emotion-cause',\n",
       " 'emotiondata-aman',\n",
       " 'fb-valence-arousal-anon',\n",
       " 'grounded_emotions',\n",
       " 'isear',\n",
       " 'ssec',\n",
       " 'tales-emotion',\n",
       " 'tec'}"
>>>>>>> 0f39f68f9786158b1c3bb11c3e68d2c21edb3658
      ]
     },
     "execution_count": 5,
     "metadata": {
      "tags": []
     },
     "output_type": "execute_result"
    }
   ],
   "source": [
    "# imports\n",
    "import numpy as np\n",
    "import pandas as pd\n",
    "\n",
    "# set pandas to display the maximum range if necessary\n",
    "pd.set_option(\"display.max_rows\", None, \"display.max_columns\", None, \"display.max_colwidth\", None)\n",
    "pd.options.mode.chained_assignment = None  # default='warn'\n",
    "\n",
    "df = pd.read_json (r'/content/drive/MyDrive/Colab Notebooks/emotion_data/unified-dataset.json', lines=True)\n",
    "set(df['source'])"
   ]
  },
  {
   "cell_type": "code",
   "execution_count": 6,
   "metadata": {
    "colab": {
     "base_uri": "https://localhost:8080/",
     "height": 133
    },
    "id": "aKWdglmZ4mHT",
    "outputId": "39bea79b-8d2e-4f90-d101-f0dc22831625"
   },
   "outputs": [
    {
<<<<<<< HEAD
      "cell_type": "code",
      "metadata": {
        "id": "8OsvQqhE4T4N"
      },
      "source": [
        "import torch\n",
        "from tqdm.notebook import tqdm\n",
        "\n",
        "from transformers import BertTokenizer\n",
        "from torch.utils.data import TensorDataset\n",
        "\n",
        "from transformers import BertForSequenceClassification"
      ],
      "execution_count": 2,
      "outputs": []
    },
    {
      "cell_type": "markdown",
      "metadata": {
        "id": "CTewlxNQ4jaG"
      },
      "source": [
        "#**How to replicate the code**\n",
        "\n",
        "This is one of the checkpoints, **Checkpoint: O**. So to run the script, when you're running it for trained on Isear and evaluated on Isear, then proceed normally until you reach **Checkpoint S** and then stop. But when you want to train on Isear and evaluate Tales, skip the part of the code till you find **Checkpoint: P** and you need to run that until **Checkpoint: Q** and come back to **Checkpoint: R** until you can reach **Checkpoint: X**. And then finally find and execute the section with **Checkpoints S to T**."
      ]
    },
    {
      "cell_type": "markdown",
      "metadata": {
        "id": "wEZK7AkHy8om"
      },
      "source": [
        "**Load the Unified Dataset and find all the unique datasets in it.**"
      ]
    },
    {
      "cell_type": "code",
      "metadata": {
        "colab": {
          "base_uri": "https://localhost:8080/"
        },
        "id": "M1JyQE7l4A5p",
        "outputId": "cae24aba-7626-4572-b34f-29661d4d675e"
      },
      "source": [
        "# imports\n",
        "import numpy as np\n",
        "import pandas as pd\n",
        "\n",
        "# set pandas to display the maximum range if necessary\n",
        "pd.set_option(\"display.max_rows\", None, \"display.max_columns\", None, \"display.max_colwidth\", None)\n",
        "pd.options.mode.chained_assignment = None  # default='warn'\n",
        "\n",
        "df = pd.read_json (r'/content/drive/MyDrive/Colab Notebooks/emotion_data/unified-dataset.json', lines=True)\n",
        "set(df['source'])"
      ],
      "execution_count": 3,
      "outputs": [
        {
          "output_type": "execute_result",
          "data": {
            "text/plain": [
              "{'affectivetext',\n",
              " 'crowdflower',\n",
              " 'dailydialogues',\n",
              " 'electoraltweets',\n",
              " 'emoint',\n",
              " 'emotion-cause',\n",
              " 'emotiondata-aman',\n",
              " 'fb-valence-arousal-anon',\n",
              " 'grounded_emotions',\n",
              " 'isear',\n",
              " 'ssec',\n",
              " 'tales-emotion',\n",
              " 'tec'}"
            ]
          },
          "metadata": {
            "tags": []
          },
          "execution_count": 3
        }
=======
     "name": "stdout",
     "output_type": "stream",
     "text": [
      "7666\n"
     ]
    },
    {
     "data": {
      "text/html": [
       "<div>\n",
       "<style scoped>\n",
       "    .dataframe tbody tr th:only-of-type {\n",
       "        vertical-align: middle;\n",
       "    }\n",
       "\n",
       "    .dataframe tbody tr th {\n",
       "        vertical-align: top;\n",
       "    }\n",
       "\n",
       "    .dataframe thead th {\n",
       "        text-align: right;\n",
       "    }\n",
       "</style>\n",
       "<table border=\"1\" class=\"dataframe\">\n",
       "  <thead>\n",
       "    <tr style=\"text-align: right;\">\n",
       "      <th></th>\n",
       "      <th>id</th>\n",
       "      <th>VAD</th>\n",
       "      <th>source</th>\n",
       "      <th>text</th>\n",
       "      <th>emotions</th>\n",
       "      <th>split</th>\n",
       "      <th>emotion_model</th>\n",
       "      <th>annotation_procedure</th>\n",
       "      <th>domain</th>\n",
       "      <th>labeled</th>\n",
       "      <th>optional</th>\n",
       "    </tr>\n",
       "  </thead>\n",
       "  <tbody>\n",
       "    <tr>\n",
       "      <th>146188</th>\n",
       "      <td>146188</td>\n",
       "      <td>{'valence': None, 'arousal': None, 'dominance': None}</td>\n",
       "      <td>isear</td>\n",
       "      <td>During the period of falling in love, each time that we met and especially when we had not met for a long time.</td>\n",
       "      <td>{'joy': 1, 'anger': 0, 'sadness': 0, 'disgust': 0, 'fear': 0, 'trust': None, 'surprise': None, 'love': None, 'noemo': None, 'confusion': None, 'anticipation': None, 'shame': 0, 'guilt': 0}</td>\n",
       "      <td>None</td>\n",
       "      <td>NaN</td>\n",
       "      <td>NaN</td>\n",
       "      <td>emotional_events</td>\n",
       "      <td>single</td>\n",
       "      <td>NaN</td>\n",
       "    </tr>\n",
       "  </tbody>\n",
       "</table>\n",
       "</div>"
      ],
      "text/plain": [
       "            id                                                    VAD source  \\\n",
       "146188  146188  {'valence': None, 'arousal': None, 'dominance': None}  isear   \n",
       "\n",
       "                                                                                                                   text  \\\n",
       "146188  During the period of falling in love, each time that we met and especially when we had not met for a long time.   \n",
       "\n",
       "                                                                                                                                                                                            emotions  \\\n",
       "146188  {'joy': 1, 'anger': 0, 'sadness': 0, 'disgust': 0, 'fear': 0, 'trust': None, 'surprise': None, 'love': None, 'noemo': None, 'confusion': None, 'anticipation': None, 'shame': 0, 'guilt': 0}   \n",
       "\n",
       "       split emotion_model annotation_procedure            domain labeled  \\\n",
       "146188  None           NaN                  NaN  emotional_events  single   \n",
       "\n",
       "       optional  \n",
       "146188      NaN  "
>>>>>>> 0f39f68f9786158b1c3bb11c3e68d2c21edb3658
      ]
     },
     "execution_count": 6,
     "metadata": {
      "tags": []
     },
     "output_type": "execute_result"
    }
   ],
   "source": [
    "print(len(df.loc[df['source'] == 'isear']))\n",
    "df_isear = df.loc[df['source'] == 'isear']\n",
    "df_isear[:1]"
   ]
  },
  {
   "cell_type": "code",
   "execution_count": 7,
   "metadata": {
    "colab": {
     "base_uri": "https://localhost:8080/",
     "height": 112
    },
    "id": "QrtdBvKbBm99",
    "outputId": "003888a2-6a9c-4c53-a08c-d9868df6850d"
   },
   "outputs": [
    {
<<<<<<< HEAD
      "cell_type": "markdown",
      "metadata": {
        "id": "OLsYaV9IyxTs"
      },
      "source": [
        "**Extract Isear for analysis**"
      ]
    },
    {
      "cell_type": "code",
      "metadata": {
        "colab": {
          "base_uri": "https://localhost:8080/",
          "height": 396
        },
        "id": "aKWdglmZ4mHT",
        "outputId": "36a78959-99fd-49a5-8b5b-edfbffeeabcc"
      },
      "source": [
        "print(len(df.loc[df['source'] == 'isear']))\n",
        "df_isear = df.loc[df['source'] == 'isear']\n",
        "df_isear[:1]"
      ],
      "execution_count": 4,
      "outputs": [
        {
          "output_type": "stream",
          "text": [
            "7666\n"
          ],
          "name": "stdout"
        },
        {
          "output_type": "execute_result",
          "data": {
            "text/html": [
              "<div>\n",
              "<style scoped>\n",
              "    .dataframe tbody tr th:only-of-type {\n",
              "        vertical-align: middle;\n",
              "    }\n",
              "\n",
              "    .dataframe tbody tr th {\n",
              "        vertical-align: top;\n",
              "    }\n",
              "\n",
              "    .dataframe thead th {\n",
              "        text-align: right;\n",
              "    }\n",
              "</style>\n",
              "<table border=\"1\" class=\"dataframe\">\n",
              "  <thead>\n",
              "    <tr style=\"text-align: right;\">\n",
              "      <th></th>\n",
              "      <th>id</th>\n",
              "      <th>VAD</th>\n",
              "      <th>source</th>\n",
              "      <th>text</th>\n",
              "      <th>emotions</th>\n",
              "      <th>split</th>\n",
              "      <th>emotion_model</th>\n",
              "      <th>annotation_procedure</th>\n",
              "      <th>domain</th>\n",
              "      <th>labeled</th>\n",
              "      <th>optional</th>\n",
              "    </tr>\n",
              "  </thead>\n",
              "  <tbody>\n",
              "    <tr>\n",
              "      <th>146188</th>\n",
              "      <td>146188</td>\n",
              "      <td>{'valence': None, 'arousal': None, 'dominance': None}</td>\n",
              "      <td>isear</td>\n",
              "      <td>During the period of falling in love, each time that we met and especially when we had not met for a long time.</td>\n",
              "      <td>{'joy': 1, 'anger': 0, 'sadness': 0, 'disgust': 0, 'fear': 0, 'trust': None, 'surprise': None, 'love': None, 'noemo': None, 'confusion': None, 'anticipation': None, 'shame': 0, 'guilt': 0}</td>\n",
              "      <td>None</td>\n",
              "      <td>NaN</td>\n",
              "      <td>NaN</td>\n",
              "      <td>emotional_events</td>\n",
              "      <td>single</td>\n",
              "      <td>NaN</td>\n",
              "    </tr>\n",
              "  </tbody>\n",
              "</table>\n",
              "</div>"
            ],
            "text/plain": [
              "            id                                                    VAD source  \\\n",
              "146188  146188  {'valence': None, 'arousal': None, 'dominance': None}  isear   \n",
              "\n",
              "                                                                                                                   text  \\\n",
              "146188  During the period of falling in love, each time that we met and especially when we had not met for a long time.   \n",
              "\n",
              "                                                                                                                                                                                            emotions  \\\n",
              "146188  {'joy': 1, 'anger': 0, 'sadness': 0, 'disgust': 0, 'fear': 0, 'trust': None, 'surprise': None, 'love': None, 'noemo': None, 'confusion': None, 'anticipation': None, 'shame': 0, 'guilt': 0}   \n",
              "\n",
              "       split emotion_model annotation_procedure            domain labeled  \\\n",
              "146188  None           NaN                  NaN  emotional_events  single   \n",
              "\n",
              "       optional  \n",
              "146188      NaN  "
            ]
          },
          "metadata": {
            "tags": []
          },
          "execution_count": 4
        }
=======
     "data": {
      "text/html": [
       "<div>\n",
       "<style scoped>\n",
       "    .dataframe tbody tr th:only-of-type {\n",
       "        vertical-align: middle;\n",
       "    }\n",
       "\n",
       "    .dataframe tbody tr th {\n",
       "        vertical-align: top;\n",
       "    }\n",
       "\n",
       "    .dataframe thead th {\n",
       "        text-align: right;\n",
       "    }\n",
       "</style>\n",
       "<table border=\"1\" class=\"dataframe\">\n",
       "  <thead>\n",
       "    <tr style=\"text-align: right;\">\n",
       "      <th></th>\n",
       "      <th>text</th>\n",
       "      <th>target_emotions</th>\n",
       "    </tr>\n",
       "  </thead>\n",
       "  <tbody>\n",
       "    <tr>\n",
       "      <th>146188</th>\n",
       "      <td>During the period of falling in love, each time that we met and especially when we had not met for a long time.</td>\n",
       "      <td>joy</td>\n",
       "    </tr>\n",
       "    <tr>\n",
       "      <th>146189</th>\n",
       "      <td>When I was involved in a traffic accident.</td>\n",
       "      <td>fear</td>\n",
       "    </tr>\n",
       "  </tbody>\n",
       "</table>\n",
       "</div>"
      ],
      "text/plain": [
       "                                                                                                                   text  \\\n",
       "146188  During the period of falling in love, each time that we met and especially when we had not met for a long time.   \n",
       "146189                                                                       When I was involved in a traffic accident.   \n",
       "\n",
       "       target_emotions  \n",
       "146188             joy  \n",
       "146189            fear  "
>>>>>>> 0f39f68f9786158b1c3bb11c3e68d2c21edb3658
      ]
     },
     "execution_count": 7,
     "metadata": {
      "tags": []
     },
     "output_type": "execute_result"
    }
   ],
   "source": [
    "emotions = df_isear['emotions']\n",
    "target_emotions = []\n",
    "for index in emotions:\n",
    "    foo = {k: index[k] for k in index.keys() & {'joy', 'anger', 'sadness', 'disgust','fear'}}\n",
    "    if all(value == 0 for value in foo.values()):\n",
    "        foo = 'None'\n",
    "    else:\n",
    "        foo = list(foo.keys())[list(foo.values()).index(1)]\n",
    "    target_emotions.append(foo)\n",
    "df_isear['target_emotions']= pd.Series(target_emotions).values\n",
    "df_isear = df_isear.drop(['id', 'VAD', 'source', 'emotions', 'split', 'emotion_model', 'annotation_procedure', 'domain', 'labeled', 'optional'], axis=1)\n",
    "df_isear[:2]"
   ]
  },
  {
   "cell_type": "code",
   "execution_count": 8,
   "metadata": {
    "colab": {
     "base_uri": "https://localhost:8080/",
     "height": 112
    },
    "id": "l9PaEvfDdzxH",
    "outputId": "4930d6fa-98b6-4fbe-a987-4fe6dd828b1e"
   },
   "outputs": [
    {
<<<<<<< HEAD
      "cell_type": "markdown",
      "metadata": {
        "id": "gad2FT2YzKAX"
      },
      "source": [
        "**More preprocessing to clean up the dataset**\n",
        "\n",
        "Discarding a the columns which are not really required and also flagging observations where there are no emotion labels. Also dropped *shame* and *guilt* as they weren't in Tales for easier comparison."
      ]
    },
    {
      "cell_type": "code",
      "metadata": {
        "colab": {
          "base_uri": "https://localhost:8080/",
          "height": 112
        },
        "id": "QrtdBvKbBm99",
        "outputId": "9b188e83-4ae8-478f-912e-3803293d5d30"
      },
      "source": [
        "emotions = df_isear['emotions']\n",
        "target_emotions = []\n",
        "for index in emotions:\n",
        "    foo = {k: index[k] for k in index.keys() & {'joy', 'anger', 'sadness', 'disgust','fear'}}\n",
        "    if all(value == 0 for value in foo.values()):\n",
        "        foo = 'None'\n",
        "    else:\n",
        "        foo = list(foo.keys())[list(foo.values()).index(1)]\n",
        "    target_emotions.append(foo)\n",
        "df_isear['target_emotions']= pd.Series(target_emotions).values\n",
        "df_isear = df_isear.drop(['id', 'VAD', 'source', 'emotions', 'split', 'emotion_model', 'annotation_procedure', 'domain', 'labeled', 'optional'], axis=1)\n",
        "df_isear[:2]"
      ],
      "execution_count": 5,
      "outputs": [
        {
          "output_type": "execute_result",
          "data": {
            "text/html": [
              "<div>\n",
              "<style scoped>\n",
              "    .dataframe tbody tr th:only-of-type {\n",
              "        vertical-align: middle;\n",
              "    }\n",
              "\n",
              "    .dataframe tbody tr th {\n",
              "        vertical-align: top;\n",
              "    }\n",
              "\n",
              "    .dataframe thead th {\n",
              "        text-align: right;\n",
              "    }\n",
              "</style>\n",
              "<table border=\"1\" class=\"dataframe\">\n",
              "  <thead>\n",
              "    <tr style=\"text-align: right;\">\n",
              "      <th></th>\n",
              "      <th>text</th>\n",
              "      <th>target_emotions</th>\n",
              "    </tr>\n",
              "  </thead>\n",
              "  <tbody>\n",
              "    <tr>\n",
              "      <th>146188</th>\n",
              "      <td>During the period of falling in love, each time that we met and especially when we had not met for a long time.</td>\n",
              "      <td>joy</td>\n",
              "    </tr>\n",
              "    <tr>\n",
              "      <th>146189</th>\n",
              "      <td>When I was involved in a traffic accident.</td>\n",
              "      <td>fear</td>\n",
              "    </tr>\n",
              "  </tbody>\n",
              "</table>\n",
              "</div>"
            ],
            "text/plain": [
              "                                                                                                                   text  \\\n",
              "146188  During the period of falling in love, each time that we met and especially when we had not met for a long time.   \n",
              "146189                                                                       When I was involved in a traffic accident.   \n",
              "\n",
              "       target_emotions  \n",
              "146188             joy  \n",
              "146189            fear  "
            ]
          },
          "metadata": {
            "tags": []
          },
          "execution_count": 5
        }
=======
     "data": {
      "text/html": [
       "<div>\n",
       "<style scoped>\n",
       "    .dataframe tbody tr th:only-of-type {\n",
       "        vertical-align: middle;\n",
       "    }\n",
       "\n",
       "    .dataframe tbody tr th {\n",
       "        vertical-align: top;\n",
       "    }\n",
       "\n",
       "    .dataframe thead th {\n",
       "        text-align: right;\n",
       "    }\n",
       "</style>\n",
       "<table border=\"1\" class=\"dataframe\">\n",
       "  <thead>\n",
       "    <tr style=\"text-align: right;\">\n",
       "      <th></th>\n",
       "      <th>text</th>\n",
       "      <th>target_emotions</th>\n",
       "    </tr>\n",
       "  </thead>\n",
       "  <tbody>\n",
       "    <tr>\n",
       "      <th>146188</th>\n",
       "      <td>During the period of falling in love, each time that we met and especially when we had not met for a long time.</td>\n",
       "      <td>joy</td>\n",
       "    </tr>\n",
       "    <tr>\n",
       "      <th>146189</th>\n",
       "      <td>When I was involved in a traffic accident.</td>\n",
       "      <td>fear</td>\n",
       "    </tr>\n",
       "  </tbody>\n",
       "</table>\n",
       "</div>"
      ],
      "text/plain": [
       "                                                                                                                   text  \\\n",
       "146188  During the period of falling in love, each time that we met and especially when we had not met for a long time.   \n",
       "146189                                                                       When I was involved in a traffic accident.   \n",
       "\n",
       "       target_emotions  \n",
       "146188             joy  \n",
       "146189            fear  "
>>>>>>> 0f39f68f9786158b1c3bb11c3e68d2c21edb3658
      ]
     },
     "execution_count": 8,
     "metadata": {
      "tags": []
     },
     "output_type": "execute_result"
    }
   ],
   "source": [
    "indexNames = df_isear[df_isear['target_emotions'] == 'None'].index\n",
    "df_isear.drop(indexNames , inplace=True)\n",
    "df_isear[:2]"
   ]
  },
  {
   "cell_type": "code",
   "execution_count": 9,
   "metadata": {
    "colab": {
     "base_uri": "https://localhost:8080/",
     "height": 313
    },
    "id": "ZQGWLXcTIfM7",
    "outputId": "4bf333a9-6b53-44a0-8a13-4cb33da164cc"
   },
   "outputs": [
    {
<<<<<<< HEAD
      "cell_type": "markdown",
      "metadata": {
        "id": "zrgApjhkzfv4"
      },
      "source": [
        "**Drop the None labels to make the classes comparable.**\n",
        "This is done to make the classes similar for comparison later on (Isear vs Tales-Emotion)."
      ]
    },
    {
      "cell_type": "code",
      "metadata": {
        "colab": {
          "base_uri": "https://localhost:8080/",
          "height": 112
        },
        "id": "l9PaEvfDdzxH",
        "outputId": "436c370f-2ea6-400a-916d-d23e4ec6b598"
      },
      "source": [
        "indexNames = df_isear[df_isear['target_emotions'] == 'None'].index\n",
        "df_isear.drop(indexNames , inplace=True)\n",
        "df_isear[:2]"
      ],
      "execution_count": 6,
      "outputs": [
        {
          "output_type": "execute_result",
          "data": {
            "text/html": [
              "<div>\n",
              "<style scoped>\n",
              "    .dataframe tbody tr th:only-of-type {\n",
              "        vertical-align: middle;\n",
              "    }\n",
              "\n",
              "    .dataframe tbody tr th {\n",
              "        vertical-align: top;\n",
              "    }\n",
              "\n",
              "    .dataframe thead th {\n",
              "        text-align: right;\n",
              "    }\n",
              "</style>\n",
              "<table border=\"1\" class=\"dataframe\">\n",
              "  <thead>\n",
              "    <tr style=\"text-align: right;\">\n",
              "      <th></th>\n",
              "      <th>text</th>\n",
              "      <th>target_emotions</th>\n",
              "    </tr>\n",
              "  </thead>\n",
              "  <tbody>\n",
              "    <tr>\n",
              "      <th>146188</th>\n",
              "      <td>During the period of falling in love, each time that we met and especially when we had not met for a long time.</td>\n",
              "      <td>joy</td>\n",
              "    </tr>\n",
              "    <tr>\n",
              "      <th>146189</th>\n",
              "      <td>When I was involved in a traffic accident.</td>\n",
              "      <td>fear</td>\n",
              "    </tr>\n",
              "  </tbody>\n",
              "</table>\n",
              "</div>"
            ],
            "text/plain": [
              "                                                                                                                   text  \\\n",
              "146188  During the period of falling in love, each time that we met and especially when we had not met for a long time.   \n",
              "146189                                                                       When I was involved in a traffic accident.   \n",
              "\n",
              "       target_emotions  \n",
              "146188             joy  \n",
              "146189            fear  "
            ]
          },
          "metadata": {
            "tags": []
          },
          "execution_count": 6
        }
=======
     "data": {
      "text/plain": [
       "<matplotlib.axes._subplots.AxesSubplot at 0x7f8a6cc62240>"
>>>>>>> 0f39f68f9786158b1c3bb11c3e68d2c21edb3658
      ]
     },
     "execution_count": 9,
     "metadata": {
      "tags": []
     },
     "output_type": "execute_result"
    },
    {
<<<<<<< HEAD
      "cell_type": "markdown",
      "metadata": {
        "id": "vHnaPSHczlnl"
      },
      "source": [
        "**Comparison of Class Sizes**"
      ]
    },
    {
      "cell_type": "code",
      "metadata": {
        "colab": {
          "base_uri": "https://localhost:8080/",
          "height": 313
        },
        "id": "ZQGWLXcTIfM7",
        "outputId": "671ba911-1076-44a9-c84c-e0c93fa35e1d"
      },
      "source": [
        "df_isear['target_emotions'].value_counts().plot(kind='bar')"
      ],
      "execution_count": 7,
      "outputs": [
        {
          "output_type": "execute_result",
          "data": {
            "text/plain": [
              "<matplotlib.axes._subplots.AxesSubplot at 0x7f9ff871ada0>"
            ]
          },
          "metadata": {
            "tags": []
          },
          "execution_count": 7
        },
        {
          "output_type": "display_data",
          "data": {
            "image/png": "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\n",
            "text/plain": [
              "<Figure size 432x288 with 1 Axes>"
            ]
          },
          "metadata": {
            "tags": [],
            "needs_background": "light"
          }
        }
=======
     "data": {
      "image/png": "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\n",
      "text/plain": [
       "<Figure size 432x288 with 1 Axes>"
>>>>>>> 0f39f68f9786158b1c3bb11c3e68d2c21edb3658
      ]
     },
     "metadata": {
      "needs_background": "light",
      "tags": []
     },
     "output_type": "display_data"
    }
   ],
   "source": [
    "df_isear['target_emotions'].value_counts().plot(kind='bar')"
   ]
  },
  {
   "cell_type": "code",
   "execution_count": 10,
   "metadata": {
    "colab": {
     "base_uri": "https://localhost:8080/"
    },
    "id": "j-jnuYcII8xP",
    "outputId": "633044a8-0b77-4032-91c5-4db40f020ef5"
   },
   "outputs": [
    {
<<<<<<< HEAD
      "cell_type": "markdown",
      "metadata": {
        "id": "GAH6oD-az-6I"
      },
      "source": [
        "**Labeling the unique emotions which are kept**\n",
        "Note: While creating the model for Tales, I didn't make the label names consistent with this Isear labeling scheme. So I had to adjust for it later. You'll see."
      ]
    },
    {
      "cell_type": "code",
      "metadata": {
        "colab": {
          "base_uri": "https://localhost:8080/"
        },
        "id": "j-jnuYcII8xP",
        "outputId": "8e8550dd-728d-4413-fa10-8c07119830e9"
      },
      "source": [
        "possible_labels = df_isear.target_emotions.unique()\n",
        "\n",
        "label_dict = {}\n",
        "for index, possible_label in enumerate(possible_labels):\n",
        "    label_dict[possible_label] = index\n",
        "label_dict"
      ],
      "execution_count": 8,
      "outputs": [
        {
          "output_type": "execute_result",
          "data": {
            "text/plain": [
              "{'anger': 2, 'disgust': 4, 'fear': 1, 'joy': 0, 'sadness': 3}"
            ]
          },
          "metadata": {
            "tags": []
          },
          "execution_count": 8
        }
=======
     "data": {
      "text/plain": [
       "{'anger': 2, 'disgust': 4, 'fear': 1, 'joy': 0, 'sadness': 3}"
>>>>>>> 0f39f68f9786158b1c3bb11c3e68d2c21edb3658
      ]
     },
     "execution_count": 10,
     "metadata": {
      "tags": []
     },
     "output_type": "execute_result"
    }
   ],
   "source": [
    "possible_labels = df_isear.target_emotions.unique()\n",
    "\n",
    "label_dict = {}\n",
    "for index, possible_label in enumerate(possible_labels):\n",
    "    label_dict[possible_label] = index\n",
    "label_dict"
   ]
  },
  {
   "cell_type": "code",
   "execution_count": 11,
   "metadata": {
    "colab": {
     "base_uri": "https://localhost:8080/",
     "height": 224
    },
    "id": "Sd9OsrbKJPll",
    "outputId": "641e6bb3-0077-44e6-983a-80449be23091"
   },
   "outputs": [
    {
<<<<<<< HEAD
      "cell_type": "code",
      "metadata": {
        "colab": {
          "base_uri": "https://localhost:8080/",
          "height": 276
        },
        "id": "Sd9OsrbKJPll",
        "outputId": "1973d4ce-69f3-465f-c5b7-a6be457ed313"
      },
      "source": [
        "df_isear['label'] = df_isear.target_emotions.replace(label_dict)\n",
        "df_isear.head()"
      ],
      "execution_count": 9,
      "outputs": [
        {
          "output_type": "execute_result",
          "data": {
            "text/html": [
              "<div>\n",
              "<style scoped>\n",
              "    .dataframe tbody tr th:only-of-type {\n",
              "        vertical-align: middle;\n",
              "    }\n",
              "\n",
              "    .dataframe tbody tr th {\n",
              "        vertical-align: top;\n",
              "    }\n",
              "\n",
              "    .dataframe thead th {\n",
              "        text-align: right;\n",
              "    }\n",
              "</style>\n",
              "<table border=\"1\" class=\"dataframe\">\n",
              "  <thead>\n",
              "    <tr style=\"text-align: right;\">\n",
              "      <th></th>\n",
              "      <th>text</th>\n",
              "      <th>target_emotions</th>\n",
              "      <th>label</th>\n",
              "    </tr>\n",
              "  </thead>\n",
              "  <tbody>\n",
              "    <tr>\n",
              "      <th>146188</th>\n",
              "      <td>During the period of falling in love, each time that we met and especially when we had not met for a long time.</td>\n",
              "      <td>joy</td>\n",
              "      <td>0</td>\n",
              "    </tr>\n",
              "    <tr>\n",
              "      <th>146189</th>\n",
              "      <td>When I was involved in a traffic accident.</td>\n",
              "      <td>fear</td>\n",
              "      <td>1</td>\n",
              "    </tr>\n",
              "    <tr>\n",
              "      <th>146190</th>\n",
              "      <td>When I was driving home after  several days of hard work, there was a motorist ahead of me who was driving at 50 km/hour and refused, despite his low speeed to let me overtake.</td>\n",
              "      <td>anger</td>\n",
              "      <td>2</td>\n",
              "    </tr>\n",
              "    <tr>\n",
              "      <th>146191</th>\n",
              "      <td>When I lost the person who meant the most to me.</td>\n",
              "      <td>sadness</td>\n",
              "      <td>3</td>\n",
              "    </tr>\n",
              "    <tr>\n",
              "      <th>146192</th>\n",
              "      <td>The time I knocked a deer down - the sight of the animal's injuries and helplessness.  The realization that the animal was so badly hurt that it had to be put down, and when the animal screamed at the moment of death.</td>\n",
              "      <td>disgust</td>\n",
              "      <td>4</td>\n",
              "    </tr>\n",
              "  </tbody>\n",
              "</table>\n",
              "</div>"
            ],
            "text/plain": [
              "                                                                                                                                                                                                                             text  \\\n",
              "146188                                                                                                            During the period of falling in love, each time that we met and especially when we had not met for a long time.   \n",
              "146189                                                                                                                                                                                 When I was involved in a traffic accident.   \n",
              "146190                                           When I was driving home after  several days of hard work, there was a motorist ahead of me who was driving at 50 km/hour and refused, despite his low speeed to let me overtake.   \n",
              "146191                                                                                                                                                                           When I lost the person who meant the most to me.   \n",
              "146192  The time I knocked a deer down - the sight of the animal's injuries and helplessness.  The realization that the animal was so badly hurt that it had to be put down, and when the animal screamed at the moment of death.   \n",
              "\n",
              "       target_emotions  label  \n",
              "146188             joy      0  \n",
              "146189            fear      1  \n",
              "146190           anger      2  \n",
              "146191         sadness      3  \n",
              "146192         disgust      4  "
            ]
          },
          "metadata": {
            "tags": []
          },
          "execution_count": 9
        }
=======
     "data": {
      "text/html": [
       "<div>\n",
       "<style scoped>\n",
       "    .dataframe tbody tr th:only-of-type {\n",
       "        vertical-align: middle;\n",
       "    }\n",
       "\n",
       "    .dataframe tbody tr th {\n",
       "        vertical-align: top;\n",
       "    }\n",
       "\n",
       "    .dataframe thead th {\n",
       "        text-align: right;\n",
       "    }\n",
       "</style>\n",
       "<table border=\"1\" class=\"dataframe\">\n",
       "  <thead>\n",
       "    <tr style=\"text-align: right;\">\n",
       "      <th></th>\n",
       "      <th>text</th>\n",
       "      <th>target_emotions</th>\n",
       "      <th>label</th>\n",
       "    </tr>\n",
       "  </thead>\n",
       "  <tbody>\n",
       "    <tr>\n",
       "      <th>146188</th>\n",
       "      <td>During the period of falling in love, each time that we met and especially when we had not met for a long time.</td>\n",
       "      <td>joy</td>\n",
       "      <td>0</td>\n",
       "    </tr>\n",
       "    <tr>\n",
       "      <th>146189</th>\n",
       "      <td>When I was involved in a traffic accident.</td>\n",
       "      <td>fear</td>\n",
       "      <td>1</td>\n",
       "    </tr>\n",
       "    <tr>\n",
       "      <th>146190</th>\n",
       "      <td>When I was driving home after  several days of hard work, there was a motorist ahead of me who was driving at 50 km/hour and refused, despite his low speeed to let me overtake.</td>\n",
       "      <td>anger</td>\n",
       "      <td>2</td>\n",
       "    </tr>\n",
       "    <tr>\n",
       "      <th>146191</th>\n",
       "      <td>When I lost the person who meant the most to me.</td>\n",
       "      <td>sadness</td>\n",
       "      <td>3</td>\n",
       "    </tr>\n",
       "    <tr>\n",
       "      <th>146192</th>\n",
       "      <td>The time I knocked a deer down - the sight of the animal's injuries and helplessness.  The realization that the animal was so badly hurt that it had to be put down, and when the animal screamed at the moment of death.</td>\n",
       "      <td>disgust</td>\n",
       "      <td>4</td>\n",
       "    </tr>\n",
       "  </tbody>\n",
       "</table>\n",
       "</div>"
      ],
      "text/plain": [
       "                                                                                                                                                                                                                             text  \\\n",
       "146188                                                                                                            During the period of falling in love, each time that we met and especially when we had not met for a long time.   \n",
       "146189                                                                                                                                                                                 When I was involved in a traffic accident.   \n",
       "146190                                           When I was driving home after  several days of hard work, there was a motorist ahead of me who was driving at 50 km/hour and refused, despite his low speeed to let me overtake.   \n",
       "146191                                                                                                                                                                           When I lost the person who meant the most to me.   \n",
       "146192  The time I knocked a deer down - the sight of the animal's injuries and helplessness.  The realization that the animal was so badly hurt that it had to be put down, and when the animal screamed at the moment of death.   \n",
       "\n",
       "       target_emotions  label  \n",
       "146188             joy      0  \n",
       "146189            fear      1  \n",
       "146190           anger      2  \n",
       "146191         sadness      3  \n",
       "146192         disgust      4  "
>>>>>>> 0f39f68f9786158b1c3bb11c3e68d2c21edb3658
      ]
     },
     "execution_count": 11,
     "metadata": {
      "tags": []
     },
     "output_type": "execute_result"
    }
   ],
   "source": [
    "df_isear['label'] = df_isear.target_emotions.replace(label_dict)\n",
    "df_isear.head()"
   ]
  },
  {
   "cell_type": "code",
   "execution_count": 12,
   "metadata": {
    "colab": {
     "base_uri": "https://localhost:8080/",
     "height": 394
    },
    "id": "eioGxdqqJg-D",
    "outputId": "24c4125d-2f2d-4c10-ebcb-4cac37f83553"
   },
   "outputs": [
    {
<<<<<<< HEAD
      "cell_type": "markdown",
      "metadata": {
        "id": "QLczjz1902Ph"
      },
      "source": [
        "**Save the processed data to file for later reuse**"
      ]
    },
    {
      "cell_type": "code",
      "metadata": {
        "id": "0WIrxFwTcJKD"
      },
      "source": [
        "import pickle\n",
        "df_isear.to_pickle(\"/content/drive/MyDrive/Colab Notebooks/emotion_data/isear_refactored.pkl\")"
      ],
      "execution_count": 18,
      "outputs": []
    },
    {
      "cell_type": "markdown",
      "metadata": {
        "id": "38qIOrQK0-Xy"
      },
      "source": [
        "**Checkpoint: O**"
      ]
    },
    {
      "cell_type": "code",
      "metadata": {
        "colab": {
          "base_uri": "https://localhost:8080/",
          "height": 394
        },
        "id": "eioGxdqqJg-D",
        "outputId": "23859fb6-97af-43b5-9395-68a4b7516069"
      },
      "source": [
        "from sklearn.model_selection import train_test_split\n",
        "\n",
        "X_train, X_val, y_train, y_val = train_test_split(df_isear.index.values, \n",
        "                                                  df_isear.label.values, \n",
        "                                                  test_size=0.15, \n",
        "                                                  random_state=42, \n",
        "                                                  stratify=df_isear.label.values)\n",
        "df_isear['data_type'] = ['not_set']*df_isear.shape[0]\n",
        "\n",
        "df_isear.loc[X_train, 'data_type'] = 'train'\n",
        "df_isear.loc[X_val, 'data_type'] = 'val'\n",
        "df_isear.groupby(['target_emotions', 'label', 'data_type']).count()"
=======
     "data": {
      "text/html": [
       "<div>\n",
       "<style scoped>\n",
       "    .dataframe tbody tr th:only-of-type {\n",
       "        vertical-align: middle;\n",
       "    }\n",
       "\n",
       "    .dataframe tbody tr th {\n",
       "        vertical-align: top;\n",
       "    }\n",
       "\n",
       "    .dataframe thead th {\n",
       "        text-align: right;\n",
       "    }\n",
       "</style>\n",
       "<table border=\"1\" class=\"dataframe\">\n",
       "  <thead>\n",
       "    <tr style=\"text-align: right;\">\n",
       "      <th></th>\n",
       "      <th></th>\n",
       "      <th></th>\n",
       "      <th>text</th>\n",
       "    </tr>\n",
       "    <tr>\n",
       "      <th>target_emotions</th>\n",
       "      <th>label</th>\n",
       "      <th>data_type</th>\n",
       "      <th></th>\n",
       "    </tr>\n",
       "  </thead>\n",
       "  <tbody>\n",
       "    <tr>\n",
       "      <th rowspan=\"2\" valign=\"top\">anger</th>\n",
       "      <th rowspan=\"2\" valign=\"top\">2</th>\n",
       "      <th>train</th>\n",
       "      <td>932</td>\n",
       "    </tr>\n",
       "    <tr>\n",
       "      <th>val</th>\n",
       "      <td>164</td>\n",
       "    </tr>\n",
       "    <tr>\n",
       "      <th rowspan=\"2\" valign=\"top\">disgust</th>\n",
       "      <th rowspan=\"2\" valign=\"top\">4</th>\n",
       "      <th>train</th>\n",
       "      <td>931</td>\n",
       "    </tr>\n",
       "    <tr>\n",
       "      <th>val</th>\n",
       "      <td>165</td>\n",
       "    </tr>\n",
       "    <tr>\n",
       "      <th rowspan=\"2\" valign=\"top\">fear</th>\n",
       "      <th rowspan=\"2\" valign=\"top\">1</th>\n",
       "      <th>train</th>\n",
       "      <td>931</td>\n",
       "    </tr>\n",
       "    <tr>\n",
       "      <th>val</th>\n",
       "      <td>164</td>\n",
       "    </tr>\n",
       "    <tr>\n",
       "      <th rowspan=\"2\" valign=\"top\">joy</th>\n",
       "      <th rowspan=\"2\" valign=\"top\">0</th>\n",
       "      <th>train</th>\n",
       "      <td>930</td>\n",
       "    </tr>\n",
       "    <tr>\n",
       "      <th>val</th>\n",
       "      <td>164</td>\n",
       "    </tr>\n",
       "    <tr>\n",
       "      <th rowspan=\"2\" valign=\"top\">sadness</th>\n",
       "      <th rowspan=\"2\" valign=\"top\">3</th>\n",
       "      <th>train</th>\n",
       "      <td>931</td>\n",
       "    </tr>\n",
       "    <tr>\n",
       "      <th>val</th>\n",
       "      <td>165</td>\n",
       "    </tr>\n",
       "  </tbody>\n",
       "</table>\n",
       "</div>"
>>>>>>> 0f39f68f9786158b1c3bb11c3e68d2c21edb3658
      ],
      "text/plain": [
       "                                 text\n",
       "target_emotions label data_type      \n",
       "anger           2     train       932\n",
       "                      val         164\n",
       "disgust         4     train       931\n",
       "                      val         165\n",
       "fear            1     train       931\n",
       "                      val         164\n",
       "joy             0     train       930\n",
       "                      val         164\n",
       "sadness         3     train       931\n",
       "                      val         165"
      ]
     },
     "execution_count": 12,
     "metadata": {
      "tags": []
     },
     "output_type": "execute_result"
    }
   ],
   "source": [
    "from sklearn.model_selection import train_test_split\n",
    "\n",
    "X_train, X_val, y_train, y_val = train_test_split(df_isear.index.values, \n",
    "                                                  df_isear.label.values, \n",
    "                                                  test_size=0.15, \n",
    "                                                  random_state=42, \n",
    "                                                  stratify=df_isear.label.values)\n",
    "df_isear['data_type'] = ['not_set']*df_isear.shape[0]\n",
    "\n",
    "df_isear.loc[X_train, 'data_type'] = 'train'\n",
    "df_isear.loc[X_val, 'data_type'] = 'val'\n",
    "df_isear.groupby(['target_emotions', 'label', 'data_type']).count()"
   ]
  },
  {
   "cell_type": "code",
   "execution_count": 13,
   "metadata": {
    "colab": {
     "base_uri": "https://localhost:8080/",
     "height": 66,
     "referenced_widgets": [
      "400da72a6a6442a2b6f5d461af0497f6",
      "882da4fe70b14343aecb17ee05222932",
      "0b4e0c1dd9584c1ea366cfc697788c9c",
      "2aba45eaac25447a8e335d7137eefac7",
      "c7ff00fe9f4f4756b777fb1a8282e99b",
      "14a3e79aca5c4eb5a170bd9ebd187f3e",
      "1c60f46a045e45338b772488e876c149",
      "485f08cbd03c474f92c10ec672f6bd8f"
     ]
    },
    "id": "MR6Ysh0oK2fr",
    "outputId": "27b63673-f313-4065-8997-90691889450d"
   },
   "outputs": [
    {
<<<<<<< HEAD
      "cell_type": "markdown",
      "metadata": {
        "id": "UWn8CDZm6d0A"
      },
      "source": [
        "**Checkpoint: R**"
      ]
    },
    {
      "cell_type": "markdown",
      "metadata": {
        "id": "SfH08_nG3fxd"
      },
      "source": [
        "**Load the tokenizer and encode the data into their corresponding labels**"
      ]
    },
    {
      "cell_type": "code",
      "metadata": {
        "colab": {
          "base_uri": "https://localhost:8080/",
          "height": 66,
          "referenced_widgets": [
            "725a2723ffbb453b9437fee4e10f763f",
            "9a9a7bf470924690abf8f74db6d2b97f",
            "8ae9291baf3d48f08663385e8d85ff57",
            "3d760132cefa4c97bbb38729bc561f6e",
            "22b0a6126bbb426ca5c377f11a06a0b5",
            "95d1001a33534667a34c2e26bd15c71f",
            "23e7412a40b54a18a9c6d187b266aa5c",
            "c5c0250ab36d45c8aba4ce5b0efc4500"
          ]
        },
        "id": "MR6Ysh0oK2fr",
        "outputId": "09485b01-694c-47b6-e976-a07e2a606654"
      },
      "source": [
        "tokenizer = BertTokenizer.from_pretrained('bert-base-uncased', \n",
        "                                          do_lower_case=True)"
      ],
      "execution_count": 13,
      "outputs": [
        {
          "output_type": "display_data",
          "data": {
            "application/vnd.jupyter.widget-view+json": {
              "model_id": "725a2723ffbb453b9437fee4e10f763f",
              "version_minor": 0,
              "version_major": 2
            },
            "text/plain": [
              "HBox(children=(FloatProgress(value=0.0, description='Downloading', max=231508.0, style=ProgressStyle(descripti…"
            ]
          },
          "metadata": {
            "tags": []
          }
        },
        {
          "output_type": "stream",
          "text": [
            "\n"
          ],
          "name": "stdout"
        }
=======
     "data": {
      "application/vnd.jupyter.widget-view+json": {
       "model_id": "400da72a6a6442a2b6f5d461af0497f6",
       "version_major": 2,
       "version_minor": 0
      },
      "text/plain": [
       "HBox(children=(FloatProgress(value=0.0, description='Downloading', max=231508.0, style=ProgressStyle(descripti…"
>>>>>>> 0f39f68f9786158b1c3bb11c3e68d2c21edb3658
      ]
     },
     "metadata": {
      "tags": []
     },
     "output_type": "display_data"
    },
    {
<<<<<<< HEAD
      "cell_type": "code",
      "metadata": {
        "colab": {
          "base_uri": "https://localhost:8080/"
        },
        "id": "Qr6EqUzUK_J2",
        "outputId": "fbf55f0e-309b-4288-cbcc-7305691507c6"
      },
      "source": [
        "encoded_data_train = tokenizer.batch_encode_plus(\n",
        "    df_isear[df_isear.data_type=='train'].text.values, \n",
        "    add_special_tokens=True, \n",
        "    return_attention_mask=True, \n",
        "    pad_to_max_length=True, \n",
        "    max_length=256, \n",
        "    return_tensors='pt'\n",
        ")\n",
        "\n",
        "encoded_data_val = tokenizer.batch_encode_plus(\n",
        "    df_isear[df_isear.data_type=='val'].text.values, \n",
        "    add_special_tokens=True, \n",
        "    return_attention_mask=True, \n",
        "    pad_to_max_length=True, \n",
        "    max_length=256, \n",
        "    return_tensors='pt'\n",
        ")\n",
        "\n",
        "\n",
        "input_ids_train = encoded_data_train['input_ids']\n",
        "attention_masks_train = encoded_data_train['attention_mask']\n",
        "labels_train = torch.tensor(df_isear[df_isear.data_type=='train'].label.values)\n",
        "\n",
        "input_ids_val = encoded_data_val['input_ids']\n",
        "attention_masks_val = encoded_data_val['attention_mask']\n",
        "labels_val = torch.tensor(df_isear[df_isear.data_type=='val'].label.values)"
      ],
      "execution_count": 14,
      "outputs": [
        {
          "output_type": "stream",
          "text": [
            "Truncation was not explicitly activated but `max_length` is provided a specific value, please use `truncation=True` to explicitly truncate examples to max length. Defaulting to 'longest_first' truncation strategy. If you encode pairs of sequences (GLUE-style) with the tokenizer you can select this strategy more precisely by providing a specific strategy to `truncation`.\n",
            "/usr/local/lib/python3.6/dist-packages/transformers/tokenization_utils_base.py:2179: FutureWarning: The `pad_to_max_length` argument is deprecated and will be removed in a future version, use `padding=True` or `padding='longest'` to pad to the longest sequence in the batch, or use `padding='max_length'` to pad to a max length. In this case, you can give a specific length with `max_length` (e.g. `max_length=45`) or leave max_length to None to pad to the maximal input size of the model (e.g. 512 for Bert).\n",
            "  FutureWarning,\n"
          ],
          "name": "stderr"
        }
      ]
=======
     "name": "stdout",
     "output_type": "stream",
     "text": [
      "\n"
     ]
    }
   ],
   "source": [
    "tokenizer = BertTokenizer.from_pretrained('bert-base-uncased', \n",
    "                                          do_lower_case=True)"
   ]
  },
  {
   "cell_type": "code",
   "execution_count": 14,
   "metadata": {
    "colab": {
     "base_uri": "https://localhost:8080/"
>>>>>>> 0f39f68f9786158b1c3bb11c3e68d2c21edb3658
    },
    "id": "Qr6EqUzUK_J2",
    "outputId": "7b1885c4-8a19-4df4-d969-ce654831e0b5"
   },
   "outputs": [
    {
     "name": "stderr",
     "output_type": "stream",
     "text": [
      "Truncation was not explicitly activated but `max_length` is provided a specific value, please use `truncation=True` to explicitly truncate examples to max length. Defaulting to 'longest_first' truncation strategy. If you encode pairs of sequences (GLUE-style) with the tokenizer you can select this strategy more precisely by providing a specific strategy to `truncation`.\n",
      "/usr/local/lib/python3.6/dist-packages/transformers/tokenization_utils_base.py:2179: FutureWarning: The `pad_to_max_length` argument is deprecated and will be removed in a future version, use `padding=True` or `padding='longest'` to pad to the longest sequence in the batch, or use `padding='max_length'` to pad to a max length. In this case, you can give a specific length with `max_length` (e.g. `max_length=45`) or leave max_length to None to pad to the maximal input size of the model (e.g. 512 for Bert).\n",
      "  FutureWarning,\n"
     ]
    }
   ],
   "source": [
    "encoded_data_train = tokenizer.batch_encode_plus(\n",
    "    df_isear[df_isear.data_type=='train'].text.values, \n",
    "    add_special_tokens=True, \n",
    "    return_attention_mask=True, \n",
    "    pad_to_max_length=True, \n",
    "    max_length=256, \n",
    "    return_tensors='pt'\n",
    ")\n",
    "\n",
    "encoded_data_val = tokenizer.batch_encode_plus(\n",
    "    df_isear[df_isear.data_type=='val'].text.values, \n",
    "    add_special_tokens=True, \n",
    "    return_attention_mask=True, \n",
    "    pad_to_max_length=True, \n",
    "    max_length=256, \n",
    "    return_tensors='pt'\n",
    ")\n",
    "\n",
    "\n",
    "input_ids_train = encoded_data_train['input_ids']\n",
    "attention_masks_train = encoded_data_train['attention_mask']\n",
    "labels_train = torch.tensor(df_isear[df_isear.data_type=='train'].label.values)\n",
    "\n",
    "input_ids_val = encoded_data_val['input_ids']\n",
    "attention_masks_val = encoded_data_val['attention_mask']\n",
    "labels_val = torch.tensor(df_isear[df_isear.data_type=='val'].label.values)"
   ]
  },
  {
   "cell_type": "code",
   "execution_count": 15,
   "metadata": {
    "id": "KANF2NXpMNnh"
   },
   "outputs": [],
   "source": [
    "dataset_train = TensorDataset(input_ids_train, attention_masks_train, labels_train)\n",
    "dataset_val = TensorDataset(input_ids_val, attention_masks_val, labels_val)"
   ]
  },
  {
   "cell_type": "code",
   "execution_count": 16,
   "metadata": {
    "colab": {
     "base_uri": "https://localhost:8080/"
    },
    "id": "kk2JowERMVes",
    "outputId": "c659365e-4637-4c9f-aa8f-fc6b959242bd"
   },
   "outputs": [
    {
<<<<<<< HEAD
      "cell_type": "markdown",
      "metadata": {
        "id": "eZbAVt9a3rpq"
      },
      "source": [
        "**Train-Validation Split sizes**"
      ]
    },
    {
      "cell_type": "code",
      "metadata": {
        "colab": {
          "base_uri": "https://localhost:8080/"
        },
        "id": "kk2JowERMVes",
        "outputId": "46d23440-bebf-4d96-e207-902b53ea8757"
      },
      "source": [
        "len(dataset_train), len(dataset_val)"
      ],
      "execution_count": 16,
      "outputs": [
        {
          "output_type": "execute_result",
          "data": {
            "text/plain": [
              "(4655, 822)"
            ]
          },
          "metadata": {
            "tags": []
          },
          "execution_count": 16
        }
=======
     "data": {
      "text/plain": [
       "(4655, 822)"
>>>>>>> 0f39f68f9786158b1c3bb11c3e68d2c21edb3658
      ]
     },
     "execution_count": 16,
     "metadata": {
      "tags": []
     },
     "output_type": "execute_result"
    }
   ],
   "source": [
    "len(dataset_train), len(dataset_val)"
   ]
  },
  {
   "cell_type": "code",
   "execution_count": 17,
   "metadata": {
    "colab": {
     "base_uri": "https://localhost:8080/",
     "height": 223,
     "referenced_widgets": [
      "ae185adea2a34b598fdfe0fe1ac91fba",
      "7dbe11f7651949b2b245004c1fcea616",
      "288a03bc2cdc42caa5989bbd3802209b",
      "a2654a9c83d24419903b6f3f93ad51bc",
      "c125ab953f60494886f274a23e1bc0ec",
      "7d2607b37e254d348f5c3de192213ba1",
      "e77fe9867e864715b9b54fd32f9b88f1",
      "9534dd0f96d24d12ac35184af927b83e",
      "39e98a20bc80419a9e64593dc718467b",
      "0d8b1da4e7ea4865b2df580372717e14",
      "269508468c5848eabb48be686708ebad",
      "3aaca4596a4645dca3f21261e0217d7e",
      "ee4b848c0fe340868644a7143b4e5566",
      "fbe817607d504d54a2cadc41b3442381",
      "ebff7867287b42e4b4c32957fe471c92",
      "7dd727cb64894f2cb2c18823ff52cb54"
     ]
    },
    "id": "MDMDkKNOMYvN",
    "outputId": "6a1dc65d-76d4-4e87-fe53-29a8a51ce2be"
   },
   "outputs": [
    {
<<<<<<< HEAD
      "cell_type": "markdown",
      "metadata": {
        "id": "_H9kZjlU3xxi"
      },
      "source": [
        "**Load the Bert Base model**"
      ]
    },
    {
      "cell_type": "code",
      "metadata": {
        "colab": {
          "base_uri": "https://localhost:8080/",
          "height": 223,
          "referenced_widgets": [
            "5b2ff2b197d44377826d9aa1e580f649",
            "a7dc14f9e3e2423fa25ba200130353e3",
            "6835d1cf2ae945ffa3ed196fc11f3e34",
            "c4d25cf2960d4546b5008f9b7100e7f7",
            "00289ceb1c254429b17f84f3b0c53bea",
            "2222fe544ec74b2e83223bb51ef243e0",
            "452cf5ffaa3942448a3b25ace8cc2533",
            "7f9884cabba84ab7b66ad027adb1083c",
            "84070a0370224b4d97a6390d7acb904a",
            "221c758007a44bdfa0a6ce9b33a8e7be",
            "78493ca9d66f474bb7fd5aa0cbf11b83",
            "c5eef510cf3e441b81cc313f15e03c04",
            "3ce29676e049481cbd142e9721a62624",
            "9243965e443d443c945cd4f32cdbcef1",
            "279d9bbcbaf7445ea0b825312fd32b3b",
            "2822ec2ed62f4ac992e1f26fe988a04f"
          ]
        },
        "id": "MDMDkKNOMYvN",
        "outputId": "f64ffcf3-1abd-4595-8f9a-281e944e7636"
      },
      "source": [
        "model = BertForSequenceClassification.from_pretrained(\"bert-base-uncased\",\n",
        "                                                      num_labels=len(label_dict),\n",
        "                                                      output_attentions=False,\n",
        "                                                      output_hidden_states=False)"
      ],
      "execution_count": 17,
      "outputs": [
        {
          "output_type": "display_data",
          "data": {
            "application/vnd.jupyter.widget-view+json": {
              "model_id": "5b2ff2b197d44377826d9aa1e580f649",
              "version_minor": 0,
              "version_major": 2
            },
            "text/plain": [
              "HBox(children=(FloatProgress(value=0.0, description='Downloading', max=433.0, style=ProgressStyle(description_…"
            ]
          },
          "metadata": {
            "tags": []
          }
        },
        {
          "output_type": "stream",
          "text": [
            "\n"
          ],
          "name": "stdout"
        },
        {
          "output_type": "display_data",
          "data": {
            "application/vnd.jupyter.widget-view+json": {
              "model_id": "84070a0370224b4d97a6390d7acb904a",
              "version_minor": 0,
              "version_major": 2
            },
            "text/plain": [
              "HBox(children=(FloatProgress(value=0.0, description='Downloading', max=440473133.0, style=ProgressStyle(descri…"
            ]
          },
          "metadata": {
            "tags": []
          }
        },
        {
          "output_type": "stream",
          "text": [
            "\n"
          ],
          "name": "stdout"
        },
        {
          "output_type": "stream",
          "text": [
            "Some weights of the model checkpoint at bert-base-uncased were not used when initializing BertForSequenceClassification: ['cls.predictions.bias', 'cls.predictions.transform.dense.weight', 'cls.predictions.transform.dense.bias', 'cls.predictions.decoder.weight', 'cls.seq_relationship.weight', 'cls.seq_relationship.bias', 'cls.predictions.transform.LayerNorm.weight', 'cls.predictions.transform.LayerNorm.bias']\n",
            "- This IS expected if you are initializing BertForSequenceClassification from the checkpoint of a model trained on another task or with another architecture (e.g. initializing a BertForSequenceClassification model from a BertForPreTraining model).\n",
            "- This IS NOT expected if you are initializing BertForSequenceClassification from the checkpoint of a model that you expect to be exactly identical (initializing a BertForSequenceClassification model from a BertForSequenceClassification model).\n",
            "Some weights of BertForSequenceClassification were not initialized from the model checkpoint at bert-base-uncased and are newly initialized: ['classifier.weight', 'classifier.bias']\n",
            "You should probably TRAIN this model on a down-stream task to be able to use it for predictions and inference.\n"
          ],
          "name": "stderr"
        }
=======
     "data": {
      "application/vnd.jupyter.widget-view+json": {
       "model_id": "ae185adea2a34b598fdfe0fe1ac91fba",
       "version_major": 2,
       "version_minor": 0
      },
      "text/plain": [
       "HBox(children=(FloatProgress(value=0.0, description='Downloading', max=433.0, style=ProgressStyle(description_…"
>>>>>>> 0f39f68f9786158b1c3bb11c3e68d2c21edb3658
      ]
     },
     "metadata": {
      "tags": []
     },
     "output_type": "display_data"
    },
    {
<<<<<<< HEAD
      "cell_type": "markdown",
      "metadata": {
        "id": "DtyNayYL31cg"
      },
      "source": [
        "**Code for the transformer implementation with the scoring functions, optimizer, and evaluation.**"
      ]
    },
    {
      "cell_type": "code",
      "metadata": {
        "id": "IwjBqx9BMloi"
      },
      "source": [
        "from torch.utils.data import DataLoader, RandomSampler, SequentialSampler\n",
        "\n",
        "batch_size = 3\n",
        "\n",
        "dataloader_train = DataLoader(dataset_train, \n",
        "                              sampler=RandomSampler(dataset_train), \n",
        "                              batch_size=batch_size)\n",
        "\n",
        "dataloader_validation = DataLoader(dataset_val, \n",
        "                                   sampler=SequentialSampler(dataset_val), \n",
        "                                   batch_size=batch_size)"
      ],
      "execution_count": 18,
      "outputs": []
=======
     "name": "stdout",
     "output_type": "stream",
     "text": [
      "\n"
     ]
>>>>>>> 0f39f68f9786158b1c3bb11c3e68d2c21edb3658
    },
    {
     "data": {
      "application/vnd.jupyter.widget-view+json": {
       "model_id": "39e98a20bc80419a9e64593dc718467b",
       "version_major": 2,
       "version_minor": 0
      },
      "text/plain": [
       "HBox(children=(FloatProgress(value=0.0, description='Downloading', max=440473133.0, style=ProgressStyle(descri…"
      ]
     },
     "metadata": {
      "tags": []
     },
     "output_type": "display_data"
    },
    {
     "name": "stdout",
     "output_type": "stream",
     "text": [
      "\n"
     ]
    },
    {
     "name": "stderr",
     "output_type": "stream",
     "text": [
      "Some weights of the model checkpoint at bert-base-uncased were not used when initializing BertForSequenceClassification: ['cls.predictions.bias', 'cls.predictions.transform.dense.weight', 'cls.predictions.transform.dense.bias', 'cls.predictions.decoder.weight', 'cls.seq_relationship.weight', 'cls.seq_relationship.bias', 'cls.predictions.transform.LayerNorm.weight', 'cls.predictions.transform.LayerNorm.bias']\n",
      "- This IS expected if you are initializing BertForSequenceClassification from the checkpoint of a model trained on another task or with another architecture (e.g. initializing a BertForSequenceClassification model from a BertForPreTraining model).\n",
      "- This IS NOT expected if you are initializing BertForSequenceClassification from the checkpoint of a model that you expect to be exactly identical (initializing a BertForSequenceClassification model from a BertForSequenceClassification model).\n",
      "Some weights of BertForSequenceClassification were not initialized from the model checkpoint at bert-base-uncased and are newly initialized: ['classifier.weight', 'classifier.bias']\n",
      "You should probably TRAIN this model on a down-stream task to be able to use it for predictions and inference.\n"
     ]
    }
   ],
   "source": [
    "model = BertForSequenceClassification.from_pretrained(\"bert-base-uncased\",\n",
    "                                                      num_labels=len(label_dict),\n",
    "                                                      output_attentions=False,\n",
    "                                                      output_hidden_states=False)"
   ]
  },
  {
   "cell_type": "code",
   "execution_count": 18,
   "metadata": {
    "id": "IwjBqx9BMloi"
   },
   "outputs": [],
   "source": [
    "from torch.utils.data import DataLoader, RandomSampler, SequentialSampler\n",
    "\n",
    "batch_size = 3\n",
    "\n",
    "dataloader_train = DataLoader(dataset_train, \n",
    "                              sampler=RandomSampler(dataset_train), \n",
    "                              batch_size=batch_size)\n",
    "\n",
    "dataloader_validation = DataLoader(dataset_val, \n",
    "                                   sampler=SequentialSampler(dataset_val), \n",
    "                                   batch_size=batch_size)"
   ]
  },
  {
   "cell_type": "code",
   "execution_count": 19,
   "metadata": {
    "id": "q4Gs0u6kMr2V"
   },
   "outputs": [],
   "source": [
    "from transformers import AdamW, get_linear_schedule_with_warmup\n",
    "\n",
    "optimizer = AdamW(model.parameters(),\n",
    "                  lr=1e-5, \n",
    "                  eps=1e-8)"
   ]
  },
  {
   "cell_type": "code",
   "execution_count": 20,
   "metadata": {
    "id": "qF_4WPksMuNi"
   },
   "outputs": [],
   "source": [
    "epochs = 3\n",
    "\n",
    "scheduler = get_linear_schedule_with_warmup(optimizer, \n",
    "                                            num_warmup_steps=0,\n",
    "                                            num_training_steps=len(dataloader_train)*epochs)"
   ]
  },
  {
   "cell_type": "code",
   "execution_count": 21,
   "metadata": {
    "id": "huuJPJiIMwhz"
   },
   "outputs": [],
   "source": [
    "from sklearn.metrics import f1_score\n",
    "\n",
    "def f1_score_func(preds, labels):\n",
    "    preds_flat = np.argmax(preds, axis=1).flatten()\n",
    "    labels_flat = labels.flatten()\n",
    "    return f1_score(labels_flat, preds_flat, average='weighted')\n",
    "\n",
    "def accuracy_per_class(preds, labels):\n",
    "    label_dict_inverse = {v: k for k, v in label_dict.items()}\n",
    "    \n",
    "    preds_flat = np.argmax(preds, axis=1).flatten()\n",
    "    labels_flat = labels.flatten()\n",
    "\n",
    "    for label in np.unique(labels_flat):\n",
    "        y_preds = preds_flat[labels_flat==label]\n",
    "        y_true = labels_flat[labels_flat==label]\n",
    "        print(f'Class: {label_dict_inverse[label]}')\n",
    "        print(f'Accuracy: {len(y_preds[y_preds==label])}/{len(y_true)}\\n')"
   ]
  },
  {
   "cell_type": "code",
   "execution_count": 22,
   "metadata": {
    "id": "E1vw8LUyM089"
   },
   "outputs": [],
   "source": [
    "import random\n",
    "\n",
    "seed_val = 17\n",
    "random.seed(seed_val)\n",
    "np.random.seed(seed_val)\n",
    "torch.manual_seed(seed_val)\n",
    "torch.cuda.manual_seed_all(seed_val)"
   ]
  },
  {
   "cell_type": "code",
   "execution_count": 23,
   "metadata": {
    "colab": {
     "base_uri": "https://localhost:8080/"
    },
    "id": "A0qtBQy1M22t",
    "outputId": "2d9b295c-4448-4fdf-df4c-fdf82f1003fd"
   },
   "outputs": [
    {
     "name": "stdout",
     "output_type": "stream",
     "text": [
      "cpu\n"
     ]
    }
   ],
   "source": [
    "device = torch.device('cuda' if torch.cuda.is_available() else 'cpu')\n",
    "model.to(device)\n",
    "\n",
    "print(device)"
   ]
  },
  {
   "cell_type": "code",
   "execution_count": 24,
   "metadata": {
    "id": "2eOziOzZM513"
   },
   "outputs": [],
   "source": [
    "def evaluate(dataloader_val):\n",
    "\n",
    "    model.eval()\n",
    "    \n",
    "    loss_val_total = 0\n",
    "    predictions, true_vals = [], []\n",
    "    \n",
    "    for batch in dataloader_val:\n",
    "        \n",
    "        batch = tuple(b.to(device) for b in batch)\n",
    "        \n",
    "        inputs = {'input_ids':      batch[0],\n",
    "                  'attention_mask': batch[1],\n",
    "                  'labels':         batch[2],\n",
    "                 }\n",
    "\n",
    "        with torch.no_grad():        \n",
    "            outputs = model(**inputs)\n",
    "            \n",
    "        loss = outputs[0]\n",
    "        logits = outputs[1]\n",
    "        loss_val_total += loss.item()\n",
    "\n",
    "        logits = logits.detach().cpu().numpy()\n",
    "        label_ids = inputs['labels'].cpu().numpy()\n",
    "        predictions.append(logits)\n",
    "        true_vals.append(label_ids)\n",
    "    \n",
    "    loss_val_avg = loss_val_total/len(dataloader_val) \n",
    "    \n",
    "    predictions = np.concatenate(predictions, axis=0)\n",
    "    true_vals = np.concatenate(true_vals, axis=0)\n",
    "            \n",
    "    return loss_val_avg, predictions, true_vals"
   ]
  },
  {
   "cell_type": "code",
   "execution_count": null,
   "metadata": {
    "colab": {
     "base_uri": "https://localhost:8080/",
     "height": 168,
     "referenced_widgets": [
      "5be7ec6cbe0f4c329a416e0089cd70e6",
      "bec53d87231d4c74b12123321e6a73e7",
      "772b97c0f0a343c19d0b702d4cf7eacc",
      "b6536403e691499c832321c36ae3ec89",
      "0cc93de4e6414756ab01e9fca886d4ff",
      "f67796fe72a4470eb65ab75fd8dcc726",
      "a92b39253ba54b9686bc759ace841bfb",
      "036bd21158a04a5da1f2a9127ed4bdb0",
      "f32b8d6b8a78422cbdcbfd143d7ce764",
      "caa338af70904c90a6e2173058ee7110",
      "823e7d22a91c460cb3409c9ac2a14370",
      "213266a680b742ccb5d0112b64d76977",
      "48695e4350264b5baaaaf1af23d9840e",
      "c0ae1107c02e490d95b3ed24fd430856",
      "bee10a116fe84d948862b6e433146f10",
      "84daf8d2bc3f4cf8a37b6537c519f52d",
      "c3af8c0353224cea95936cf46568fb3b",
      "0e7f38eb81474b71beca49cb471c4c45",
      "6354fe6b43664b71ac310522256db1cb",
      "1d0831694e8c48569215ca83c339a75a",
      "67ca0e7f6e554da2b1f3d9840873eb1b",
      "36b695cc31e4491ba5d0f272d7486a32",
      "247ef2d042674d39b684dd24c00bd4d0",
      "17f881b9d3354294bc1d20a8d533a48e"
     ]
    },
    "id": "VXmBOP6kNAY0",
    "outputId": "685fb17e-e29b-497a-fc45-71fdc69a7c84"
   },
   "outputs": [
    {
<<<<<<< HEAD
      "cell_type": "code",
      "metadata": {
        "colab": {
          "base_uri": "https://localhost:8080/"
        },
        "id": "A0qtBQy1M22t",
        "outputId": "18fbea0c-167f-4f3c-cf04-cdc8a422a67c"
=======
     "data": {
      "application/vnd.jupyter.widget-view+json": {
       "model_id": "5be7ec6cbe0f4c329a416e0089cd70e6",
       "version_major": 2,
       "version_minor": 0
>>>>>>> 0f39f68f9786158b1c3bb11c3e68d2c21edb3658
      },
      "text/plain": [
       "HBox(children=(FloatProgress(value=0.0, max=3.0), HTML(value='')))"
      ]
     },
     "metadata": {
      "tags": []
     },
     "output_type": "display_data"
    },
    {
     "data": {
      "application/vnd.jupyter.widget-view+json": {
       "model_id": "f32b8d6b8a78422cbdcbfd143d7ce764",
       "version_major": 2,
       "version_minor": 0
      },
      "text/plain": [
       "HBox(children=(FloatProgress(value=0.0, description='Epoch 1', max=1552.0, style=ProgressStyle(description_wid…"
      ]
     },
     "metadata": {
      "tags": []
     },
     "output_type": "display_data"
    },
    {
     "name": "stdout",
     "output_type": "stream",
     "text": [
      "\r\n",
      "Epoch 1\n",
      "Training loss: 0.9278539589806651\n",
      "Validation loss: 0.623195191264071\n",
      "F1 Score (Weighted): 0.8037690943889814\n"
     ]
    },
    {
<<<<<<< HEAD
      "cell_type": "markdown",
      "metadata": {
        "id": "VZ2d1LQN3_DY"
      },
      "source": [
        "**Note: Ran this model on Google Colab. The server kept timing out and didn't have time to run this on the IMS server.**\n",
        "\n",
        "So only the first epoch model has been saved.\n",
        "\n",
        "**Checkpoint: X**"
      ]
    },
    {
      "cell_type": "code",
      "metadata": {
        "colab": {
          "base_uri": "https://localhost:8080/",
          "height": 168,
          "referenced_widgets": [
            "5be7ec6cbe0f4c329a416e0089cd70e6",
            "bec53d87231d4c74b12123321e6a73e7",
            "772b97c0f0a343c19d0b702d4cf7eacc",
            "b6536403e691499c832321c36ae3ec89",
            "0cc93de4e6414756ab01e9fca886d4ff",
            "f67796fe72a4470eb65ab75fd8dcc726",
            "a92b39253ba54b9686bc759ace841bfb",
            "036bd21158a04a5da1f2a9127ed4bdb0",
            "f32b8d6b8a78422cbdcbfd143d7ce764",
            "caa338af70904c90a6e2173058ee7110",
            "823e7d22a91c460cb3409c9ac2a14370",
            "213266a680b742ccb5d0112b64d76977",
            "48695e4350264b5baaaaf1af23d9840e",
            "c0ae1107c02e490d95b3ed24fd430856",
            "bee10a116fe84d948862b6e433146f10",
            "84daf8d2bc3f4cf8a37b6537c519f52d",
            "c3af8c0353224cea95936cf46568fb3b",
            "0e7f38eb81474b71beca49cb471c4c45",
            "6354fe6b43664b71ac310522256db1cb",
            "1d0831694e8c48569215ca83c339a75a",
            "67ca0e7f6e554da2b1f3d9840873eb1b",
            "36b695cc31e4491ba5d0f272d7486a32",
            "247ef2d042674d39b684dd24c00bd4d0",
            "17f881b9d3354294bc1d20a8d533a48e"
          ]
        },
        "id": "VXmBOP6kNAY0",
        "outputId": "685fb17e-e29b-497a-fc45-71fdc69a7c84"
=======
     "data": {
      "application/vnd.jupyter.widget-view+json": {
       "model_id": "c3af8c0353224cea95936cf46568fb3b",
       "version_major": 2,
       "version_minor": 0
>>>>>>> 0f39f68f9786158b1c3bb11c3e68d2c21edb3658
      },
      "text/plain": [
       "HBox(children=(FloatProgress(value=0.0, description='Epoch 2', max=1552.0, style=ProgressStyle(description_wid…"
      ]
     },
     "metadata": {
      "tags": []
     },
     "output_type": "display_data"
    }
   ],
   "source": [
    "for epoch in tqdm(range(1, epochs+1)):\n",
    "    \n",
    "    torch.save(model.state_dict(), f'/content/drive/MyDrive/Colab Notebooks/emotion_data/finetuned_BERT_isear_epoch_{epoch}.model')\n",
    "\n",
    "    model.train()\n",
    "    \n",
    "    loss_train_total = 0\n",
    "\n",
    "    progress_bar = tqdm(dataloader_train, desc='Epoch {:1d}'.format(epoch), leave=False, disable=False)\n",
    "    for batch in progress_bar:\n",
    "\n",
    "        model.zero_grad()\n",
    "        \n",
    "        batch = tuple(b.to(device) for b in batch)\n",
    "        \n",
    "        inputs = {'input_ids':      batch[0],\n",
    "                  'attention_mask': batch[1],\n",
    "                  'labels':         batch[2],\n",
    "                 }       \n",
    "\n",
    "        outputs = model(**inputs)\n",
    "        \n",
    "        loss = outputs[0]\n",
    "        loss_train_total += loss.item()\n",
    "        loss.backward()\n",
    "\n",
    "        torch.nn.utils.clip_grad_norm_(model.parameters(), 1.0)\n",
    "\n",
    "        optimizer.step()\n",
    "        scheduler.step()\n",
    "        \n",
    "        progress_bar.set_postfix({'training_loss': '{:.3f}'.format(loss.item()/len(batch))})\n",
    "          \n",
    "    torch.save(model.state_dict(), f'/content/drive/MyDrive/Colab Notebooks/emotion_data/finetuned_BERT_isear_epoch_{epoch}.model')\n",
    "        \n",
    "    tqdm.write(f'\\nEpoch {epoch}')\n",
    "    \n",
    "    loss_train_avg = loss_train_total/len(dataloader_train)            \n",
    "    tqdm.write(f'Training loss: {loss_train_avg}')\n",
    "    \n",
    "    val_loss, predictions, true_vals = evaluate(dataloader_validation)\n",
    "    val_f1 = f1_score_func(predictions, true_vals)\n",
    "    tqdm.write(f'Validation loss: {val_loss}')\n",
    "    tqdm.write(f'F1 Score (Weighted): {val_f1}')\n"
   ]
  },
  {
   "cell_type": "code",
   "execution_count": 25,
   "metadata": {
    "colab": {
     "base_uri": "https://localhost:8080/"
    },
    "id": "DoF8rXKbBcoC",
    "outputId": "5cc4204e-79d2-4b47-b6d8-13c797770b71"
   },
   "outputs": [
    {
<<<<<<< HEAD
      "cell_type": "markdown",
      "metadata": {
        "id": "0IJFZPbk4xw2"
      },
      "source": [
        "**Load the Bert model and save it to the local running device.**\n",
        "Loaded it again here because I noticed that sometimes because of timeout, the model would get deleted from the local cache on Colab."
      ]
    },
    {
      "cell_type": "code",
      "metadata": {
        "id": "DoF8rXKbBcoC",
        "colab": {
          "base_uri": "https://localhost:8080/"
        },
        "outputId": "7b5b9127-66b2-481c-d4fe-70bc253aaae3"
      },
      "source": [
        "model = BertForSequenceClassification.from_pretrained(\"bert-base-uncased\",\n",
        "                                                      num_labels=len(label_dict),\n",
        "                                                      output_attentions=False,\n",
        "                                                      output_hidden_states=False)\n",
        "\n",
        "model.to(device)"
      ],
      "execution_count": 25,
      "outputs": [
        {
          "output_type": "stream",
          "text": [
            "Some weights of the model checkpoint at bert-base-uncased were not used when initializing BertForSequenceClassification: ['cls.predictions.bias', 'cls.predictions.transform.dense.weight', 'cls.predictions.transform.dense.bias', 'cls.predictions.decoder.weight', 'cls.seq_relationship.weight', 'cls.seq_relationship.bias', 'cls.predictions.transform.LayerNorm.weight', 'cls.predictions.transform.LayerNorm.bias']\n",
            "- This IS expected if you are initializing BertForSequenceClassification from the checkpoint of a model trained on another task or with another architecture (e.g. initializing a BertForSequenceClassification model from a BertForPreTraining model).\n",
            "- This IS NOT expected if you are initializing BertForSequenceClassification from the checkpoint of a model that you expect to be exactly identical (initializing a BertForSequenceClassification model from a BertForSequenceClassification model).\n",
            "Some weights of BertForSequenceClassification were not initialized from the model checkpoint at bert-base-uncased and are newly initialized: ['classifier.weight', 'classifier.bias']\n",
            "You should probably TRAIN this model on a down-stream task to be able to use it for predictions and inference.\n"
          ],
          "name": "stderr"
        },
        {
          "output_type": "execute_result",
          "data": {
            "text/plain": [
              "BertForSequenceClassification(\n",
              "  (bert): BertModel(\n",
              "    (embeddings): BertEmbeddings(\n",
              "      (word_embeddings): Embedding(30522, 768, padding_idx=0)\n",
              "      (position_embeddings): Embedding(512, 768)\n",
              "      (token_type_embeddings): Embedding(2, 768)\n",
              "      (LayerNorm): LayerNorm((768,), eps=1e-12, elementwise_affine=True)\n",
              "      (dropout): Dropout(p=0.1, inplace=False)\n",
              "    )\n",
              "    (encoder): BertEncoder(\n",
              "      (layer): ModuleList(\n",
              "        (0): BertLayer(\n",
              "          (attention): BertAttention(\n",
              "            (self): BertSelfAttention(\n",
              "              (query): Linear(in_features=768, out_features=768, bias=True)\n",
              "              (key): Linear(in_features=768, out_features=768, bias=True)\n",
              "              (value): Linear(in_features=768, out_features=768, bias=True)\n",
              "              (dropout): Dropout(p=0.1, inplace=False)\n",
              "            )\n",
              "            (output): BertSelfOutput(\n",
              "              (dense): Linear(in_features=768, out_features=768, bias=True)\n",
              "              (LayerNorm): LayerNorm((768,), eps=1e-12, elementwise_affine=True)\n",
              "              (dropout): Dropout(p=0.1, inplace=False)\n",
              "            )\n",
              "          )\n",
              "          (intermediate): BertIntermediate(\n",
              "            (dense): Linear(in_features=768, out_features=3072, bias=True)\n",
              "          )\n",
              "          (output): BertOutput(\n",
              "            (dense): Linear(in_features=3072, out_features=768, bias=True)\n",
              "            (LayerNorm): LayerNorm((768,), eps=1e-12, elementwise_affine=True)\n",
              "            (dropout): Dropout(p=0.1, inplace=False)\n",
              "          )\n",
              "        )\n",
              "        (1): BertLayer(\n",
              "          (attention): BertAttention(\n",
              "            (self): BertSelfAttention(\n",
              "              (query): Linear(in_features=768, out_features=768, bias=True)\n",
              "              (key): Linear(in_features=768, out_features=768, bias=True)\n",
              "              (value): Linear(in_features=768, out_features=768, bias=True)\n",
              "              (dropout): Dropout(p=0.1, inplace=False)\n",
              "            )\n",
              "            (output): BertSelfOutput(\n",
              "              (dense): Linear(in_features=768, out_features=768, bias=True)\n",
              "              (LayerNorm): LayerNorm((768,), eps=1e-12, elementwise_affine=True)\n",
              "              (dropout): Dropout(p=0.1, inplace=False)\n",
              "            )\n",
              "          )\n",
              "          (intermediate): BertIntermediate(\n",
              "            (dense): Linear(in_features=768, out_features=3072, bias=True)\n",
              "          )\n",
              "          (output): BertOutput(\n",
              "            (dense): Linear(in_features=3072, out_features=768, bias=True)\n",
              "            (LayerNorm): LayerNorm((768,), eps=1e-12, elementwise_affine=True)\n",
              "            (dropout): Dropout(p=0.1, inplace=False)\n",
              "          )\n",
              "        )\n",
              "        (2): BertLayer(\n",
              "          (attention): BertAttention(\n",
              "            (self): BertSelfAttention(\n",
              "              (query): Linear(in_features=768, out_features=768, bias=True)\n",
              "              (key): Linear(in_features=768, out_features=768, bias=True)\n",
              "              (value): Linear(in_features=768, out_features=768, bias=True)\n",
              "              (dropout): Dropout(p=0.1, inplace=False)\n",
              "            )\n",
              "            (output): BertSelfOutput(\n",
              "              (dense): Linear(in_features=768, out_features=768, bias=True)\n",
              "              (LayerNorm): LayerNorm((768,), eps=1e-12, elementwise_affine=True)\n",
              "              (dropout): Dropout(p=0.1, inplace=False)\n",
              "            )\n",
              "          )\n",
              "          (intermediate): BertIntermediate(\n",
              "            (dense): Linear(in_features=768, out_features=3072, bias=True)\n",
              "          )\n",
              "          (output): BertOutput(\n",
              "            (dense): Linear(in_features=3072, out_features=768, bias=True)\n",
              "            (LayerNorm): LayerNorm((768,), eps=1e-12, elementwise_affine=True)\n",
              "            (dropout): Dropout(p=0.1, inplace=False)\n",
              "          )\n",
              "        )\n",
              "        (3): BertLayer(\n",
              "          (attention): BertAttention(\n",
              "            (self): BertSelfAttention(\n",
              "              (query): Linear(in_features=768, out_features=768, bias=True)\n",
              "              (key): Linear(in_features=768, out_features=768, bias=True)\n",
              "              (value): Linear(in_features=768, out_features=768, bias=True)\n",
              "              (dropout): Dropout(p=0.1, inplace=False)\n",
              "            )\n",
              "            (output): BertSelfOutput(\n",
              "              (dense): Linear(in_features=768, out_features=768, bias=True)\n",
              "              (LayerNorm): LayerNorm((768,), eps=1e-12, elementwise_affine=True)\n",
              "              (dropout): Dropout(p=0.1, inplace=False)\n",
              "            )\n",
              "          )\n",
              "          (intermediate): BertIntermediate(\n",
              "            (dense): Linear(in_features=768, out_features=3072, bias=True)\n",
              "          )\n",
              "          (output): BertOutput(\n",
              "            (dense): Linear(in_features=3072, out_features=768, bias=True)\n",
              "            (LayerNorm): LayerNorm((768,), eps=1e-12, elementwise_affine=True)\n",
              "            (dropout): Dropout(p=0.1, inplace=False)\n",
              "          )\n",
              "        )\n",
              "        (4): BertLayer(\n",
              "          (attention): BertAttention(\n",
              "            (self): BertSelfAttention(\n",
              "              (query): Linear(in_features=768, out_features=768, bias=True)\n",
              "              (key): Linear(in_features=768, out_features=768, bias=True)\n",
              "              (value): Linear(in_features=768, out_features=768, bias=True)\n",
              "              (dropout): Dropout(p=0.1, inplace=False)\n",
              "            )\n",
              "            (output): BertSelfOutput(\n",
              "              (dense): Linear(in_features=768, out_features=768, bias=True)\n",
              "              (LayerNorm): LayerNorm((768,), eps=1e-12, elementwise_affine=True)\n",
              "              (dropout): Dropout(p=0.1, inplace=False)\n",
              "            )\n",
              "          )\n",
              "          (intermediate): BertIntermediate(\n",
              "            (dense): Linear(in_features=768, out_features=3072, bias=True)\n",
              "          )\n",
              "          (output): BertOutput(\n",
              "            (dense): Linear(in_features=3072, out_features=768, bias=True)\n",
              "            (LayerNorm): LayerNorm((768,), eps=1e-12, elementwise_affine=True)\n",
              "            (dropout): Dropout(p=0.1, inplace=False)\n",
              "          )\n",
              "        )\n",
              "        (5): BertLayer(\n",
              "          (attention): BertAttention(\n",
              "            (self): BertSelfAttention(\n",
              "              (query): Linear(in_features=768, out_features=768, bias=True)\n",
              "              (key): Linear(in_features=768, out_features=768, bias=True)\n",
              "              (value): Linear(in_features=768, out_features=768, bias=True)\n",
              "              (dropout): Dropout(p=0.1, inplace=False)\n",
              "            )\n",
              "            (output): BertSelfOutput(\n",
              "              (dense): Linear(in_features=768, out_features=768, bias=True)\n",
              "              (LayerNorm): LayerNorm((768,), eps=1e-12, elementwise_affine=True)\n",
              "              (dropout): Dropout(p=0.1, inplace=False)\n",
              "            )\n",
              "          )\n",
              "          (intermediate): BertIntermediate(\n",
              "            (dense): Linear(in_features=768, out_features=3072, bias=True)\n",
              "          )\n",
              "          (output): BertOutput(\n",
              "            (dense): Linear(in_features=3072, out_features=768, bias=True)\n",
              "            (LayerNorm): LayerNorm((768,), eps=1e-12, elementwise_affine=True)\n",
              "            (dropout): Dropout(p=0.1, inplace=False)\n",
              "          )\n",
              "        )\n",
              "        (6): BertLayer(\n",
              "          (attention): BertAttention(\n",
              "            (self): BertSelfAttention(\n",
              "              (query): Linear(in_features=768, out_features=768, bias=True)\n",
              "              (key): Linear(in_features=768, out_features=768, bias=True)\n",
              "              (value): Linear(in_features=768, out_features=768, bias=True)\n",
              "              (dropout): Dropout(p=0.1, inplace=False)\n",
              "            )\n",
              "            (output): BertSelfOutput(\n",
              "              (dense): Linear(in_features=768, out_features=768, bias=True)\n",
              "              (LayerNorm): LayerNorm((768,), eps=1e-12, elementwise_affine=True)\n",
              "              (dropout): Dropout(p=0.1, inplace=False)\n",
              "            )\n",
              "          )\n",
              "          (intermediate): BertIntermediate(\n",
              "            (dense): Linear(in_features=768, out_features=3072, bias=True)\n",
              "          )\n",
              "          (output): BertOutput(\n",
              "            (dense): Linear(in_features=3072, out_features=768, bias=True)\n",
              "            (LayerNorm): LayerNorm((768,), eps=1e-12, elementwise_affine=True)\n",
              "            (dropout): Dropout(p=0.1, inplace=False)\n",
              "          )\n",
              "        )\n",
              "        (7): BertLayer(\n",
              "          (attention): BertAttention(\n",
              "            (self): BertSelfAttention(\n",
              "              (query): Linear(in_features=768, out_features=768, bias=True)\n",
              "              (key): Linear(in_features=768, out_features=768, bias=True)\n",
              "              (value): Linear(in_features=768, out_features=768, bias=True)\n",
              "              (dropout): Dropout(p=0.1, inplace=False)\n",
              "            )\n",
              "            (output): BertSelfOutput(\n",
              "              (dense): Linear(in_features=768, out_features=768, bias=True)\n",
              "              (LayerNorm): LayerNorm((768,), eps=1e-12, elementwise_affine=True)\n",
              "              (dropout): Dropout(p=0.1, inplace=False)\n",
              "            )\n",
              "          )\n",
              "          (intermediate): BertIntermediate(\n",
              "            (dense): Linear(in_features=768, out_features=3072, bias=True)\n",
              "          )\n",
              "          (output): BertOutput(\n",
              "            (dense): Linear(in_features=3072, out_features=768, bias=True)\n",
              "            (LayerNorm): LayerNorm((768,), eps=1e-12, elementwise_affine=True)\n",
              "            (dropout): Dropout(p=0.1, inplace=False)\n",
              "          )\n",
              "        )\n",
              "        (8): BertLayer(\n",
              "          (attention): BertAttention(\n",
              "            (self): BertSelfAttention(\n",
              "              (query): Linear(in_features=768, out_features=768, bias=True)\n",
              "              (key): Linear(in_features=768, out_features=768, bias=True)\n",
              "              (value): Linear(in_features=768, out_features=768, bias=True)\n",
              "              (dropout): Dropout(p=0.1, inplace=False)\n",
              "            )\n",
              "            (output): BertSelfOutput(\n",
              "              (dense): Linear(in_features=768, out_features=768, bias=True)\n",
              "              (LayerNorm): LayerNorm((768,), eps=1e-12, elementwise_affine=True)\n",
              "              (dropout): Dropout(p=0.1, inplace=False)\n",
              "            )\n",
              "          )\n",
              "          (intermediate): BertIntermediate(\n",
              "            (dense): Linear(in_features=768, out_features=3072, bias=True)\n",
              "          )\n",
              "          (output): BertOutput(\n",
              "            (dense): Linear(in_features=3072, out_features=768, bias=True)\n",
              "            (LayerNorm): LayerNorm((768,), eps=1e-12, elementwise_affine=True)\n",
              "            (dropout): Dropout(p=0.1, inplace=False)\n",
              "          )\n",
              "        )\n",
              "        (9): BertLayer(\n",
              "          (attention): BertAttention(\n",
              "            (self): BertSelfAttention(\n",
              "              (query): Linear(in_features=768, out_features=768, bias=True)\n",
              "              (key): Linear(in_features=768, out_features=768, bias=True)\n",
              "              (value): Linear(in_features=768, out_features=768, bias=True)\n",
              "              (dropout): Dropout(p=0.1, inplace=False)\n",
              "            )\n",
              "            (output): BertSelfOutput(\n",
              "              (dense): Linear(in_features=768, out_features=768, bias=True)\n",
              "              (LayerNorm): LayerNorm((768,), eps=1e-12, elementwise_affine=True)\n",
              "              (dropout): Dropout(p=0.1, inplace=False)\n",
              "            )\n",
              "          )\n",
              "          (intermediate): BertIntermediate(\n",
              "            (dense): Linear(in_features=768, out_features=3072, bias=True)\n",
              "          )\n",
              "          (output): BertOutput(\n",
              "            (dense): Linear(in_features=3072, out_features=768, bias=True)\n",
              "            (LayerNorm): LayerNorm((768,), eps=1e-12, elementwise_affine=True)\n",
              "            (dropout): Dropout(p=0.1, inplace=False)\n",
              "          )\n",
              "        )\n",
              "        (10): BertLayer(\n",
              "          (attention): BertAttention(\n",
              "            (self): BertSelfAttention(\n",
              "              (query): Linear(in_features=768, out_features=768, bias=True)\n",
              "              (key): Linear(in_features=768, out_features=768, bias=True)\n",
              "              (value): Linear(in_features=768, out_features=768, bias=True)\n",
              "              (dropout): Dropout(p=0.1, inplace=False)\n",
              "            )\n",
              "            (output): BertSelfOutput(\n",
              "              (dense): Linear(in_features=768, out_features=768, bias=True)\n",
              "              (LayerNorm): LayerNorm((768,), eps=1e-12, elementwise_affine=True)\n",
              "              (dropout): Dropout(p=0.1, inplace=False)\n",
              "            )\n",
              "          )\n",
              "          (intermediate): BertIntermediate(\n",
              "            (dense): Linear(in_features=768, out_features=3072, bias=True)\n",
              "          )\n",
              "          (output): BertOutput(\n",
              "            (dense): Linear(in_features=3072, out_features=768, bias=True)\n",
              "            (LayerNorm): LayerNorm((768,), eps=1e-12, elementwise_affine=True)\n",
              "            (dropout): Dropout(p=0.1, inplace=False)\n",
              "          )\n",
              "        )\n",
              "        (11): BertLayer(\n",
              "          (attention): BertAttention(\n",
              "            (self): BertSelfAttention(\n",
              "              (query): Linear(in_features=768, out_features=768, bias=True)\n",
              "              (key): Linear(in_features=768, out_features=768, bias=True)\n",
              "              (value): Linear(in_features=768, out_features=768, bias=True)\n",
              "              (dropout): Dropout(p=0.1, inplace=False)\n",
              "            )\n",
              "            (output): BertSelfOutput(\n",
              "              (dense): Linear(in_features=768, out_features=768, bias=True)\n",
              "              (LayerNorm): LayerNorm((768,), eps=1e-12, elementwise_affine=True)\n",
              "              (dropout): Dropout(p=0.1, inplace=False)\n",
              "            )\n",
              "          )\n",
              "          (intermediate): BertIntermediate(\n",
              "            (dense): Linear(in_features=768, out_features=3072, bias=True)\n",
              "          )\n",
              "          (output): BertOutput(\n",
              "            (dense): Linear(in_features=3072, out_features=768, bias=True)\n",
              "            (LayerNorm): LayerNorm((768,), eps=1e-12, elementwise_affine=True)\n",
              "            (dropout): Dropout(p=0.1, inplace=False)\n",
              "          )\n",
              "        )\n",
              "      )\n",
              "    )\n",
              "    (pooler): BertPooler(\n",
              "      (dense): Linear(in_features=768, out_features=768, bias=True)\n",
              "      (activation): Tanh()\n",
              "    )\n",
              "  )\n",
              "  (dropout): Dropout(p=0.1, inplace=False)\n",
              "  (classifier): Linear(in_features=768, out_features=5, bias=True)\n",
              ")"
            ]
          },
          "metadata": {
            "tags": []
          },
          "execution_count": 25
        }
=======
     "name": "stderr",
     "output_type": "stream",
     "text": [
      "Some weights of the model checkpoint at bert-base-uncased were not used when initializing BertForSequenceClassification: ['cls.predictions.bias', 'cls.predictions.transform.dense.weight', 'cls.predictions.transform.dense.bias', 'cls.predictions.decoder.weight', 'cls.seq_relationship.weight', 'cls.seq_relationship.bias', 'cls.predictions.transform.LayerNorm.weight', 'cls.predictions.transform.LayerNorm.bias']\n",
      "- This IS expected if you are initializing BertForSequenceClassification from the checkpoint of a model trained on another task or with another architecture (e.g. initializing a BertForSequenceClassification model from a BertForPreTraining model).\n",
      "- This IS NOT expected if you are initializing BertForSequenceClassification from the checkpoint of a model that you expect to be exactly identical (initializing a BertForSequenceClassification model from a BertForSequenceClassification model).\n",
      "Some weights of BertForSequenceClassification were not initialized from the model checkpoint at bert-base-uncased and are newly initialized: ['classifier.weight', 'classifier.bias']\n",
      "You should probably TRAIN this model on a down-stream task to be able to use it for predictions and inference.\n"
     ]
    },
    {
     "data": {
      "text/plain": [
       "BertForSequenceClassification(\n",
       "  (bert): BertModel(\n",
       "    (embeddings): BertEmbeddings(\n",
       "      (word_embeddings): Embedding(30522, 768, padding_idx=0)\n",
       "      (position_embeddings): Embedding(512, 768)\n",
       "      (token_type_embeddings): Embedding(2, 768)\n",
       "      (LayerNorm): LayerNorm((768,), eps=1e-12, elementwise_affine=True)\n",
       "      (dropout): Dropout(p=0.1, inplace=False)\n",
       "    )\n",
       "    (encoder): BertEncoder(\n",
       "      (layer): ModuleList(\n",
       "        (0): BertLayer(\n",
       "          (attention): BertAttention(\n",
       "            (self): BertSelfAttention(\n",
       "              (query): Linear(in_features=768, out_features=768, bias=True)\n",
       "              (key): Linear(in_features=768, out_features=768, bias=True)\n",
       "              (value): Linear(in_features=768, out_features=768, bias=True)\n",
       "              (dropout): Dropout(p=0.1, inplace=False)\n",
       "            )\n",
       "            (output): BertSelfOutput(\n",
       "              (dense): Linear(in_features=768, out_features=768, bias=True)\n",
       "              (LayerNorm): LayerNorm((768,), eps=1e-12, elementwise_affine=True)\n",
       "              (dropout): Dropout(p=0.1, inplace=False)\n",
       "            )\n",
       "          )\n",
       "          (intermediate): BertIntermediate(\n",
       "            (dense): Linear(in_features=768, out_features=3072, bias=True)\n",
       "          )\n",
       "          (output): BertOutput(\n",
       "            (dense): Linear(in_features=3072, out_features=768, bias=True)\n",
       "            (LayerNorm): LayerNorm((768,), eps=1e-12, elementwise_affine=True)\n",
       "            (dropout): Dropout(p=0.1, inplace=False)\n",
       "          )\n",
       "        )\n",
       "        (1): BertLayer(\n",
       "          (attention): BertAttention(\n",
       "            (self): BertSelfAttention(\n",
       "              (query): Linear(in_features=768, out_features=768, bias=True)\n",
       "              (key): Linear(in_features=768, out_features=768, bias=True)\n",
       "              (value): Linear(in_features=768, out_features=768, bias=True)\n",
       "              (dropout): Dropout(p=0.1, inplace=False)\n",
       "            )\n",
       "            (output): BertSelfOutput(\n",
       "              (dense): Linear(in_features=768, out_features=768, bias=True)\n",
       "              (LayerNorm): LayerNorm((768,), eps=1e-12, elementwise_affine=True)\n",
       "              (dropout): Dropout(p=0.1, inplace=False)\n",
       "            )\n",
       "          )\n",
       "          (intermediate): BertIntermediate(\n",
       "            (dense): Linear(in_features=768, out_features=3072, bias=True)\n",
       "          )\n",
       "          (output): BertOutput(\n",
       "            (dense): Linear(in_features=3072, out_features=768, bias=True)\n",
       "            (LayerNorm): LayerNorm((768,), eps=1e-12, elementwise_affine=True)\n",
       "            (dropout): Dropout(p=0.1, inplace=False)\n",
       "          )\n",
       "        )\n",
       "        (2): BertLayer(\n",
       "          (attention): BertAttention(\n",
       "            (self): BertSelfAttention(\n",
       "              (query): Linear(in_features=768, out_features=768, bias=True)\n",
       "              (key): Linear(in_features=768, out_features=768, bias=True)\n",
       "              (value): Linear(in_features=768, out_features=768, bias=True)\n",
       "              (dropout): Dropout(p=0.1, inplace=False)\n",
       "            )\n",
       "            (output): BertSelfOutput(\n",
       "              (dense): Linear(in_features=768, out_features=768, bias=True)\n",
       "              (LayerNorm): LayerNorm((768,), eps=1e-12, elementwise_affine=True)\n",
       "              (dropout): Dropout(p=0.1, inplace=False)\n",
       "            )\n",
       "          )\n",
       "          (intermediate): BertIntermediate(\n",
       "            (dense): Linear(in_features=768, out_features=3072, bias=True)\n",
       "          )\n",
       "          (output): BertOutput(\n",
       "            (dense): Linear(in_features=3072, out_features=768, bias=True)\n",
       "            (LayerNorm): LayerNorm((768,), eps=1e-12, elementwise_affine=True)\n",
       "            (dropout): Dropout(p=0.1, inplace=False)\n",
       "          )\n",
       "        )\n",
       "        (3): BertLayer(\n",
       "          (attention): BertAttention(\n",
       "            (self): BertSelfAttention(\n",
       "              (query): Linear(in_features=768, out_features=768, bias=True)\n",
       "              (key): Linear(in_features=768, out_features=768, bias=True)\n",
       "              (value): Linear(in_features=768, out_features=768, bias=True)\n",
       "              (dropout): Dropout(p=0.1, inplace=False)\n",
       "            )\n",
       "            (output): BertSelfOutput(\n",
       "              (dense): Linear(in_features=768, out_features=768, bias=True)\n",
       "              (LayerNorm): LayerNorm((768,), eps=1e-12, elementwise_affine=True)\n",
       "              (dropout): Dropout(p=0.1, inplace=False)\n",
       "            )\n",
       "          )\n",
       "          (intermediate): BertIntermediate(\n",
       "            (dense): Linear(in_features=768, out_features=3072, bias=True)\n",
       "          )\n",
       "          (output): BertOutput(\n",
       "            (dense): Linear(in_features=3072, out_features=768, bias=True)\n",
       "            (LayerNorm): LayerNorm((768,), eps=1e-12, elementwise_affine=True)\n",
       "            (dropout): Dropout(p=0.1, inplace=False)\n",
       "          )\n",
       "        )\n",
       "        (4): BertLayer(\n",
       "          (attention): BertAttention(\n",
       "            (self): BertSelfAttention(\n",
       "              (query): Linear(in_features=768, out_features=768, bias=True)\n",
       "              (key): Linear(in_features=768, out_features=768, bias=True)\n",
       "              (value): Linear(in_features=768, out_features=768, bias=True)\n",
       "              (dropout): Dropout(p=0.1, inplace=False)\n",
       "            )\n",
       "            (output): BertSelfOutput(\n",
       "              (dense): Linear(in_features=768, out_features=768, bias=True)\n",
       "              (LayerNorm): LayerNorm((768,), eps=1e-12, elementwise_affine=True)\n",
       "              (dropout): Dropout(p=0.1, inplace=False)\n",
       "            )\n",
       "          )\n",
       "          (intermediate): BertIntermediate(\n",
       "            (dense): Linear(in_features=768, out_features=3072, bias=True)\n",
       "          )\n",
       "          (output): BertOutput(\n",
       "            (dense): Linear(in_features=3072, out_features=768, bias=True)\n",
       "            (LayerNorm): LayerNorm((768,), eps=1e-12, elementwise_affine=True)\n",
       "            (dropout): Dropout(p=0.1, inplace=False)\n",
       "          )\n",
       "        )\n",
       "        (5): BertLayer(\n",
       "          (attention): BertAttention(\n",
       "            (self): BertSelfAttention(\n",
       "              (query): Linear(in_features=768, out_features=768, bias=True)\n",
       "              (key): Linear(in_features=768, out_features=768, bias=True)\n",
       "              (value): Linear(in_features=768, out_features=768, bias=True)\n",
       "              (dropout): Dropout(p=0.1, inplace=False)\n",
       "            )\n",
       "            (output): BertSelfOutput(\n",
       "              (dense): Linear(in_features=768, out_features=768, bias=True)\n",
       "              (LayerNorm): LayerNorm((768,), eps=1e-12, elementwise_affine=True)\n",
       "              (dropout): Dropout(p=0.1, inplace=False)\n",
       "            )\n",
       "          )\n",
       "          (intermediate): BertIntermediate(\n",
       "            (dense): Linear(in_features=768, out_features=3072, bias=True)\n",
       "          )\n",
       "          (output): BertOutput(\n",
       "            (dense): Linear(in_features=3072, out_features=768, bias=True)\n",
       "            (LayerNorm): LayerNorm((768,), eps=1e-12, elementwise_affine=True)\n",
       "            (dropout): Dropout(p=0.1, inplace=False)\n",
       "          )\n",
       "        )\n",
       "        (6): BertLayer(\n",
       "          (attention): BertAttention(\n",
       "            (self): BertSelfAttention(\n",
       "              (query): Linear(in_features=768, out_features=768, bias=True)\n",
       "              (key): Linear(in_features=768, out_features=768, bias=True)\n",
       "              (value): Linear(in_features=768, out_features=768, bias=True)\n",
       "              (dropout): Dropout(p=0.1, inplace=False)\n",
       "            )\n",
       "            (output): BertSelfOutput(\n",
       "              (dense): Linear(in_features=768, out_features=768, bias=True)\n",
       "              (LayerNorm): LayerNorm((768,), eps=1e-12, elementwise_affine=True)\n",
       "              (dropout): Dropout(p=0.1, inplace=False)\n",
       "            )\n",
       "          )\n",
       "          (intermediate): BertIntermediate(\n",
       "            (dense): Linear(in_features=768, out_features=3072, bias=True)\n",
       "          )\n",
       "          (output): BertOutput(\n",
       "            (dense): Linear(in_features=3072, out_features=768, bias=True)\n",
       "            (LayerNorm): LayerNorm((768,), eps=1e-12, elementwise_affine=True)\n",
       "            (dropout): Dropout(p=0.1, inplace=False)\n",
       "          )\n",
       "        )\n",
       "        (7): BertLayer(\n",
       "          (attention): BertAttention(\n",
       "            (self): BertSelfAttention(\n",
       "              (query): Linear(in_features=768, out_features=768, bias=True)\n",
       "              (key): Linear(in_features=768, out_features=768, bias=True)\n",
       "              (value): Linear(in_features=768, out_features=768, bias=True)\n",
       "              (dropout): Dropout(p=0.1, inplace=False)\n",
       "            )\n",
       "            (output): BertSelfOutput(\n",
       "              (dense): Linear(in_features=768, out_features=768, bias=True)\n",
       "              (LayerNorm): LayerNorm((768,), eps=1e-12, elementwise_affine=True)\n",
       "              (dropout): Dropout(p=0.1, inplace=False)\n",
       "            )\n",
       "          )\n",
       "          (intermediate): BertIntermediate(\n",
       "            (dense): Linear(in_features=768, out_features=3072, bias=True)\n",
       "          )\n",
       "          (output): BertOutput(\n",
       "            (dense): Linear(in_features=3072, out_features=768, bias=True)\n",
       "            (LayerNorm): LayerNorm((768,), eps=1e-12, elementwise_affine=True)\n",
       "            (dropout): Dropout(p=0.1, inplace=False)\n",
       "          )\n",
       "        )\n",
       "        (8): BertLayer(\n",
       "          (attention): BertAttention(\n",
       "            (self): BertSelfAttention(\n",
       "              (query): Linear(in_features=768, out_features=768, bias=True)\n",
       "              (key): Linear(in_features=768, out_features=768, bias=True)\n",
       "              (value): Linear(in_features=768, out_features=768, bias=True)\n",
       "              (dropout): Dropout(p=0.1, inplace=False)\n",
       "            )\n",
       "            (output): BertSelfOutput(\n",
       "              (dense): Linear(in_features=768, out_features=768, bias=True)\n",
       "              (LayerNorm): LayerNorm((768,), eps=1e-12, elementwise_affine=True)\n",
       "              (dropout): Dropout(p=0.1, inplace=False)\n",
       "            )\n",
       "          )\n",
       "          (intermediate): BertIntermediate(\n",
       "            (dense): Linear(in_features=768, out_features=3072, bias=True)\n",
       "          )\n",
       "          (output): BertOutput(\n",
       "            (dense): Linear(in_features=3072, out_features=768, bias=True)\n",
       "            (LayerNorm): LayerNorm((768,), eps=1e-12, elementwise_affine=True)\n",
       "            (dropout): Dropout(p=0.1, inplace=False)\n",
       "          )\n",
       "        )\n",
       "        (9): BertLayer(\n",
       "          (attention): BertAttention(\n",
       "            (self): BertSelfAttention(\n",
       "              (query): Linear(in_features=768, out_features=768, bias=True)\n",
       "              (key): Linear(in_features=768, out_features=768, bias=True)\n",
       "              (value): Linear(in_features=768, out_features=768, bias=True)\n",
       "              (dropout): Dropout(p=0.1, inplace=False)\n",
       "            )\n",
       "            (output): BertSelfOutput(\n",
       "              (dense): Linear(in_features=768, out_features=768, bias=True)\n",
       "              (LayerNorm): LayerNorm((768,), eps=1e-12, elementwise_affine=True)\n",
       "              (dropout): Dropout(p=0.1, inplace=False)\n",
       "            )\n",
       "          )\n",
       "          (intermediate): BertIntermediate(\n",
       "            (dense): Linear(in_features=768, out_features=3072, bias=True)\n",
       "          )\n",
       "          (output): BertOutput(\n",
       "            (dense): Linear(in_features=3072, out_features=768, bias=True)\n",
       "            (LayerNorm): LayerNorm((768,), eps=1e-12, elementwise_affine=True)\n",
       "            (dropout): Dropout(p=0.1, inplace=False)\n",
       "          )\n",
       "        )\n",
       "        (10): BertLayer(\n",
       "          (attention): BertAttention(\n",
       "            (self): BertSelfAttention(\n",
       "              (query): Linear(in_features=768, out_features=768, bias=True)\n",
       "              (key): Linear(in_features=768, out_features=768, bias=True)\n",
       "              (value): Linear(in_features=768, out_features=768, bias=True)\n",
       "              (dropout): Dropout(p=0.1, inplace=False)\n",
       "            )\n",
       "            (output): BertSelfOutput(\n",
       "              (dense): Linear(in_features=768, out_features=768, bias=True)\n",
       "              (LayerNorm): LayerNorm((768,), eps=1e-12, elementwise_affine=True)\n",
       "              (dropout): Dropout(p=0.1, inplace=False)\n",
       "            )\n",
       "          )\n",
       "          (intermediate): BertIntermediate(\n",
       "            (dense): Linear(in_features=768, out_features=3072, bias=True)\n",
       "          )\n",
       "          (output): BertOutput(\n",
       "            (dense): Linear(in_features=3072, out_features=768, bias=True)\n",
       "            (LayerNorm): LayerNorm((768,), eps=1e-12, elementwise_affine=True)\n",
       "            (dropout): Dropout(p=0.1, inplace=False)\n",
       "          )\n",
       "        )\n",
       "        (11): BertLayer(\n",
       "          (attention): BertAttention(\n",
       "            (self): BertSelfAttention(\n",
       "              (query): Linear(in_features=768, out_features=768, bias=True)\n",
       "              (key): Linear(in_features=768, out_features=768, bias=True)\n",
       "              (value): Linear(in_features=768, out_features=768, bias=True)\n",
       "              (dropout): Dropout(p=0.1, inplace=False)\n",
       "            )\n",
       "            (output): BertSelfOutput(\n",
       "              (dense): Linear(in_features=768, out_features=768, bias=True)\n",
       "              (LayerNorm): LayerNorm((768,), eps=1e-12, elementwise_affine=True)\n",
       "              (dropout): Dropout(p=0.1, inplace=False)\n",
       "            )\n",
       "          )\n",
       "          (intermediate): BertIntermediate(\n",
       "            (dense): Linear(in_features=768, out_features=3072, bias=True)\n",
       "          )\n",
       "          (output): BertOutput(\n",
       "            (dense): Linear(in_features=3072, out_features=768, bias=True)\n",
       "            (LayerNorm): LayerNorm((768,), eps=1e-12, elementwise_affine=True)\n",
       "            (dropout): Dropout(p=0.1, inplace=False)\n",
       "          )\n",
       "        )\n",
       "      )\n",
       "    )\n",
       "    (pooler): BertPooler(\n",
       "      (dense): Linear(in_features=768, out_features=768, bias=True)\n",
       "      (activation): Tanh()\n",
       "    )\n",
       "  )\n",
       "  (dropout): Dropout(p=0.1, inplace=False)\n",
       "  (classifier): Linear(in_features=768, out_features=5, bias=True)\n",
       ")"
>>>>>>> 0f39f68f9786158b1c3bb11c3e68d2c21edb3658
      ]
     },
     "execution_count": 25,
     "metadata": {
      "tags": []
     },
     "output_type": "execute_result"
    }
   ],
   "source": [
    "model = BertForSequenceClassification.from_pretrained(\"bert-base-uncased\",\n",
    "                                                      num_labels=len(label_dict),\n",
    "                                                      output_attentions=False,\n",
    "                                                      output_hidden_states=False)\n",
    "\n",
    "model.to(device)"
   ]
  },
  {
   "cell_type": "code",
   "execution_count": 26,
   "metadata": {
    "colab": {
     "base_uri": "https://localhost:8080/"
    },
    "id": "iCpbewAHBg9I",
    "outputId": "7a1894b7-9cac-4d5a-e7ea-542a2eabfe5d"
   },
   "outputs": [
    {
<<<<<<< HEAD
      "cell_type": "markdown",
      "metadata": {
        "id": "t3D32nyz5P9L"
      },
      "source": [
        "**Load the fine-tuned model which ran for one epoch.**"
      ]
    },
    {
      "cell_type": "code",
      "metadata": {
        "id": "iCpbewAHBg9I",
        "colab": {
          "base_uri": "https://localhost:8080/"
        },
        "outputId": "5695abd7-d2d6-4190-a249-b20363a5ef78"
      },
      "source": [
        "model.load_state_dict(torch.load('/content/drive/MyDrive/Colab Notebooks/emotion_data/finetuned_BERT_isear_epoch_1.model', map_location=torch.device('cpu')))"
      ],
      "execution_count": 27,
      "outputs": [
        {
          "output_type": "execute_result",
          "data": {
            "text/plain": [
              "<All keys matched successfully>"
            ]
          },
          "metadata": {
            "tags": []
          },
          "execution_count": 27
        }
=======
     "data": {
      "text/plain": [
       "<All keys matched successfully>"
>>>>>>> 0f39f68f9786158b1c3bb11c3e68d2c21edb3658
      ]
     },
     "execution_count": 26,
     "metadata": {
      "tags": []
     },
     "output_type": "execute_result"
    }
   ],
   "source": [
    "model.load_state_dict(torch.load('/content/drive/MyDrive/Colab Notebooks/emotion_data/finetuned_BERT_isear_epoch_1.model', map_location=torch.device('cpu')))"
   ]
  },
  {
   "cell_type": "code",
   "execution_count": 27,
   "metadata": {
    "id": "ikug2rrGBm01"
   },
   "outputs": [],
   "source": [
    "_, predictions, true_vals = evaluate(dataloader_validation)"
   ]
  },
  {
   "cell_type": "code",
   "execution_count": 28,
   "metadata": {
    "colab": {
     "base_uri": "https://localhost:8080/"
    },
    "id": "0hxsKFOBBoLB",
    "outputId": "89e2bf85-39fe-49a4-bc4f-a1afead788e3"
   },
   "outputs": [
    {
<<<<<<< HEAD
      "cell_type": "markdown",
      "metadata": {
        "id": "TVHqh3hn5ZWz"
      },
      "source": [
        "**Compute the y_pred and y_true**\n"
      ]
    },
    {
      "cell_type": "code",
      "metadata": {
        "id": "ikug2rrGBm01"
      },
      "source": [
        "_, predictions, true_vals = evaluate(dataloader_validation)"
      ],
      "execution_count": 28,
      "outputs": []
=======
     "name": "stdout",
     "output_type": "stream",
     "text": [
      "Class: joy\n",
      "Accuracy: 151/164\n",
      "\n",
      "Class: fear\n",
      "Accuracy: 131/164\n",
      "\n",
      "Class: anger\n",
      "Accuracy: 113/164\n",
      "\n",
      "Class: sadness\n",
      "Accuracy: 136/165\n",
      "\n",
      "Class: disgust\n",
      "Accuracy: 129/165\n",
      "\n"
     ]
    }
   ],
   "source": [
    "accuracy_per_class(predictions, true_vals)"
   ]
  },
  {
   "cell_type": "code",
   "execution_count": 2,
   "metadata": {
    "colab": {
     "base_uri": "https://localhost:8080/",
     "height": 281
>>>>>>> 0f39f68f9786158b1c3bb11c3e68d2c21edb3658
    },
    "id": "NtZivh_7u-mU",
    "outputId": "fdf33725-8481-403b-dfa1-badbdada53d5"
   },
   "outputs": [
    {
<<<<<<< HEAD
      "cell_type": "markdown",
      "metadata": {
        "id": "7u-sIDNj5fUi"
      },
      "source": [
        "**Calculate the class accuracy**"
      ]
    },
    {
      "cell_type": "code",
      "metadata": {
        "id": "0hxsKFOBBoLB",
        "colab": {
          "base_uri": "https://localhost:8080/"
        },
        "outputId": "89e2bf85-39fe-49a4-bc4f-a1afead788e3"
      },
      "source": [
        "accuracy_per_class(predictions, true_vals)"
      ],
      "execution_count": null,
      "outputs": [
        {
          "output_type": "stream",
          "text": [
            "Class: joy\n",
            "Accuracy: 151/164\n",
            "\n",
            "Class: fear\n",
            "Accuracy: 131/164\n",
            "\n",
            "Class: anger\n",
            "Accuracy: 113/164\n",
            "\n",
            "Class: sadness\n",
            "Accuracy: 136/165\n",
            "\n",
            "Class: disgust\n",
            "Accuracy: 129/165\n",
            "\n"
          ],
          "name": "stdout"
        }
=======
     "data": {
      "image/png": "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\n",
      "text/plain": [
       "<Figure size 432x288 with 1 Axes>"
>>>>>>> 0f39f68f9786158b1c3bb11c3e68d2c21edb3658
      ]
     },
     "metadata": {
      "needs_background": "light",
      "tags": []
     },
     "output_type": "display_data"
    }
   ],
   "source": [
    "# stacked bar plot\n",
    "import numpy as np\n",
    "import matplotlib.pyplot as plt\n",
    "\n",
    "emotion_labels = ['Joy', 'Fear', 'Anger', 'Sadness', 'Disgust']\n",
    "total = [164, 164, 164, 165, 165]\n",
    "\n",
    "score = [151, 131, 113, 136, 129]\n",
    "error = []\n",
    "for score_i, total_i in zip(score, total):\n",
    "    error.append(total_i-score_i)\n",
    "\n",
    "score_color = ['#EBA94B', '#CC4CC3', '#DC5849', '#2E6E9C', '#204B20']\n",
    "error_color = ['#F2C38B', '#F9BEF6', '#ECA088', '#D2E4F2', '#A6D1C0']\n",
    "\n",
    "width = 0.35\n",
    "fig, ax = plt.subplots()\n",
    "\n",
    "ax.bar(emotion_labels, score, width, color=score_color)\n",
    "ax.bar(emotion_labels, error, width, bottom=score, color=error_color)\n",
    "\n",
    "ax.set_ylabel('Class Size')\n",
    "ax.set_title('Accuracy Per Class')\n",
    "\n",
    "plt.show()"
   ]
  }
 ],
 "metadata": {
  "colab": {
   "collapsed_sections": [],
   "name": "EA-BaseBert-isear.ipynb",
   "provenance": []
  },
  "kernelspec": {
   "display_name": "Python 3",
   "language": "python",
   "name": "python3"
  },
  "language_info": {
   "codemirror_mode": {
    "name": "ipython",
    "version": 3
   },
   "file_extension": ".py",
   "mimetype": "text/x-python",
   "name": "python",
   "nbconvert_exporter": "python",
   "pygments_lexer": "ipython3",
   "version": "3.9.1"
  },
  "widgets": {
   "application/vnd.jupyter.widget-state+json": {
    "036bd21158a04a5da1f2a9127ed4bdb0": {
     "model_module": "@jupyter-widgets/base",
     "model_name": "LayoutModel",
     "state": {
      "_model_module": "@jupyter-widgets/base",
      "_model_module_version": "1.2.0",
      "_model_name": "LayoutModel",
      "_view_count": null,
      "_view_module": "@jupyter-widgets/base",
      "_view_module_version": "1.2.0",
      "_view_name": "LayoutView",
      "align_content": null,
      "align_items": null,
      "align_self": null,
      "border": null,
      "bottom": null,
      "display": null,
      "flex": null,
      "flex_flow": null,
      "grid_area": null,
      "grid_auto_columns": null,
      "grid_auto_flow": null,
      "grid_auto_rows": null,
      "grid_column": null,
      "grid_gap": null,
      "grid_row": null,
      "grid_template_areas": null,
      "grid_template_columns": null,
      "grid_template_rows": null,
      "height": null,
      "justify_content": null,
      "justify_items": null,
      "left": null,
      "margin": null,
      "max_height": null,
      "max_width": null,
      "min_height": null,
      "min_width": null,
      "object_fit": null,
      "object_position": null,
      "order": null,
      "overflow": null,
      "overflow_x": null,
      "overflow_y": null,
      "padding": null,
      "right": null,
      "top": null,
      "visibility": null,
      "width": null
     }
    },
<<<<<<< HEAD
    {
      "cell_type": "markdown",
      "metadata": {
        "id": "wUwkBFul5ifW"
      },
      "source": [
        "**Visualization for the model class accuracy**"
      ]
    },
    {
      "cell_type": "code",
      "metadata": {
        "colab": {
          "base_uri": "https://localhost:8080/",
          "height": 281
        },
        "id": "NtZivh_7u-mU",
        "outputId": "fdf33725-8481-403b-dfa1-badbdada53d5"
      },
      "source": [
        "# stacked bar plot\n",
        "import numpy as np\n",
        "import matplotlib.pyplot as plt\n",
        "\n",
        "emotion_labels = ['Joy', 'Fear', 'Anger', 'Sadness', 'Disgust']\n",
        "total = [164, 164, 164, 165, 165]\n",
        "\n",
        "score = [151, 131, 113, 136, 129]\n",
        "error = []\n",
        "for score_i, total_i in zip(score, total):\n",
        "    error.append(total_i-score_i)\n",
        "\n",
        "score_color = ['#EBA94B', '#CC4CC3', '#DC5849', '#2E6E9C', '#204B20']\n",
        "error_color = ['#F2C38B', '#F9BEF6', '#ECA088', '#D2E4F2', '#A6D1C0']\n",
        "\n",
        "width = 0.35\n",
        "fig, ax = plt.subplots()\n",
        "\n",
        "ax.bar(emotion_labels, score, width, color=score_color)\n",
        "ax.bar(emotion_labels, error, width, bottom=score, color=error_color)\n",
        "\n",
        "ax.set_ylabel('Class Size')\n",
        "ax.set_title('Accuracy Per Class')\n",
        "\n",
        "plt.show()"
      ],
      "execution_count": null,
      "outputs": [
        {
          "output_type": "display_data",
          "data": {
            "image/png": "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\n",
            "text/plain": [
              "<Figure size 432x288 with 1 Axes>"
            ]
          },
          "metadata": {
            "tags": [],
            "needs_background": "light"
          }
        }
      ]
    },
    {
      "cell_type": "markdown",
      "metadata": {
        "id": "tUfhu8Yx6LJs"
      },
      "source": [
        "**Checkpoint: P**"
      ]
    },
    {
      "cell_type": "code",
      "metadata": {
        "id": "2zZ3j3Racs_2"
      },
      "source": [
        "tales_df = pd.read_pickle(\"/content/drive/MyDrive/Colab Notebooks/emotion_data/tales_refactored.pkl\")"
      ],
      "execution_count": 10,
      "outputs": []
    },
    {
      "cell_type": "markdown",
      "metadata": {
        "id": "jm_Ve1cB-Quf"
      },
      "source": [
        "**See how the labels have been adjusted**"
      ]
    },
    {
      "cell_type": "code",
      "metadata": {
        "id": "7Gi85ZAtkHiy"
      },
      "source": [
        "# source -> {'anger': 0, 'disgust': 4, 'fear': 2, 'joy': 1, 'sadness': 3}\n",
        "# target -> {'anger': 2, 'disgust': 4, 'fear': 1, 'joy': 0, 'sadness': 3}\n",
        "\n",
        "for i, row in tales_df.iterrows():\n",
        "  if tales_df.loc[i,'label']  == 0:\n",
        "    tales_df.loc[i,'label'] = 2\n",
        "  elif tales_df.loc[i,'label'] == 2:\n",
        "    tales_df.loc[i,'label'] = 1\n",
        "  elif tales_df.loc[i,'label'] == 1:\n",
        "    tales_df.loc[i,'label'] = 0"
      ],
      "execution_count": 11,
      "outputs": []
    },
    {
      "cell_type": "markdown",
      "metadata": {
        "id": "2ygNoiqe-YVu"
      },
      "source": [
        "**Note that the total dataset size has been kept constant. So we had 4655-822 for the isear-isear train-val split. Now we have the same 4655-822, but for the isear-tales test-train sample size.**"
      ]
    },
    {
      "cell_type": "code",
      "metadata": {
        "colab": {
          "base_uri": "https://localhost:8080/",
          "height": 394
        },
        "id": "Pi3kBFc6c2VT",
        "outputId": "d3db74a2-8890-486f-c3ae-9314ae881a49"
      },
      "source": [
        "from sklearn.model_selection import train_test_split\n",
        "\n",
        "rand_isear = df_isear.sample(n=4655, random_state=42)\n",
        "rand_tales = tales_df.sample(n=822, random_state=42)\n",
        "\n",
        "df_isear = pd.concat([rand_isear, rand_tales])\n",
        "\n",
        "X_train, X_val, y_train, y_val = train_test_split(df_isear.index.values, \n",
        "                                                  df_isear.label.values, \n",
        "                                                  test_size=0.15, \n",
        "                                                  random_state=42, \n",
        "                                                  stratify=df_isear.label.values)\n",
        "df_isear['data_type'] = ['not_set']*df_isear.shape[0]\n",
        "\n",
        "df_isear.loc[X_train, 'data_type'] = 'train'\n",
        "df_isear.loc[X_val, 'data_type'] = 'val'\n",
        "df_isear.groupby(['target_emotions', 'label', 'data_type']).count()"
      ],
      "execution_count": 12,
      "outputs": [
        {
          "output_type": "execute_result",
          "data": {
            "text/html": [
              "<div>\n",
              "<style scoped>\n",
              "    .dataframe tbody tr th:only-of-type {\n",
              "        vertical-align: middle;\n",
              "    }\n",
              "\n",
              "    .dataframe tbody tr th {\n",
              "        vertical-align: top;\n",
              "    }\n",
              "\n",
              "    .dataframe thead th {\n",
              "        text-align: right;\n",
              "    }\n",
              "</style>\n",
              "<table border=\"1\" class=\"dataframe\">\n",
              "  <thead>\n",
              "    <tr style=\"text-align: right;\">\n",
              "      <th></th>\n",
              "      <th></th>\n",
              "      <th></th>\n",
              "      <th>text</th>\n",
              "    </tr>\n",
              "    <tr>\n",
              "      <th>target_emotions</th>\n",
              "      <th>label</th>\n",
              "      <th>data_type</th>\n",
              "      <th></th>\n",
              "    </tr>\n",
              "  </thead>\n",
              "  <tbody>\n",
              "    <tr>\n",
              "      <th rowspan=\"2\" valign=\"top\">anger</th>\n",
              "      <th rowspan=\"2\" valign=\"top\">2</th>\n",
              "      <th>train</th>\n",
              "      <td>922</td>\n",
              "    </tr>\n",
              "    <tr>\n",
              "      <th>val</th>\n",
              "      <td>163</td>\n",
              "    </tr>\n",
              "    <tr>\n",
              "      <th rowspan=\"2\" valign=\"top\">disgust</th>\n",
              "      <th rowspan=\"2\" valign=\"top\">4</th>\n",
              "      <th>train</th>\n",
              "      <td>850</td>\n",
              "    </tr>\n",
              "    <tr>\n",
              "      <th>val</th>\n",
              "      <td>150</td>\n",
              "    </tr>\n",
              "    <tr>\n",
              "      <th rowspan=\"2\" valign=\"top\">fear</th>\n",
              "      <th rowspan=\"2\" valign=\"top\">1</th>\n",
              "      <th>train</th>\n",
              "      <td>889</td>\n",
              "    </tr>\n",
              "    <tr>\n",
              "      <th>val</th>\n",
              "      <td>157</td>\n",
              "    </tr>\n",
              "    <tr>\n",
              "      <th rowspan=\"2\" valign=\"top\">joy</th>\n",
              "      <th rowspan=\"2\" valign=\"top\">0</th>\n",
              "      <th>train</th>\n",
              "      <td>1079</td>\n",
              "    </tr>\n",
              "    <tr>\n",
              "      <th>val</th>\n",
              "      <td>190</td>\n",
              "    </tr>\n",
              "    <tr>\n",
              "      <th rowspan=\"2\" valign=\"top\">sadness</th>\n",
              "      <th rowspan=\"2\" valign=\"top\">3</th>\n",
              "      <th>train</th>\n",
              "      <td>915</td>\n",
              "    </tr>\n",
              "    <tr>\n",
              "      <th>val</th>\n",
              "      <td>162</td>\n",
              "    </tr>\n",
              "  </tbody>\n",
              "</table>\n",
              "</div>"
            ],
            "text/plain": [
              "                                 text\n",
              "target_emotions label data_type      \n",
              "anger           2     train       922\n",
              "                      val         163\n",
              "disgust         4     train       850\n",
              "                      val         150\n",
              "fear            1     train       889\n",
              "                      val         157\n",
              "joy             0     train      1079\n",
              "                      val         190\n",
              "sadness         3     train       915\n",
              "                      val         162"
            ]
          },
          "metadata": {
            "tags": []
          },
          "execution_count": 12
        }
      ]
    },
    {
      "cell_type": "markdown",
      "metadata": {
        "id": "W9GOsSNs6Q5J"
      },
      "source": [
        "**Checkpoint: Q**\n",
        "Go back here without running the next block."
      ]
    },
    {
      "cell_type": "markdown",
      "metadata": {
        "id": "DpjcKLoa7TGA"
      },
      "source": [
        "**Checkpoint S**"
      ]
    },
    {
      "cell_type": "code",
      "metadata": {
        "id": "OB1vIBI87Xt4"
      },
      "source": [
        "model = BertForSequenceClassification.from_pretrained(\"bert-base-uncased\",\n",
        "                                                      num_labels=len(label_dict),\n",
        "                                                      output_attentions=False,\n",
        "                                                      output_hidden_states=False)\n",
        "\n",
        "model.to(device)"
      ],
      "execution_count": null,
      "outputs": []
    },
    {
      "cell_type": "code",
      "metadata": {
        "colab": {
          "base_uri": "https://localhost:8080/"
        },
        "id": "zzKaz__4vHo0",
        "outputId": "cbfb240d-a1ec-432a-c42e-6a66e4ce1e85"
      },
      "source": [
        "accuracy_per_class(predictions, true_vals)"
      ],
      "execution_count": 29,
      "outputs": [
        {
          "output_type": "stream",
          "text": [
            "Class: joy\n",
            "Accuracy: 161/190\n",
            "\n",
            "Class: fear\n",
            "Accuracy: 136/157\n",
            "\n",
            "Class: anger\n",
            "Accuracy: 121/163\n",
            "\n",
            "Class: sadness\n",
            "Accuracy: 123/162\n",
            "\n",
            "Class: disgust\n",
            "Accuracy: 120/150\n",
            "\n"
          ],
          "name": "stdout"
        }
      ]
    },
    {
      "cell_type": "code",
      "metadata": {
        "colab": {
          "base_uri": "https://localhost:8080/",
          "height": 281
        },
        "id": "7KKQlvk_vEUy",
        "outputId": "3179c3ae-f411-44e8-90d9-7b456cf209b3"
      },
      "source": [
        "# stacked bar plot\n",
        "import numpy as np\n",
        "import matplotlib.pyplot as plt\n",
        "\n",
        "emotion_labels = ['Joy', 'Fear', 'Anger', 'Sadness', 'Disgust']\n",
        "total = [190, 157, 163, 162, 150]\n",
        "\n",
        "score = [161, 136, 121, 123, 120]\n",
        "error = []\n",
        "for score_i, total_i in zip(score, total):\n",
        "    error.append(total_i-score_i)\n",
        "\n",
        "score_color = ['#EBA94B', '#CC4CC3', '#DC5849', '#2E6E9C', '#204B20']\n",
        "error_color = ['#F2C38B', '#F9BEF6', '#ECA088', '#D2E4F2', '#A6D1C0']\n",
        "\n",
        "width = 0.35\n",
        "fig, ax = plt.subplots()\n",
        "\n",
        "ax.bar(emotion_labels, score, width, color=score_color)\n",
        "ax.bar(emotion_labels, error, width, bottom=score, color=error_color)\n",
        "\n",
        "ax.set_ylabel('Class Size')\n",
        "ax.set_title('Accuracy Per Class')\n",
        "\n",
        "plt.show()"
      ],
      "execution_count": 31,
      "outputs": [
        {
          "output_type": "display_data",
          "data": {
            "image/png": "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\n",
            "text/plain": [
              "<Figure size 432x288 with 1 Axes>"
            ]
          },
          "metadata": {
            "tags": [],
            "needs_background": "light"
          }
        }
      ]
    },
    {
      "cell_type": "markdown",
      "metadata": {
        "id": "CK2o0F2P7aDT"
      },
      "source": [
        "**Checkpoint T**"
      ]
=======
    "0b4e0c1dd9584c1ea366cfc697788c9c": {
     "model_module": "@jupyter-widgets/controls",
     "model_name": "FloatProgressModel",
     "state": {
      "_dom_classes": [],
      "_model_module": "@jupyter-widgets/controls",
      "_model_module_version": "1.5.0",
      "_model_name": "FloatProgressModel",
      "_view_count": null,
      "_view_module": "@jupyter-widgets/controls",
      "_view_module_version": "1.5.0",
      "_view_name": "ProgressView",
      "bar_style": "success",
      "description": "Downloading: 100%",
      "description_tooltip": null,
      "layout": "IPY_MODEL_14a3e79aca5c4eb5a170bd9ebd187f3e",
      "max": 231508,
      "min": 0,
      "orientation": "horizontal",
      "style": "IPY_MODEL_c7ff00fe9f4f4756b777fb1a8282e99b",
      "value": 231508
     }
    },
    "0cc93de4e6414756ab01e9fca886d4ff": {
     "model_module": "@jupyter-widgets/controls",
     "model_name": "ProgressStyleModel",
     "state": {
      "_model_module": "@jupyter-widgets/controls",
      "_model_module_version": "1.5.0",
      "_model_name": "ProgressStyleModel",
      "_view_count": null,
      "_view_module": "@jupyter-widgets/base",
      "_view_module_version": "1.2.0",
      "_view_name": "StyleView",
      "bar_color": null,
      "description_width": "initial"
     }
    },
    "0d8b1da4e7ea4865b2df580372717e14": {
     "model_module": "@jupyter-widgets/base",
     "model_name": "LayoutModel",
     "state": {
      "_model_module": "@jupyter-widgets/base",
      "_model_module_version": "1.2.0",
      "_model_name": "LayoutModel",
      "_view_count": null,
      "_view_module": "@jupyter-widgets/base",
      "_view_module_version": "1.2.0",
      "_view_name": "LayoutView",
      "align_content": null,
      "align_items": null,
      "align_self": null,
      "border": null,
      "bottom": null,
      "display": null,
      "flex": null,
      "flex_flow": null,
      "grid_area": null,
      "grid_auto_columns": null,
      "grid_auto_flow": null,
      "grid_auto_rows": null,
      "grid_column": null,
      "grid_gap": null,
      "grid_row": null,
      "grid_template_areas": null,
      "grid_template_columns": null,
      "grid_template_rows": null,
      "height": null,
      "justify_content": null,
      "justify_items": null,
      "left": null,
      "margin": null,
      "max_height": null,
      "max_width": null,
      "min_height": null,
      "min_width": null,
      "object_fit": null,
      "object_position": null,
      "order": null,
      "overflow": null,
      "overflow_x": null,
      "overflow_y": null,
      "padding": null,
      "right": null,
      "top": null,
      "visibility": null,
      "width": null
     }
    },
    "0e7f38eb81474b71beca49cb471c4c45": {
     "model_module": "@jupyter-widgets/base",
     "model_name": "LayoutModel",
     "state": {
      "_model_module": "@jupyter-widgets/base",
      "_model_module_version": "1.2.0",
      "_model_name": "LayoutModel",
      "_view_count": null,
      "_view_module": "@jupyter-widgets/base",
      "_view_module_version": "1.2.0",
      "_view_name": "LayoutView",
      "align_content": null,
      "align_items": null,
      "align_self": null,
      "border": null,
      "bottom": null,
      "display": null,
      "flex": null,
      "flex_flow": null,
      "grid_area": null,
      "grid_auto_columns": null,
      "grid_auto_flow": null,
      "grid_auto_rows": null,
      "grid_column": null,
      "grid_gap": null,
      "grid_row": null,
      "grid_template_areas": null,
      "grid_template_columns": null,
      "grid_template_rows": null,
      "height": null,
      "justify_content": null,
      "justify_items": null,
      "left": null,
      "margin": null,
      "max_height": null,
      "max_width": null,
      "min_height": null,
      "min_width": null,
      "object_fit": null,
      "object_position": null,
      "order": null,
      "overflow": null,
      "overflow_x": null,
      "overflow_y": null,
      "padding": null,
      "right": null,
      "top": null,
      "visibility": null,
      "width": null
     }
    },
    "14a3e79aca5c4eb5a170bd9ebd187f3e": {
     "model_module": "@jupyter-widgets/base",
     "model_name": "LayoutModel",
     "state": {
      "_model_module": "@jupyter-widgets/base",
      "_model_module_version": "1.2.0",
      "_model_name": "LayoutModel",
      "_view_count": null,
      "_view_module": "@jupyter-widgets/base",
      "_view_module_version": "1.2.0",
      "_view_name": "LayoutView",
      "align_content": null,
      "align_items": null,
      "align_self": null,
      "border": null,
      "bottom": null,
      "display": null,
      "flex": null,
      "flex_flow": null,
      "grid_area": null,
      "grid_auto_columns": null,
      "grid_auto_flow": null,
      "grid_auto_rows": null,
      "grid_column": null,
      "grid_gap": null,
      "grid_row": null,
      "grid_template_areas": null,
      "grid_template_columns": null,
      "grid_template_rows": null,
      "height": null,
      "justify_content": null,
      "justify_items": null,
      "left": null,
      "margin": null,
      "max_height": null,
      "max_width": null,
      "min_height": null,
      "min_width": null,
      "object_fit": null,
      "object_position": null,
      "order": null,
      "overflow": null,
      "overflow_x": null,
      "overflow_y": null,
      "padding": null,
      "right": null,
      "top": null,
      "visibility": null,
      "width": null
     }
    },
    "17f881b9d3354294bc1d20a8d533a48e": {
     "model_module": "@jupyter-widgets/base",
     "model_name": "LayoutModel",
     "state": {
      "_model_module": "@jupyter-widgets/base",
      "_model_module_version": "1.2.0",
      "_model_name": "LayoutModel",
      "_view_count": null,
      "_view_module": "@jupyter-widgets/base",
      "_view_module_version": "1.2.0",
      "_view_name": "LayoutView",
      "align_content": null,
      "align_items": null,
      "align_self": null,
      "border": null,
      "bottom": null,
      "display": null,
      "flex": null,
      "flex_flow": null,
      "grid_area": null,
      "grid_auto_columns": null,
      "grid_auto_flow": null,
      "grid_auto_rows": null,
      "grid_column": null,
      "grid_gap": null,
      "grid_row": null,
      "grid_template_areas": null,
      "grid_template_columns": null,
      "grid_template_rows": null,
      "height": null,
      "justify_content": null,
      "justify_items": null,
      "left": null,
      "margin": null,
      "max_height": null,
      "max_width": null,
      "min_height": null,
      "min_width": null,
      "object_fit": null,
      "object_position": null,
      "order": null,
      "overflow": null,
      "overflow_x": null,
      "overflow_y": null,
      "padding": null,
      "right": null,
      "top": null,
      "visibility": null,
      "width": null
     }
    },
    "1c60f46a045e45338b772488e876c149": {
     "model_module": "@jupyter-widgets/controls",
     "model_name": "DescriptionStyleModel",
     "state": {
      "_model_module": "@jupyter-widgets/controls",
      "_model_module_version": "1.5.0",
      "_model_name": "DescriptionStyleModel",
      "_view_count": null,
      "_view_module": "@jupyter-widgets/base",
      "_view_module_version": "1.2.0",
      "_view_name": "StyleView",
      "description_width": ""
     }
    },
    "1d0831694e8c48569215ca83c339a75a": {
     "model_module": "@jupyter-widgets/controls",
     "model_name": "HTMLModel",
     "state": {
      "_dom_classes": [],
      "_model_module": "@jupyter-widgets/controls",
      "_model_module_version": "1.5.0",
      "_model_name": "HTMLModel",
      "_view_count": null,
      "_view_module": "@jupyter-widgets/controls",
      "_view_module_version": "1.5.0",
      "_view_name": "HTMLView",
      "description": "",
      "description_tooltip": null,
      "layout": "IPY_MODEL_17f881b9d3354294bc1d20a8d533a48e",
      "placeholder": "​",
      "style": "IPY_MODEL_247ef2d042674d39b684dd24c00bd4d0",
      "value": " 0/1552 [00:00&lt;?, ?it/s]"
     }
    },
    "213266a680b742ccb5d0112b64d76977": {
     "model_module": "@jupyter-widgets/controls",
     "model_name": "HTMLModel",
     "state": {
      "_dom_classes": [],
      "_model_module": "@jupyter-widgets/controls",
      "_model_module_version": "1.5.0",
      "_model_name": "HTMLModel",
      "_view_count": null,
      "_view_module": "@jupyter-widgets/controls",
      "_view_module_version": "1.5.0",
      "_view_name": "HTMLView",
      "description": "",
      "description_tooltip": null,
      "layout": "IPY_MODEL_84daf8d2bc3f4cf8a37b6537c519f52d",
      "placeholder": "​",
      "style": "IPY_MODEL_bee10a116fe84d948862b6e433146f10",
      "value": " 1552/1552 [3:51:34&lt;00:00,  8.43s/it, training_loss=0.120]"
     }
    },
    "247ef2d042674d39b684dd24c00bd4d0": {
     "model_module": "@jupyter-widgets/controls",
     "model_name": "DescriptionStyleModel",
     "state": {
      "_model_module": "@jupyter-widgets/controls",
      "_model_module_version": "1.5.0",
      "_model_name": "DescriptionStyleModel",
      "_view_count": null,
      "_view_module": "@jupyter-widgets/base",
      "_view_module_version": "1.2.0",
      "_view_name": "StyleView",
      "description_width": ""
     }
    },
    "269508468c5848eabb48be686708ebad": {
     "model_module": "@jupyter-widgets/controls",
     "model_name": "FloatProgressModel",
     "state": {
      "_dom_classes": [],
      "_model_module": "@jupyter-widgets/controls",
      "_model_module_version": "1.5.0",
      "_model_name": "FloatProgressModel",
      "_view_count": null,
      "_view_module": "@jupyter-widgets/controls",
      "_view_module_version": "1.5.0",
      "_view_name": "ProgressView",
      "bar_style": "success",
      "description": "Downloading: 100%",
      "description_tooltip": null,
      "layout": "IPY_MODEL_fbe817607d504d54a2cadc41b3442381",
      "max": 440473133,
      "min": 0,
      "orientation": "horizontal",
      "style": "IPY_MODEL_ee4b848c0fe340868644a7143b4e5566",
      "value": 440473133
     }
    },
    "288a03bc2cdc42caa5989bbd3802209b": {
     "model_module": "@jupyter-widgets/controls",
     "model_name": "FloatProgressModel",
     "state": {
      "_dom_classes": [],
      "_model_module": "@jupyter-widgets/controls",
      "_model_module_version": "1.5.0",
      "_model_name": "FloatProgressModel",
      "_view_count": null,
      "_view_module": "@jupyter-widgets/controls",
      "_view_module_version": "1.5.0",
      "_view_name": "ProgressView",
      "bar_style": "success",
      "description": "Downloading: 100%",
      "description_tooltip": null,
      "layout": "IPY_MODEL_7d2607b37e254d348f5c3de192213ba1",
      "max": 433,
      "min": 0,
      "orientation": "horizontal",
      "style": "IPY_MODEL_c125ab953f60494886f274a23e1bc0ec",
      "value": 433
     }
    },
    "2aba45eaac25447a8e335d7137eefac7": {
     "model_module": "@jupyter-widgets/controls",
     "model_name": "HTMLModel",
     "state": {
      "_dom_classes": [],
      "_model_module": "@jupyter-widgets/controls",
      "_model_module_version": "1.5.0",
      "_model_name": "HTMLModel",
      "_view_count": null,
      "_view_module": "@jupyter-widgets/controls",
      "_view_module_version": "1.5.0",
      "_view_name": "HTMLView",
      "description": "",
      "description_tooltip": null,
      "layout": "IPY_MODEL_485f08cbd03c474f92c10ec672f6bd8f",
      "placeholder": "​",
      "style": "IPY_MODEL_1c60f46a045e45338b772488e876c149",
      "value": " 232k/232k [00:00&lt;00:00, 2.30MB/s]"
     }
    },
    "36b695cc31e4491ba5d0f272d7486a32": {
     "model_module": "@jupyter-widgets/base",
     "model_name": "LayoutModel",
     "state": {
      "_model_module": "@jupyter-widgets/base",
      "_model_module_version": "1.2.0",
      "_model_name": "LayoutModel",
      "_view_count": null,
      "_view_module": "@jupyter-widgets/base",
      "_view_module_version": "1.2.0",
      "_view_name": "LayoutView",
      "align_content": null,
      "align_items": null,
      "align_self": null,
      "border": null,
      "bottom": null,
      "display": null,
      "flex": null,
      "flex_flow": null,
      "grid_area": null,
      "grid_auto_columns": null,
      "grid_auto_flow": null,
      "grid_auto_rows": null,
      "grid_column": null,
      "grid_gap": null,
      "grid_row": null,
      "grid_template_areas": null,
      "grid_template_columns": null,
      "grid_template_rows": null,
      "height": null,
      "justify_content": null,
      "justify_items": null,
      "left": null,
      "margin": null,
      "max_height": null,
      "max_width": null,
      "min_height": null,
      "min_width": null,
      "object_fit": null,
      "object_position": null,
      "order": null,
      "overflow": null,
      "overflow_x": null,
      "overflow_y": null,
      "padding": null,
      "right": null,
      "top": null,
      "visibility": null,
      "width": null
     }
    },
    "39e98a20bc80419a9e64593dc718467b": {
     "model_module": "@jupyter-widgets/controls",
     "model_name": "HBoxModel",
     "state": {
      "_dom_classes": [],
      "_model_module": "@jupyter-widgets/controls",
      "_model_module_version": "1.5.0",
      "_model_name": "HBoxModel",
      "_view_count": null,
      "_view_module": "@jupyter-widgets/controls",
      "_view_module_version": "1.5.0",
      "_view_name": "HBoxView",
      "box_style": "",
      "children": [
       "IPY_MODEL_269508468c5848eabb48be686708ebad",
       "IPY_MODEL_3aaca4596a4645dca3f21261e0217d7e"
      ],
      "layout": "IPY_MODEL_0d8b1da4e7ea4865b2df580372717e14"
     }
    },
    "3aaca4596a4645dca3f21261e0217d7e": {
     "model_module": "@jupyter-widgets/controls",
     "model_name": "HTMLModel",
     "state": {
      "_dom_classes": [],
      "_model_module": "@jupyter-widgets/controls",
      "_model_module_version": "1.5.0",
      "_model_name": "HTMLModel",
      "_view_count": null,
      "_view_module": "@jupyter-widgets/controls",
      "_view_module_version": "1.5.0",
      "_view_name": "HTMLView",
      "description": "",
      "description_tooltip": null,
      "layout": "IPY_MODEL_7dd727cb64894f2cb2c18823ff52cb54",
      "placeholder": "​",
      "style": "IPY_MODEL_ebff7867287b42e4b4c32957fe471c92",
      "value": " 440M/440M [00:31&lt;00:00, 14.0MB/s]"
     }
    },
    "400da72a6a6442a2b6f5d461af0497f6": {
     "model_module": "@jupyter-widgets/controls",
     "model_name": "HBoxModel",
     "state": {
      "_dom_classes": [],
      "_model_module": "@jupyter-widgets/controls",
      "_model_module_version": "1.5.0",
      "_model_name": "HBoxModel",
      "_view_count": null,
      "_view_module": "@jupyter-widgets/controls",
      "_view_module_version": "1.5.0",
      "_view_name": "HBoxView",
      "box_style": "",
      "children": [
       "IPY_MODEL_0b4e0c1dd9584c1ea366cfc697788c9c",
       "IPY_MODEL_2aba45eaac25447a8e335d7137eefac7"
      ],
      "layout": "IPY_MODEL_882da4fe70b14343aecb17ee05222932"
     }
    },
    "485f08cbd03c474f92c10ec672f6bd8f": {
     "model_module": "@jupyter-widgets/base",
     "model_name": "LayoutModel",
     "state": {
      "_model_module": "@jupyter-widgets/base",
      "_model_module_version": "1.2.0",
      "_model_name": "LayoutModel",
      "_view_count": null,
      "_view_module": "@jupyter-widgets/base",
      "_view_module_version": "1.2.0",
      "_view_name": "LayoutView",
      "align_content": null,
      "align_items": null,
      "align_self": null,
      "border": null,
      "bottom": null,
      "display": null,
      "flex": null,
      "flex_flow": null,
      "grid_area": null,
      "grid_auto_columns": null,
      "grid_auto_flow": null,
      "grid_auto_rows": null,
      "grid_column": null,
      "grid_gap": null,
      "grid_row": null,
      "grid_template_areas": null,
      "grid_template_columns": null,
      "grid_template_rows": null,
      "height": null,
      "justify_content": null,
      "justify_items": null,
      "left": null,
      "margin": null,
      "max_height": null,
      "max_width": null,
      "min_height": null,
      "min_width": null,
      "object_fit": null,
      "object_position": null,
      "order": null,
      "overflow": null,
      "overflow_x": null,
      "overflow_y": null,
      "padding": null,
      "right": null,
      "top": null,
      "visibility": null,
      "width": null
     }
    },
    "48695e4350264b5baaaaf1af23d9840e": {
     "model_module": "@jupyter-widgets/controls",
     "model_name": "ProgressStyleModel",
     "state": {
      "_model_module": "@jupyter-widgets/controls",
      "_model_module_version": "1.5.0",
      "_model_name": "ProgressStyleModel",
      "_view_count": null,
      "_view_module": "@jupyter-widgets/base",
      "_view_module_version": "1.2.0",
      "_view_name": "StyleView",
      "bar_color": null,
      "description_width": "initial"
     }
    },
    "5be7ec6cbe0f4c329a416e0089cd70e6": {
     "model_module": "@jupyter-widgets/controls",
     "model_name": "HBoxModel",
     "state": {
      "_dom_classes": [],
      "_model_module": "@jupyter-widgets/controls",
      "_model_module_version": "1.5.0",
      "_model_name": "HBoxModel",
      "_view_count": null,
      "_view_module": "@jupyter-widgets/controls",
      "_view_module_version": "1.5.0",
      "_view_name": "HBoxView",
      "box_style": "",
      "children": [
       "IPY_MODEL_772b97c0f0a343c19d0b702d4cf7eacc",
       "IPY_MODEL_b6536403e691499c832321c36ae3ec89"
      ],
      "layout": "IPY_MODEL_bec53d87231d4c74b12123321e6a73e7"
     }
    },
    "6354fe6b43664b71ac310522256db1cb": {
     "model_module": "@jupyter-widgets/controls",
     "model_name": "FloatProgressModel",
     "state": {
      "_dom_classes": [],
      "_model_module": "@jupyter-widgets/controls",
      "_model_module_version": "1.5.0",
      "_model_name": "FloatProgressModel",
      "_view_count": null,
      "_view_module": "@jupyter-widgets/controls",
      "_view_module_version": "1.5.0",
      "_view_name": "ProgressView",
      "bar_style": "",
      "description": "Epoch 2:   0%",
      "description_tooltip": null,
      "layout": "IPY_MODEL_36b695cc31e4491ba5d0f272d7486a32",
      "max": 1552,
      "min": 0,
      "orientation": "horizontal",
      "style": "IPY_MODEL_67ca0e7f6e554da2b1f3d9840873eb1b",
      "value": 0
     }
    },
    "67ca0e7f6e554da2b1f3d9840873eb1b": {
     "model_module": "@jupyter-widgets/controls",
     "model_name": "ProgressStyleModel",
     "state": {
      "_model_module": "@jupyter-widgets/controls",
      "_model_module_version": "1.5.0",
      "_model_name": "ProgressStyleModel",
      "_view_count": null,
      "_view_module": "@jupyter-widgets/base",
      "_view_module_version": "1.2.0",
      "_view_name": "StyleView",
      "bar_color": null,
      "description_width": "initial"
     }
    },
    "772b97c0f0a343c19d0b702d4cf7eacc": {
     "model_module": "@jupyter-widgets/controls",
     "model_name": "FloatProgressModel",
     "state": {
      "_dom_classes": [],
      "_model_module": "@jupyter-widgets/controls",
      "_model_module_version": "1.5.0",
      "_model_name": "FloatProgressModel",
      "_view_count": null,
      "_view_module": "@jupyter-widgets/controls",
      "_view_module_version": "1.5.0",
      "_view_name": "ProgressView",
      "bar_style": "",
      "description": " 33%",
      "description_tooltip": null,
      "layout": "IPY_MODEL_f67796fe72a4470eb65ab75fd8dcc726",
      "max": 3,
      "min": 0,
      "orientation": "horizontal",
      "style": "IPY_MODEL_0cc93de4e6414756ab01e9fca886d4ff",
      "value": 1
     }
    },
    "7d2607b37e254d348f5c3de192213ba1": {
     "model_module": "@jupyter-widgets/base",
     "model_name": "LayoutModel",
     "state": {
      "_model_module": "@jupyter-widgets/base",
      "_model_module_version": "1.2.0",
      "_model_name": "LayoutModel",
      "_view_count": null,
      "_view_module": "@jupyter-widgets/base",
      "_view_module_version": "1.2.0",
      "_view_name": "LayoutView",
      "align_content": null,
      "align_items": null,
      "align_self": null,
      "border": null,
      "bottom": null,
      "display": null,
      "flex": null,
      "flex_flow": null,
      "grid_area": null,
      "grid_auto_columns": null,
      "grid_auto_flow": null,
      "grid_auto_rows": null,
      "grid_column": null,
      "grid_gap": null,
      "grid_row": null,
      "grid_template_areas": null,
      "grid_template_columns": null,
      "grid_template_rows": null,
      "height": null,
      "justify_content": null,
      "justify_items": null,
      "left": null,
      "margin": null,
      "max_height": null,
      "max_width": null,
      "min_height": null,
      "min_width": null,
      "object_fit": null,
      "object_position": null,
      "order": null,
      "overflow": null,
      "overflow_x": null,
      "overflow_y": null,
      "padding": null,
      "right": null,
      "top": null,
      "visibility": null,
      "width": null
     }
    },
    "7dbe11f7651949b2b245004c1fcea616": {
     "model_module": "@jupyter-widgets/base",
     "model_name": "LayoutModel",
     "state": {
      "_model_module": "@jupyter-widgets/base",
      "_model_module_version": "1.2.0",
      "_model_name": "LayoutModel",
      "_view_count": null,
      "_view_module": "@jupyter-widgets/base",
      "_view_module_version": "1.2.0",
      "_view_name": "LayoutView",
      "align_content": null,
      "align_items": null,
      "align_self": null,
      "border": null,
      "bottom": null,
      "display": null,
      "flex": null,
      "flex_flow": null,
      "grid_area": null,
      "grid_auto_columns": null,
      "grid_auto_flow": null,
      "grid_auto_rows": null,
      "grid_column": null,
      "grid_gap": null,
      "grid_row": null,
      "grid_template_areas": null,
      "grid_template_columns": null,
      "grid_template_rows": null,
      "height": null,
      "justify_content": null,
      "justify_items": null,
      "left": null,
      "margin": null,
      "max_height": null,
      "max_width": null,
      "min_height": null,
      "min_width": null,
      "object_fit": null,
      "object_position": null,
      "order": null,
      "overflow": null,
      "overflow_x": null,
      "overflow_y": null,
      "padding": null,
      "right": null,
      "top": null,
      "visibility": null,
      "width": null
     }
    },
    "7dd727cb64894f2cb2c18823ff52cb54": {
     "model_module": "@jupyter-widgets/base",
     "model_name": "LayoutModel",
     "state": {
      "_model_module": "@jupyter-widgets/base",
      "_model_module_version": "1.2.0",
      "_model_name": "LayoutModel",
      "_view_count": null,
      "_view_module": "@jupyter-widgets/base",
      "_view_module_version": "1.2.0",
      "_view_name": "LayoutView",
      "align_content": null,
      "align_items": null,
      "align_self": null,
      "border": null,
      "bottom": null,
      "display": null,
      "flex": null,
      "flex_flow": null,
      "grid_area": null,
      "grid_auto_columns": null,
      "grid_auto_flow": null,
      "grid_auto_rows": null,
      "grid_column": null,
      "grid_gap": null,
      "grid_row": null,
      "grid_template_areas": null,
      "grid_template_columns": null,
      "grid_template_rows": null,
      "height": null,
      "justify_content": null,
      "justify_items": null,
      "left": null,
      "margin": null,
      "max_height": null,
      "max_width": null,
      "min_height": null,
      "min_width": null,
      "object_fit": null,
      "object_position": null,
      "order": null,
      "overflow": null,
      "overflow_x": null,
      "overflow_y": null,
      "padding": null,
      "right": null,
      "top": null,
      "visibility": null,
      "width": null
     }
    },
    "823e7d22a91c460cb3409c9ac2a14370": {
     "model_module": "@jupyter-widgets/controls",
     "model_name": "FloatProgressModel",
     "state": {
      "_dom_classes": [],
      "_model_module": "@jupyter-widgets/controls",
      "_model_module_version": "1.5.0",
      "_model_name": "FloatProgressModel",
      "_view_count": null,
      "_view_module": "@jupyter-widgets/controls",
      "_view_module_version": "1.5.0",
      "_view_name": "ProgressView",
      "bar_style": "",
      "description": "Epoch 1: 100%",
      "description_tooltip": null,
      "layout": "IPY_MODEL_c0ae1107c02e490d95b3ed24fd430856",
      "max": 1552,
      "min": 0,
      "orientation": "horizontal",
      "style": "IPY_MODEL_48695e4350264b5baaaaf1af23d9840e",
      "value": 1552
     }
    },
    "84daf8d2bc3f4cf8a37b6537c519f52d": {
     "model_module": "@jupyter-widgets/base",
     "model_name": "LayoutModel",
     "state": {
      "_model_module": "@jupyter-widgets/base",
      "_model_module_version": "1.2.0",
      "_model_name": "LayoutModel",
      "_view_count": null,
      "_view_module": "@jupyter-widgets/base",
      "_view_module_version": "1.2.0",
      "_view_name": "LayoutView",
      "align_content": null,
      "align_items": null,
      "align_self": null,
      "border": null,
      "bottom": null,
      "display": null,
      "flex": null,
      "flex_flow": null,
      "grid_area": null,
      "grid_auto_columns": null,
      "grid_auto_flow": null,
      "grid_auto_rows": null,
      "grid_column": null,
      "grid_gap": null,
      "grid_row": null,
      "grid_template_areas": null,
      "grid_template_columns": null,
      "grid_template_rows": null,
      "height": null,
      "justify_content": null,
      "justify_items": null,
      "left": null,
      "margin": null,
      "max_height": null,
      "max_width": null,
      "min_height": null,
      "min_width": null,
      "object_fit": null,
      "object_position": null,
      "order": null,
      "overflow": null,
      "overflow_x": null,
      "overflow_y": null,
      "padding": null,
      "right": null,
      "top": null,
      "visibility": null,
      "width": null
     }
    },
    "882da4fe70b14343aecb17ee05222932": {
     "model_module": "@jupyter-widgets/base",
     "model_name": "LayoutModel",
     "state": {
      "_model_module": "@jupyter-widgets/base",
      "_model_module_version": "1.2.0",
      "_model_name": "LayoutModel",
      "_view_count": null,
      "_view_module": "@jupyter-widgets/base",
      "_view_module_version": "1.2.0",
      "_view_name": "LayoutView",
      "align_content": null,
      "align_items": null,
      "align_self": null,
      "border": null,
      "bottom": null,
      "display": null,
      "flex": null,
      "flex_flow": null,
      "grid_area": null,
      "grid_auto_columns": null,
      "grid_auto_flow": null,
      "grid_auto_rows": null,
      "grid_column": null,
      "grid_gap": null,
      "grid_row": null,
      "grid_template_areas": null,
      "grid_template_columns": null,
      "grid_template_rows": null,
      "height": null,
      "justify_content": null,
      "justify_items": null,
      "left": null,
      "margin": null,
      "max_height": null,
      "max_width": null,
      "min_height": null,
      "min_width": null,
      "object_fit": null,
      "object_position": null,
      "order": null,
      "overflow": null,
      "overflow_x": null,
      "overflow_y": null,
      "padding": null,
      "right": null,
      "top": null,
      "visibility": null,
      "width": null
     }
    },
    "9534dd0f96d24d12ac35184af927b83e": {
     "model_module": "@jupyter-widgets/base",
     "model_name": "LayoutModel",
     "state": {
      "_model_module": "@jupyter-widgets/base",
      "_model_module_version": "1.2.0",
      "_model_name": "LayoutModel",
      "_view_count": null,
      "_view_module": "@jupyter-widgets/base",
      "_view_module_version": "1.2.0",
      "_view_name": "LayoutView",
      "align_content": null,
      "align_items": null,
      "align_self": null,
      "border": null,
      "bottom": null,
      "display": null,
      "flex": null,
      "flex_flow": null,
      "grid_area": null,
      "grid_auto_columns": null,
      "grid_auto_flow": null,
      "grid_auto_rows": null,
      "grid_column": null,
      "grid_gap": null,
      "grid_row": null,
      "grid_template_areas": null,
      "grid_template_columns": null,
      "grid_template_rows": null,
      "height": null,
      "justify_content": null,
      "justify_items": null,
      "left": null,
      "margin": null,
      "max_height": null,
      "max_width": null,
      "min_height": null,
      "min_width": null,
      "object_fit": null,
      "object_position": null,
      "order": null,
      "overflow": null,
      "overflow_x": null,
      "overflow_y": null,
      "padding": null,
      "right": null,
      "top": null,
      "visibility": null,
      "width": null
     }
    },
    "a2654a9c83d24419903b6f3f93ad51bc": {
     "model_module": "@jupyter-widgets/controls",
     "model_name": "HTMLModel",
     "state": {
      "_dom_classes": [],
      "_model_module": "@jupyter-widgets/controls",
      "_model_module_version": "1.5.0",
      "_model_name": "HTMLModel",
      "_view_count": null,
      "_view_module": "@jupyter-widgets/controls",
      "_view_module_version": "1.5.0",
      "_view_name": "HTMLView",
      "description": "",
      "description_tooltip": null,
      "layout": "IPY_MODEL_9534dd0f96d24d12ac35184af927b83e",
      "placeholder": "​",
      "style": "IPY_MODEL_e77fe9867e864715b9b54fd32f9b88f1",
      "value": " 433/433 [00:00&lt;00:00, 1.25kB/s]"
     }
    },
    "a92b39253ba54b9686bc759ace841bfb": {
     "model_module": "@jupyter-widgets/controls",
     "model_name": "DescriptionStyleModel",
     "state": {
      "_model_module": "@jupyter-widgets/controls",
      "_model_module_version": "1.5.0",
      "_model_name": "DescriptionStyleModel",
      "_view_count": null,
      "_view_module": "@jupyter-widgets/base",
      "_view_module_version": "1.2.0",
      "_view_name": "StyleView",
      "description_width": ""
     }
    },
    "ae185adea2a34b598fdfe0fe1ac91fba": {
     "model_module": "@jupyter-widgets/controls",
     "model_name": "HBoxModel",
     "state": {
      "_dom_classes": [],
      "_model_module": "@jupyter-widgets/controls",
      "_model_module_version": "1.5.0",
      "_model_name": "HBoxModel",
      "_view_count": null,
      "_view_module": "@jupyter-widgets/controls",
      "_view_module_version": "1.5.0",
      "_view_name": "HBoxView",
      "box_style": "",
      "children": [
       "IPY_MODEL_288a03bc2cdc42caa5989bbd3802209b",
       "IPY_MODEL_a2654a9c83d24419903b6f3f93ad51bc"
      ],
      "layout": "IPY_MODEL_7dbe11f7651949b2b245004c1fcea616"
     }
    },
    "b6536403e691499c832321c36ae3ec89": {
     "model_module": "@jupyter-widgets/controls",
     "model_name": "HTMLModel",
     "state": {
      "_dom_classes": [],
      "_model_module": "@jupyter-widgets/controls",
      "_model_module_version": "1.5.0",
      "_model_name": "HTMLModel",
      "_view_count": null,
      "_view_module": "@jupyter-widgets/controls",
      "_view_module_version": "1.5.0",
      "_view_name": "HTMLView",
      "description": "",
      "description_tooltip": null,
      "layout": "IPY_MODEL_036bd21158a04a5da1f2a9127ed4bdb0",
      "placeholder": "​",
      "style": "IPY_MODEL_a92b39253ba54b9686bc759ace841bfb",
      "value": " 1/3 [4:03:36&lt;8:07:13, 14616.88s/it]"
     }
    },
    "bec53d87231d4c74b12123321e6a73e7": {
     "model_module": "@jupyter-widgets/base",
     "model_name": "LayoutModel",
     "state": {
      "_model_module": "@jupyter-widgets/base",
      "_model_module_version": "1.2.0",
      "_model_name": "LayoutModel",
      "_view_count": null,
      "_view_module": "@jupyter-widgets/base",
      "_view_module_version": "1.2.0",
      "_view_name": "LayoutView",
      "align_content": null,
      "align_items": null,
      "align_self": null,
      "border": null,
      "bottom": null,
      "display": null,
      "flex": null,
      "flex_flow": null,
      "grid_area": null,
      "grid_auto_columns": null,
      "grid_auto_flow": null,
      "grid_auto_rows": null,
      "grid_column": null,
      "grid_gap": null,
      "grid_row": null,
      "grid_template_areas": null,
      "grid_template_columns": null,
      "grid_template_rows": null,
      "height": null,
      "justify_content": null,
      "justify_items": null,
      "left": null,
      "margin": null,
      "max_height": null,
      "max_width": null,
      "min_height": null,
      "min_width": null,
      "object_fit": null,
      "object_position": null,
      "order": null,
      "overflow": null,
      "overflow_x": null,
      "overflow_y": null,
      "padding": null,
      "right": null,
      "top": null,
      "visibility": null,
      "width": null
     }
    },
    "bee10a116fe84d948862b6e433146f10": {
     "model_module": "@jupyter-widgets/controls",
     "model_name": "DescriptionStyleModel",
     "state": {
      "_model_module": "@jupyter-widgets/controls",
      "_model_module_version": "1.5.0",
      "_model_name": "DescriptionStyleModel",
      "_view_count": null,
      "_view_module": "@jupyter-widgets/base",
      "_view_module_version": "1.2.0",
      "_view_name": "StyleView",
      "description_width": ""
     }
    },
    "c0ae1107c02e490d95b3ed24fd430856": {
     "model_module": "@jupyter-widgets/base",
     "model_name": "LayoutModel",
     "state": {
      "_model_module": "@jupyter-widgets/base",
      "_model_module_version": "1.2.0",
      "_model_name": "LayoutModel",
      "_view_count": null,
      "_view_module": "@jupyter-widgets/base",
      "_view_module_version": "1.2.0",
      "_view_name": "LayoutView",
      "align_content": null,
      "align_items": null,
      "align_self": null,
      "border": null,
      "bottom": null,
      "display": null,
      "flex": null,
      "flex_flow": null,
      "grid_area": null,
      "grid_auto_columns": null,
      "grid_auto_flow": null,
      "grid_auto_rows": null,
      "grid_column": null,
      "grid_gap": null,
      "grid_row": null,
      "grid_template_areas": null,
      "grid_template_columns": null,
      "grid_template_rows": null,
      "height": null,
      "justify_content": null,
      "justify_items": null,
      "left": null,
      "margin": null,
      "max_height": null,
      "max_width": null,
      "min_height": null,
      "min_width": null,
      "object_fit": null,
      "object_position": null,
      "order": null,
      "overflow": null,
      "overflow_x": null,
      "overflow_y": null,
      "padding": null,
      "right": null,
      "top": null,
      "visibility": null,
      "width": null
     }
    },
    "c125ab953f60494886f274a23e1bc0ec": {
     "model_module": "@jupyter-widgets/controls",
     "model_name": "ProgressStyleModel",
     "state": {
      "_model_module": "@jupyter-widgets/controls",
      "_model_module_version": "1.5.0",
      "_model_name": "ProgressStyleModel",
      "_view_count": null,
      "_view_module": "@jupyter-widgets/base",
      "_view_module_version": "1.2.0",
      "_view_name": "StyleView",
      "bar_color": null,
      "description_width": "initial"
     }
    },
    "c3af8c0353224cea95936cf46568fb3b": {
     "model_module": "@jupyter-widgets/controls",
     "model_name": "HBoxModel",
     "state": {
      "_dom_classes": [],
      "_model_module": "@jupyter-widgets/controls",
      "_model_module_version": "1.5.0",
      "_model_name": "HBoxModel",
      "_view_count": null,
      "_view_module": "@jupyter-widgets/controls",
      "_view_module_version": "1.5.0",
      "_view_name": "HBoxView",
      "box_style": "",
      "children": [
       "IPY_MODEL_6354fe6b43664b71ac310522256db1cb",
       "IPY_MODEL_1d0831694e8c48569215ca83c339a75a"
      ],
      "layout": "IPY_MODEL_0e7f38eb81474b71beca49cb471c4c45"
     }
    },
    "c7ff00fe9f4f4756b777fb1a8282e99b": {
     "model_module": "@jupyter-widgets/controls",
     "model_name": "ProgressStyleModel",
     "state": {
      "_model_module": "@jupyter-widgets/controls",
      "_model_module_version": "1.5.0",
      "_model_name": "ProgressStyleModel",
      "_view_count": null,
      "_view_module": "@jupyter-widgets/base",
      "_view_module_version": "1.2.0",
      "_view_name": "StyleView",
      "bar_color": null,
      "description_width": "initial"
     }
    },
    "caa338af70904c90a6e2173058ee7110": {
     "model_module": "@jupyter-widgets/base",
     "model_name": "LayoutModel",
     "state": {
      "_model_module": "@jupyter-widgets/base",
      "_model_module_version": "1.2.0",
      "_model_name": "LayoutModel",
      "_view_count": null,
      "_view_module": "@jupyter-widgets/base",
      "_view_module_version": "1.2.0",
      "_view_name": "LayoutView",
      "align_content": null,
      "align_items": null,
      "align_self": null,
      "border": null,
      "bottom": null,
      "display": null,
      "flex": null,
      "flex_flow": null,
      "grid_area": null,
      "grid_auto_columns": null,
      "grid_auto_flow": null,
      "grid_auto_rows": null,
      "grid_column": null,
      "grid_gap": null,
      "grid_row": null,
      "grid_template_areas": null,
      "grid_template_columns": null,
      "grid_template_rows": null,
      "height": null,
      "justify_content": null,
      "justify_items": null,
      "left": null,
      "margin": null,
      "max_height": null,
      "max_width": null,
      "min_height": null,
      "min_width": null,
      "object_fit": null,
      "object_position": null,
      "order": null,
      "overflow": null,
      "overflow_x": null,
      "overflow_y": null,
      "padding": null,
      "right": null,
      "top": null,
      "visibility": null,
      "width": null
     }
    },
    "e77fe9867e864715b9b54fd32f9b88f1": {
     "model_module": "@jupyter-widgets/controls",
     "model_name": "DescriptionStyleModel",
     "state": {
      "_model_module": "@jupyter-widgets/controls",
      "_model_module_version": "1.5.0",
      "_model_name": "DescriptionStyleModel",
      "_view_count": null,
      "_view_module": "@jupyter-widgets/base",
      "_view_module_version": "1.2.0",
      "_view_name": "StyleView",
      "description_width": ""
     }
    },
    "ebff7867287b42e4b4c32957fe471c92": {
     "model_module": "@jupyter-widgets/controls",
     "model_name": "DescriptionStyleModel",
     "state": {
      "_model_module": "@jupyter-widgets/controls",
      "_model_module_version": "1.5.0",
      "_model_name": "DescriptionStyleModel",
      "_view_count": null,
      "_view_module": "@jupyter-widgets/base",
      "_view_module_version": "1.2.0",
      "_view_name": "StyleView",
      "description_width": ""
     }
    },
    "ee4b848c0fe340868644a7143b4e5566": {
     "model_module": "@jupyter-widgets/controls",
     "model_name": "ProgressStyleModel",
     "state": {
      "_model_module": "@jupyter-widgets/controls",
      "_model_module_version": "1.5.0",
      "_model_name": "ProgressStyleModel",
      "_view_count": null,
      "_view_module": "@jupyter-widgets/base",
      "_view_module_version": "1.2.0",
      "_view_name": "StyleView",
      "bar_color": null,
      "description_width": "initial"
     }
    },
    "f32b8d6b8a78422cbdcbfd143d7ce764": {
     "model_module": "@jupyter-widgets/controls",
     "model_name": "HBoxModel",
     "state": {
      "_dom_classes": [],
      "_model_module": "@jupyter-widgets/controls",
      "_model_module_version": "1.5.0",
      "_model_name": "HBoxModel",
      "_view_count": null,
      "_view_module": "@jupyter-widgets/controls",
      "_view_module_version": "1.5.0",
      "_view_name": "HBoxView",
      "box_style": "",
      "children": [
       "IPY_MODEL_823e7d22a91c460cb3409c9ac2a14370",
       "IPY_MODEL_213266a680b742ccb5d0112b64d76977"
      ],
      "layout": "IPY_MODEL_caa338af70904c90a6e2173058ee7110"
     }
    },
    "f67796fe72a4470eb65ab75fd8dcc726": {
     "model_module": "@jupyter-widgets/base",
     "model_name": "LayoutModel",
     "state": {
      "_model_module": "@jupyter-widgets/base",
      "_model_module_version": "1.2.0",
      "_model_name": "LayoutModel",
      "_view_count": null,
      "_view_module": "@jupyter-widgets/base",
      "_view_module_version": "1.2.0",
      "_view_name": "LayoutView",
      "align_content": null,
      "align_items": null,
      "align_self": null,
      "border": null,
      "bottom": null,
      "display": null,
      "flex": null,
      "flex_flow": null,
      "grid_area": null,
      "grid_auto_columns": null,
      "grid_auto_flow": null,
      "grid_auto_rows": null,
      "grid_column": null,
      "grid_gap": null,
      "grid_row": null,
      "grid_template_areas": null,
      "grid_template_columns": null,
      "grid_template_rows": null,
      "height": null,
      "justify_content": null,
      "justify_items": null,
      "left": null,
      "margin": null,
      "max_height": null,
      "max_width": null,
      "min_height": null,
      "min_width": null,
      "object_fit": null,
      "object_position": null,
      "order": null,
      "overflow": null,
      "overflow_x": null,
      "overflow_y": null,
      "padding": null,
      "right": null,
      "top": null,
      "visibility": null,
      "width": null
     }
    },
    "fbe817607d504d54a2cadc41b3442381": {
     "model_module": "@jupyter-widgets/base",
     "model_name": "LayoutModel",
     "state": {
      "_model_module": "@jupyter-widgets/base",
      "_model_module_version": "1.2.0",
      "_model_name": "LayoutModel",
      "_view_count": null,
      "_view_module": "@jupyter-widgets/base",
      "_view_module_version": "1.2.0",
      "_view_name": "LayoutView",
      "align_content": null,
      "align_items": null,
      "align_self": null,
      "border": null,
      "bottom": null,
      "display": null,
      "flex": null,
      "flex_flow": null,
      "grid_area": null,
      "grid_auto_columns": null,
      "grid_auto_flow": null,
      "grid_auto_rows": null,
      "grid_column": null,
      "grid_gap": null,
      "grid_row": null,
      "grid_template_areas": null,
      "grid_template_columns": null,
      "grid_template_rows": null,
      "height": null,
      "justify_content": null,
      "justify_items": null,
      "left": null,
      "margin": null,
      "max_height": null,
      "max_width": null,
      "min_height": null,
      "min_width": null,
      "object_fit": null,
      "object_position": null,
      "order": null,
      "overflow": null,
      "overflow_x": null,
      "overflow_y": null,
      "padding": null,
      "right": null,
      "top": null,
      "visibility": null,
      "width": null
     }
>>>>>>> 0f39f68f9786158b1c3bb11c3e68d2c21edb3658
    }
   }
  }
 },
 "nbformat": 4,
 "nbformat_minor": 1
}
