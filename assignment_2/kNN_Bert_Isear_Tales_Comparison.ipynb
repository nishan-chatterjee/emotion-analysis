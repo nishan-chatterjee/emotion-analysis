{
 "cells": [
  {
   "cell_type": "code",
   "execution_count": 1,
   "metadata": {},
   "outputs": [],
   "source": [
    "def percentages(scores, total):\n",
    "    p = []\n",
    "    for i, j in zip(scores, total):\n",
    "        p.append(str(round(i/j, 2)))\n",
    "    return p"
   ]
  },
  {
   "cell_type": "code",
   "execution_count": 2,
   "metadata": {},
   "outputs": [
    {
     "name": "stdout",
     "output_type": "stream",
     "text": [
      "isear_isear ['0.64', '0.39', '0.36', '0.35', '0.37']\n",
      "isear_tales ['0.59', '0.34', '0.26', '0.12', '0.08']\n",
      "tales_tales ['0.7', '0.24', '0.36', '0.21', '0.02']\n",
      "tales_isear ['0.9', '0.2', '0.07', '0.16', '0.02']\n"
     ]
    }
   ],
   "source": [
    "print(\"isear_isear\", percentages([98, 64, 53, 64, 64], [154, 163, 149, 181, 175]))\n",
    "print(\"isear_tales\", percentages([198, 44, 34, 20, 6], [334, 129, 132, 172, 72]))\n",
    "print(\"tales_tales\", percentages([182, 24, 39, 27, 1], [259, 102, 108, 128, 43]))\n",
    "print(\"tales_isear\", percentages([132, 25, 8, 18, 2], [146, 123, 123, 114, 133]))"
   ]
  },
  {
   "cell_type": "code",
   "execution_count": 4,
   "metadata": {},
   "outputs": [
    {
     "name": "stdout",
     "output_type": "stream",
     "text": [
      "Test-Train      Joy    Fear    Anger    Sadness    Disgust\n",
      "------------  -----  ------  -------  ---------  ---------\n",
      "isear-isear    0.64    0.39     0.36       0.35       0.37\n",
      "isear-tales    0.59    0.34     0.26       0.12       0.08\n",
      "tales-tales    0.7     0.24     0.36       0.21       0.02\n",
      "tales-isear    0.9     0.2      0.07       0.16       0.02\n"
     ]
    }
   ],
   "source": [
    "from tabulate import tabulate\n",
    "\n",
    "print(tabulate([['isear-isear', '0.64', '0.39', '0.36', '0.35', '0.37'],\n",
    "                ['isear-tales', '0.59', '0.34', '0.26', '0.12', '0.08'],\n",
    "                ['tales-tales', '0.7', '0.24', '0.36', '0.21', '0.02'],\n",
    "                ['tales-isear', '0.9', '0.2', '0.07', '0.16', '0.02']],\n",
    "               headers=['Test-Train', 'Joy', 'Fear', 'Anger', 'Sadness', 'Disgust']))"
   ]
  },
  {
   "cell_type": "code",
   "execution_count": null,
   "metadata": {},
   "outputs": [],
   "source": []
  }
 ],
 "metadata": {
  "kernelspec": {
   "display_name": "Python 3",
   "language": "python",
   "name": "python3"
  },
  "language_info": {
   "codemirror_mode": {
    "name": "ipython",
    "version": 3
   },
   "file_extension": ".py",
   "mimetype": "text/x-python",
   "name": "python",
   "nbconvert_exporter": "python",
   "pygments_lexer": "ipython3",
   "version": "3.9.1"
  }
 },
 "nbformat": 4,
 "nbformat_minor": 4
}
