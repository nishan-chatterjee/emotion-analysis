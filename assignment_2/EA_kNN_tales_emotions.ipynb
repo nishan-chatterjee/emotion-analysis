{
 "cells": [
  {
   "cell_type": "code",
   "execution_count": 39,
   "metadata": {},
   "outputs": [],
   "source": [
    "from nltk.tokenize import word_tokenize\n",
    "from nltk import pos_tag\n",
    "import pandas as pd"
   ]
  },
  {
   "cell_type": "code",
   "execution_count": 41,
   "metadata": {},
   "outputs": [
    {
     "name": "stdout",
     "output_type": "stream",
     "text": [
      "Instances before removing classes:  13693\n",
      "Instanecs after removing classes:  4263\n"
     ]
    }
   ],
   "source": [
    "data = pd.read_csv('../../tales_emotion.tsv', sep='\\t', header=0)\n",
    "print(\"Instances before removing classes: \", len(data))\n",
    "emotions = [\"fear\", \"anger\",\"disgust\",\"sadness\",\"joy\"]\n",
    "data = data[data.emotion_label != \"surprise\"]\n",
    "data = data[data.emotion_label != \"noemo\"]\n",
    "print(\"Instanecs after removing classes: \",len(data))"
   ]
  },
  {
   "cell_type": "code",
   "execution_count": 42,
   "metadata": {},
   "outputs": [],
   "source": [
    "label_data = data[\"emotion_label\"]\n",
    "text_data = data[\"text\"]\n",
    "assert(len(label_data) == len(text_data))"
   ]
  },
  {
   "cell_type": "code",
   "execution_count": 43,
   "metadata": {},
   "outputs": [],
   "source": [
    "tokenized_text_data = [word_tokenize(x) for x in text_data]"
   ]
  },
  {
   "cell_type": "code",
   "execution_count": 44,
   "metadata": {},
   "outputs": [
    {
     "name": "stdout",
     "output_type": "stream",
     "text": [
      "Listen to the story of Jemima Puddle-duck, who was annoyed because the farmer's wife would not let her hatch her own eggs.\n",
      "anger\n",
      "['Her', 'sister-in-law', ',', 'Mrs.', 'Rebeccah', 'Puddle-duck', ',', 'was', 'perfectly', 'willing', 'to', 'leave', 'the', 'hatching', 'to', 'someone', 'else', '--', '``', 'I', 'have', 'not', 'the', 'patience', 'to', 'sit', 'on', 'a', 'nest', 'for', 'twenty-eight', 'days', ';', 'and', 'no', 'more', 'have', 'you', ',', 'Jemima', '.']\n"
     ]
    }
   ],
   "source": [
    "print(text_data[1])\n",
    "print(label_data[1])\n",
    "print(tokenized_text_data[1])\n",
    "labels = set(label_data)"
   ]
  },
  {
   "cell_type": "code",
   "execution_count": 45,
   "metadata": {},
   "outputs": [],
   "source": [
    "NRC = pd.read_csv('../../NRCLexicon.csv', sep='\\t', header=0)\n",
    "newNRC = NRC.groupby(['word']).agg(lambda x: tuple(x)).applymap(list).reset_index() #because words have multiple emotions, want list of emotions per word\n",
    "wordAssociations = dict(zip(newNRC['word'], newNRC['emotion'])) # this is the database that you want to use for feature extraction"
   ]
  },
  {
   "cell_type": "markdown",
   "metadata": {},
   "source": [
    "## Features\n",
    "Which features do we want to extract?\n",
    "\n",
    "    - count of emotions associated with words in text \n",
    "    \n",
    "        [fear, anger, trust, sadness, surprise, joy, anticipation, disgust] --> 8\n",
    "    \n",
    "    - count of valence \n",
    "    \n",
    "        [positive, negative]  --> 2\n",
    "        \n",
    "    - length of sentence (in words)  --> 1\n",
    "    \n",
    "    - length of sentence (in chars)  --> 1\n",
    "    \n",
    "    - count of punctuation\n",
    "    \n",
    "        [',', '.', '?', '!', '#', '-', ';', ':']  --> 8\n",
    "    \n",
    "    - tense\n",
    "    \n",
    "        [future, present, past]  --> 3\n",
    "        \n",
    "    - negation count  --> 1\n",
    "\n",
    "    - count of capital letters --> 1\n",
    "    \n",
    "    - rate of repitition of words  --> 1"
   ]
  },
  {
   "cell_type": "code",
   "execution_count": 46,
   "metadata": {},
   "outputs": [
    {
     "name": "stdout",
     "output_type": "stream",
     "text": [
      "[0, 1, 0]\n"
     ]
    }
   ],
   "source": [
    "def determine_tense(sentence): #sentence should be a list of tokens\n",
    "    tagged = pos_tag(sentence)\n",
    "\n",
    "    tense = [0,0,0]\n",
    "    tense[0] = len([word for word in tagged if word[1] in [\"MD\", \"VBC\", \"VBF\"]])  #future\n",
    "    tense[1] = len([word for word in tagged if word[1] in [\"VBP\", \"VBZ\",\"VBG\"]])  #present\n",
    "    tense[2] = len([word for word in tagged if word[1] in [\"VBD\", \"VBN\"]])        #past\n",
    "    return tense\n",
    "\n",
    "print(determine_tense([\"This\", \"is\", \"a\", \"fine\",\"day\",\".\"]))"
   ]
  },
  {
   "cell_type": "code",
   "execution_count": 47,
   "metadata": {},
   "outputs": [
    {
     "name": "stdout",
     "output_type": "stream",
     "text": [
      "[2, 0, 0, 0, 1, 0, 1, 2, 1, 0]\n"
     ]
    }
   ],
   "source": [
    "def count_emotions(text): #text should be a list of tokens\n",
    "    #TODO: check if each word in text (tokenized sentence) is in NRC, if so, add 1 to count for that emotion\n",
    "    #should also check for valence :) so this vector will be length 10 (8 emotions, 2 valence)\n",
    "    emotion_count = {\"positive\":0,\"negative\":0,\"fear\":0, \"anger\":0, \"trust\":0, \"sadness\":0, \"surprise\":0, \"joy\":0, \"anticipation\":0, \"disgust\":0\n",
    "}\n",
    "    for w in text:\n",
    "        if w.lower() in wordAssociations.keys():\n",
    "            for e in wordAssociations[w.lower()]:\n",
    "                emotion_count[e] += 1\n",
    "    return list(emotion_count.values())\n",
    "\n",
    "print(count_emotions([\"I\",\"love\",\"the\",\"sun\",\"on\",\"my\",\"smooth\",\"face\"]))"
   ]
  },
  {
   "cell_type": "code",
   "execution_count": 48,
   "metadata": {},
   "outputs": [
    {
     "name": "stdout",
     "output_type": "stream",
     "text": [
      "[0, 1, 0, 1, 0, 0, 0, 0]\n"
     ]
    }
   ],
   "source": [
    "def count_punctuation(text): #text must be list of tokens\n",
    "    #TODO: count all punctuation in the text\n",
    "    punctuation = [',', '.', '?', '!', '#', '-', ';', ':']\n",
    "    punctuation_count = {',':0, '.':0, '?':0, '!':0, '#':0, '-':0, ';':0, ':':0}\n",
    "    for w in text:\n",
    "        if w in punctuation:\n",
    "            punctuation_count[w] += 1\n",
    "    return list(punctuation_count.values())\n",
    "\n",
    "print(count_punctuation([\"This\",\"!\", \"is\", \"a\", \"fine\",\"day\",\".\"]))"
   ]
  },
  {
   "cell_type": "code",
   "execution_count": 49,
   "metadata": {},
   "outputs": [
    {
     "name": "stdout",
     "output_type": "stream",
     "text": [
      "1\n"
     ]
    }
   ],
   "source": [
    "def count_negation(text): #text must be list of tokens\n",
    "    count = 0\n",
    "    negs = [\"not\",\"never\",\"no\",\"none\",\"neither\", \"nor\"]\n",
    "    for w in text:\n",
    "        if w.lower() in negs:\n",
    "            count += 1\n",
    "    return count #returns single int\n",
    "\n",
    "print(count_negation([\"This\", \"is\",\"not\", \"a\", \"fine\",\"day\",\".\"]))"
   ]
  },
  {
   "cell_type": "code",
   "execution_count": 50,
   "metadata": {},
   "outputs": [
    {
     "name": "stdout",
     "output_type": "stream",
     "text": [
      "8\n"
     ]
    }
   ],
   "source": [
    "def count_capitals(text): #takes a list of tokens\n",
    "    text = ' '.join(text)\n",
    "    return(sum(1 for c in text if c.isupper()))  #returns a single int\n",
    "\n",
    "print(count_capitals([\"This\", \"is\",\"NOT\", \"a\", \"FINE\",\"day\",\".\"]))"
   ]
  },
  {
   "cell_type": "code",
   "execution_count": 51,
   "metadata": {},
   "outputs": [
    {
     "name": "stdout",
     "output_type": "stream",
     "text": [
      "2\n"
     ]
    }
   ],
   "source": [
    "def calc_rep_rate(text):\n",
    "    uniq = set(text)\n",
    "    return(int(round(len(text)/len(uniq), 0)))\n",
    "\n",
    "print(calc_rep_rate([\"This\", \"is\",\"not\", \"a\", \"fine\",\"day\",\",\",\"its\",\"a\", \"fine\",\"day\",\".\",\".\",\".\"]))"
   ]
  },
  {
   "cell_type": "code",
   "execution_count": 52,
   "metadata": {},
   "outputs": [
    {
     "name": "stdout",
     "output_type": "stream",
     "text": [
      "[0, 0, 0, 0, 0, 0, 0, 0, 0, 0, 1, 3, 0, 0, 0, 0, 0, 0, 0, 1, 0, 1, 1, 2]\n",
      "[2, 0, 0, 0, 1, 0, 1, 2, 1, 0, 0, 0, 0, 0, 0, 0, 0, 0, 0, 1, 0, 0, 1, 1]\n"
     ]
    }
   ],
   "source": [
    "def create_feature_vector(text): #text must be a list of tokens\n",
    "    #TODO: call all the methods that will process the text\n",
    "    #count_emotions (also valence)\n",
    "    #len(sentence)\n",
    "    #len(sentenceChars)\n",
    "    #count_punctuation\n",
    "    #determine_tense\n",
    "    #count_negation\n",
    "    #count_capitals\n",
    "    #calculate_repetition\n",
    "    feat_vec = []\n",
    "    feat_vec += count_emotions(text)\n",
    "    #feat_vec.append(len(text))\n",
    "    #feat_vec.append(len(' '.join(text)))\n",
    "    feat_vec += count_punctuation(text)\n",
    "    feat_vec += determine_tense(text)\n",
    "    feat_vec.append(count_negation(text))\n",
    "    feat_vec.append(count_capitals(text))\n",
    "    feat_vec.append(calc_rep_rate(text))\n",
    "    assert len(feat_vec) == 24\n",
    "    return feat_vec\n",
    "\n",
    "print(create_feature_vector([\"This\", \"is\",\"not\", \"a\", \"fine\",\"day\",\",\",\"its\",\"a\", \"fine\",\"day\",\".\",\".\",\".\"]))\n",
    "print(create_feature_vector([\"I\",\"love\",\"the\",\"sun\",\"on\",\"my\",\"smooth\",\"face\"]))"
   ]
  },
  {
   "cell_type": "markdown",
   "metadata": {},
   "source": [
    "## Training and testing on Tales"
   ]
  },
  {
   "cell_type": "code",
   "execution_count": 53,
   "metadata": {},
   "outputs": [
    {
     "name": "stdout",
     "output_type": "stream",
     "text": [
      "              precision    recall  f1-score   support\n",
      "\n",
      "       anger       0.31      0.30      0.31       134\n",
      "     disgust       0.20      0.03      0.05        69\n",
      "        fear       0.35      0.22      0.27       135\n",
      "         joy       0.55      0.82      0.66       349\n",
      "     sadness       0.30      0.20      0.24       166\n",
      "\n",
      "    accuracy                           0.46       853\n",
      "   macro avg       0.34      0.31      0.31       853\n",
      "weighted avg       0.40      0.46      0.41       853\n",
      "\n"
     ]
    }
   ],
   "source": [
    "from sklearn.model_selection import train_test_split\n",
    "from sklearn.preprocessing import StandardScaler\n",
    "from sklearn.neighbors import KNeighborsClassifier\n",
    "from sklearn.metrics import classification_report, confusion_matrix\n",
    "\n",
    "dataset = []\n",
    "for instance in tokenized_text_data:\n",
    "    dataset.append(create_feature_vector(instance))\n",
    "\n",
    "X = dataset\n",
    "y = label_data\n",
    "\n",
    "X_train, X_test, y_train, y_test = train_test_split(X, y, test_size=0.20)  #split dataset into 80% train and 20% test\n",
    "\n",
    "scaler = StandardScaler()\n",
    "scaler.fit(X_train) #feature scaling\n",
    "\n",
    "X_train = scaler.transform(X_train)\n",
    "X_test = scaler.transform(X_test)\n",
    "\n",
    "classifier = KNeighborsClassifier(n_neighbors=20)\n",
    "classifier.fit(X_train, y_train)\n",
    "\n",
    "y_pred = classifier.predict(X_test)\n",
    "\n",
    "#print(confusion_matrix(y_test, y_pred))\n",
    "print(classification_report(y_test, y_pred))\n",
    "\n"
   ]
  },
  {
   "cell_type": "markdown",
   "metadata": {},
   "source": [
    "## Testing on ISEAR"
   ]
  },
  {
   "cell_type": "code",
   "execution_count": 54,
   "metadata": {},
   "outputs": [
    {
     "name": "stdout",
     "output_type": "stream",
     "text": [
      "Instances before removing classes:  7666\n",
      "Instanecs after removing classes:  5477\n"
     ]
    }
   ],
   "source": [
    "data = pd.read_csv('../../isear_emotion.tsv', sep='\\t', header=0)\n",
    "print(\"Instances before removing classes: \", len(data))\n",
    "data = data[data.emotion_label != \"shame\"]\n",
    "data = data[data.emotion_label != \"guilt\"]\n",
    "print(\"Instanecs after removing classes: \",len(data))"
   ]
  },
  {
   "cell_type": "code",
   "execution_count": 55,
   "metadata": {},
   "outputs": [],
   "source": [
    "label_data = data[\"emotion_label\"]\n",
    "text_data = data[\"text\"]\n",
    "assert(len(label_data) == len(text_data))\n",
    "tokenized_text_data = [word_tokenize(x) for x in text_data]"
   ]
  },
  {
   "cell_type": "code",
   "execution_count": 56,
   "metadata": {},
   "outputs": [
    {
     "name": "stdout",
     "output_type": "stream",
     "text": [
      "When I was involved in a traffic accident.\n",
      "fear\n",
      "['When', 'I', 'was', 'involved', 'in', 'a', 'traffic', 'accident', '.']\n"
     ]
    }
   ],
   "source": [
    "print(text_data[1])\n",
    "print(label_data[1])\n",
    "print(tokenized_text_data[1])"
   ]
  },
  {
   "cell_type": "code",
   "execution_count": 57,
   "metadata": {},
   "outputs": [
    {
     "name": "stdout",
     "output_type": "stream",
     "text": [
      "              precision    recall  f1-score   support\n",
      "\n",
      "       anger       0.40      0.06      0.10       208\n",
      "     disgust       0.00      0.00      0.00       217\n",
      "        fear       0.30      0.11      0.16       208\n",
      "         joy       0.24      0.96      0.39       233\n",
      "     sadness       0.29      0.09      0.13       230\n",
      "\n",
      "    accuracy                           0.25      1096\n",
      "   macro avg       0.25      0.24      0.16      1096\n",
      "weighted avg       0.24      0.25      0.16      1096\n",
      "\n"
     ]
    },
    {
     "name": "stderr",
     "output_type": "stream",
     "text": [
      "/home/isa/Documents/CLMasters/3sem/deepLearning/venv/lib/python3.9/site-packages/sklearn/metrics/_classification.py:1245: UndefinedMetricWarning: Precision and F-score are ill-defined and being set to 0.0 in labels with no predicted samples. Use `zero_division` parameter to control this behavior.\n",
      "  _warn_prf(average, modifier, msg_start, len(result))\n",
      "/home/isa/Documents/CLMasters/3sem/deepLearning/venv/lib/python3.9/site-packages/sklearn/metrics/_classification.py:1245: UndefinedMetricWarning: Precision and F-score are ill-defined and being set to 0.0 in labels with no predicted samples. Use `zero_division` parameter to control this behavior.\n",
      "  _warn_prf(average, modifier, msg_start, len(result))\n",
      "/home/isa/Documents/CLMasters/3sem/deepLearning/venv/lib/python3.9/site-packages/sklearn/metrics/_classification.py:1245: UndefinedMetricWarning: Precision and F-score are ill-defined and being set to 0.0 in labels with no predicted samples. Use `zero_division` parameter to control this behavior.\n",
      "  _warn_prf(average, modifier, msg_start, len(result))\n"
     ]
    }
   ],
   "source": [
    "dataset = []\n",
    "for instance in tokenized_text_data:\n",
    "    dataset.append(create_feature_vector(instance))\n",
    "\n",
    "X = dataset\n",
    "y = label_data\n",
    "\n",
    "X_train, X_test, y_train, y_test = train_test_split(X, y, test_size=0.20)  #split dataset into 80% train and 20% test\n",
    "\n",
    "y_pred = classifier.predict(X_test)\n",
    "\n",
    "#print(confusion_matrix(y_test, y_pred))\n",
    "print(classification_report(y_test, y_pred))"
   ]
  },
  {
   "cell_type": "code",
   "execution_count": null,
   "metadata": {},
   "outputs": [],
   "source": []
  }
 ],
 "metadata": {
  "kernelspec": {
   "display_name": "Python 3",
   "language": "python",
   "name": "python3"
  },
  "language_info": {
   "codemirror_mode": {
    "name": "ipython",
    "version": 3
   },
   "file_extension": ".py",
   "mimetype": "text/x-python",
   "name": "python",
   "nbconvert_exporter": "python",
   "pygments_lexer": "ipython3",
   "version": "3.9.1"
  }
 },
 "nbformat": 4,
 "nbformat_minor": 4
}
