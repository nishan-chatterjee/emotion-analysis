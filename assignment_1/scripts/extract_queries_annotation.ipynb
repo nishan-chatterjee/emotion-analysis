{
 "cells": [
  {
   "cell_type": "markdown",
   "metadata": {},
   "source": [
    "**List the relative path of the dataset:**"
   ]
  },
  {
   "cell_type": "code",
   "execution_count": 1,
   "metadata": {
    "scrolled": true
   },
   "outputs": [
    {
     "name": "stdout",
     "output_type": "stream",
     "text": [
      "['././dataframe.csv', './UCI_ML_Drug_Review_dataset/drugsComTest_raw.csv', './UCI_ML_Drug_Review_dataset/drugsComTrain_raw.csv']\n"
     ]
    }
   ],
   "source": [
    "import os\n",
    "root_dir = \".\"\n",
    "file_set = []\n",
    "\n",
    "for dir_, _, files in os.walk(root_dir):\n",
    "    for file_name in files:\n",
    "        if file_name.endswith(\".csv\"):\n",
    "            rel_dir = os.path.relpath(dir_, root_dir)\n",
    "            rel_file = os.path.join(rel_dir, file_name)\n",
    "            file_set.append(\"./\" + str(rel_file))\n",
    "print(file_set)"
   ]
  },
  {
   "cell_type": "markdown",
   "metadata": {},
   "source": [
    "**Load datasets**"
   ]
  },
  {
   "cell_type": "code",
   "execution_count": 1,
   "metadata": {
    "scrolled": true
   },
   "outputs": [
    {
     "data": {
      "text/html": [
       "<div>\n",
       "<style scoped>\n",
       "    .dataframe tbody tr th:only-of-type {\n",
       "        vertical-align: middle;\n",
       "    }\n",
       "\n",
       "    .dataframe tbody tr th {\n",
       "        vertical-align: top;\n",
       "    }\n",
       "\n",
       "    .dataframe thead th {\n",
       "        text-align: right;\n",
       "    }\n",
       "</style>\n",
       "<table border=\"1\" class=\"dataframe\">\n",
       "  <thead>\n",
       "    <tr style=\"text-align: right;\">\n",
       "      <th></th>\n",
       "      <th>uniqueID</th>\n",
       "      <th>drugName</th>\n",
       "      <th>condition</th>\n",
       "      <th>review</th>\n",
       "      <th>rating</th>\n",
       "      <th>date</th>\n",
       "      <th>usefulCount</th>\n",
       "    </tr>\n",
       "  </thead>\n",
       "  <tbody>\n",
       "    <tr>\n",
       "      <th>0</th>\n",
       "      <td>163740</td>\n",
       "      <td>Mirtazapine</td>\n",
       "      <td>Depression</td>\n",
       "      <td>\"I&amp;#039;ve tried a few antidepressants over th...</td>\n",
       "      <td>10</td>\n",
       "      <td>28-Feb-12</td>\n",
       "      <td>22</td>\n",
       "    </tr>\n",
       "    <tr>\n",
       "      <th>1</th>\n",
       "      <td>206473</td>\n",
       "      <td>Mesalamine</td>\n",
       "      <td>Crohn's Disease, Maintenance</td>\n",
       "      <td>\"My son has Crohn&amp;#039;s disease and has done ...</td>\n",
       "      <td>8</td>\n",
       "      <td>17-May-09</td>\n",
       "      <td>17</td>\n",
       "    </tr>\n",
       "    <tr>\n",
       "      <th>2</th>\n",
       "      <td>159672</td>\n",
       "      <td>Bactrim</td>\n",
       "      <td>Urinary Tract Infection</td>\n",
       "      <td>\"Quick reduction of symptoms\"</td>\n",
       "      <td>9</td>\n",
       "      <td>29-Sep-17</td>\n",
       "      <td>3</td>\n",
       "    </tr>\n",
       "    <tr>\n",
       "      <th>3</th>\n",
       "      <td>39293</td>\n",
       "      <td>Contrave</td>\n",
       "      <td>Weight Loss</td>\n",
       "      <td>\"Contrave combines drugs that were used for al...</td>\n",
       "      <td>9</td>\n",
       "      <td>5-Mar-17</td>\n",
       "      <td>35</td>\n",
       "    </tr>\n",
       "    <tr>\n",
       "      <th>4</th>\n",
       "      <td>97768</td>\n",
       "      <td>Cyclafem 1 / 35</td>\n",
       "      <td>Birth Control</td>\n",
       "      <td>\"I have been on this birth control for one cyc...</td>\n",
       "      <td>9</td>\n",
       "      <td>22-Oct-15</td>\n",
       "      <td>4</td>\n",
       "    </tr>\n",
       "  </tbody>\n",
       "</table>\n",
       "</div>"
      ],
      "text/plain": [
       "   uniqueID         drugName                     condition  \\\n",
       "0    163740      Mirtazapine                    Depression   \n",
       "1    206473       Mesalamine  Crohn's Disease, Maintenance   \n",
       "2    159672          Bactrim       Urinary Tract Infection   \n",
       "3     39293         Contrave                   Weight Loss   \n",
       "4     97768  Cyclafem 1 / 35                 Birth Control   \n",
       "\n",
       "                                              review  rating       date  \\\n",
       "0  \"I&#039;ve tried a few antidepressants over th...      10  28-Feb-12   \n",
       "1  \"My son has Crohn&#039;s disease and has done ...       8  17-May-09   \n",
       "2                      \"Quick reduction of symptoms\"       9  29-Sep-17   \n",
       "3  \"Contrave combines drugs that were used for al...       9   5-Mar-17   \n",
       "4  \"I have been on this birth control for one cyc...       9  22-Oct-15   \n",
       "\n",
       "   usefulCount  \n",
       "0           22  \n",
       "1           17  \n",
       "2            3  \n",
       "3           35  \n",
       "4            4  "
      ]
     },
     "execution_count": 1,
     "metadata": {},
     "output_type": "execute_result"
    }
   ],
   "source": [
    "import pandas as pd\n",
    "\n",
    "df_test = pd.read_csv(\"./UCI_ML_Drug_Review_dataset/drugsComTest_raw.csv\")\n",
    "df_train = pd.read_csv(\"./UCI_ML_Drug_Review_dataset/drugsComTrain_raw.csv\")\n",
    "\n",
    "df_test.head()"
   ]
  },
  {
   "cell_type": "markdown",
   "metadata": {},
   "source": [
    "**Create Random List of 15 to start annotation**"
   ]
  },
  {
   "cell_type": "code",
   "execution_count": 3,
   "metadata": {},
   "outputs": [
    {
     "data": {
      "text/html": [
       "<div>\n",
       "<style scoped>\n",
       "    .dataframe tbody tr th:only-of-type {\n",
       "        vertical-align: middle;\n",
       "    }\n",
       "\n",
       "    .dataframe tbody tr th {\n",
       "        vertical-align: top;\n",
       "    }\n",
       "\n",
       "    .dataframe thead th {\n",
       "        text-align: right;\n",
       "    }\n",
       "</style>\n",
       "<table border=\"1\" class=\"dataframe\">\n",
       "  <thead>\n",
       "    <tr style=\"text-align: right;\">\n",
       "      <th></th>\n",
       "      <th>uniqueID</th>\n",
       "      <th>drugName</th>\n",
       "      <th>condition</th>\n",
       "      <th>review</th>\n",
       "      <th>rating</th>\n",
       "      <th>date</th>\n",
       "      <th>usefulCount</th>\n",
       "    </tr>\n",
       "  </thead>\n",
       "  <tbody>\n",
       "    <tr>\n",
       "      <th>6908</th>\n",
       "      <td>32104</td>\n",
       "      <td>Wellbutrin XL</td>\n",
       "      <td>Major Depressive Disorde</td>\n",
       "      <td>\"Helped better than any other antidepressant I...</td>\n",
       "      <td>6</td>\n",
       "      <td>4-Nov-14</td>\n",
       "      <td>59</td>\n",
       "    </tr>\n",
       "    <tr>\n",
       "      <th>21896</th>\n",
       "      <td>224119</td>\n",
       "      <td>Budesonide</td>\n",
       "      <td>Asthma, Maintenance</td>\n",
       "      <td>\"I have developed irritation of the throat and...</td>\n",
       "      <td>2</td>\n",
       "      <td>15-Sep-11</td>\n",
       "      <td>22</td>\n",
       "    </tr>\n",
       "    <tr>\n",
       "      <th>51002</th>\n",
       "      <td>28132</td>\n",
       "      <td>Lexapro</td>\n",
       "      <td>Generalized Anxiety Disorde</td>\n",
       "      <td>\"Ok so a bit of backstory. I have had anxiety ...</td>\n",
       "      <td>7</td>\n",
       "      <td>4-Sep-15</td>\n",
       "      <td>25</td>\n",
       "    </tr>\n",
       "    <tr>\n",
       "      <th>53023</th>\n",
       "      <td>26323</td>\n",
       "      <td>Sprintec</td>\n",
       "      <td>Endometriosis</td>\n",
       "      <td>\"I just start this pills this month and start ...</td>\n",
       "      <td>6</td>\n",
       "      <td>26-Dec-15</td>\n",
       "      <td>2</td>\n",
       "    </tr>\n",
       "    <tr>\n",
       "      <th>10294</th>\n",
       "      <td>165354</td>\n",
       "      <td>Ethinyl estradiol / folic acid / levonorgestrel</td>\n",
       "      <td>Birth Control</td>\n",
       "      <td>\"There are few good things with this birth con...</td>\n",
       "      <td>7</td>\n",
       "      <td>25-Mar-15</td>\n",
       "      <td>5</td>\n",
       "    </tr>\n",
       "  </tbody>\n",
       "</table>\n",
       "</div>"
      ],
      "text/plain": [
       "       uniqueID                                         drugName  \\\n",
       "6908      32104                                    Wellbutrin XL   \n",
       "21896    224119                                       Budesonide   \n",
       "51002     28132                                          Lexapro   \n",
       "53023     26323                                         Sprintec   \n",
       "10294    165354  Ethinyl estradiol / folic acid / levonorgestrel   \n",
       "\n",
       "                         condition  \\\n",
       "6908      Major Depressive Disorde   \n",
       "21896          Asthma, Maintenance   \n",
       "51002  Generalized Anxiety Disorde   \n",
       "53023                Endometriosis   \n",
       "10294                Birth Control   \n",
       "\n",
       "                                                  review  rating       date  \\\n",
       "6908   \"Helped better than any other antidepressant I...       6   4-Nov-14   \n",
       "21896  \"I have developed irritation of the throat and...       2  15-Sep-11   \n",
       "51002  \"Ok so a bit of backstory. I have had anxiety ...       7   4-Sep-15   \n",
       "53023  \"I just start this pills this month and start ...       6  26-Dec-15   \n",
       "10294  \"There are few good things with this birth con...       7  25-Mar-15   \n",
       "\n",
       "       usefulCount  \n",
       "6908            59  \n",
       "21896           22  \n",
       "51002           25  \n",
       "53023            2  \n",
       "10294            5  "
      ]
     },
     "execution_count": 3,
     "metadata": {},
     "output_type": "execute_result"
    }
   ],
   "source": [
    "random_list = df_test.sample(n=15)\n",
    "random_list.to_csv (r'seed_test_dataset.csv', index = False, header=True)\n",
    "random_list.head()"
   ]
  },
  {
   "cell_type": "markdown",
   "metadata": {},
   "source": [
    "**Annotation Guidelines**"
   ]
  },
  {
   "cell_type": "markdown",
   "metadata": {},
   "source": [
    "**Link to Google Sheets For Annotation**\n",
    "\n",
    "**Nishan's Worksheet:** https://docs.google.com/spreadsheets/d/16etO8GdeQBuGnyusqhDqqGwotmn6T8p0INM7b_YBKBo/edit?usp=sharing\n",
    "\n",
    "**Isabelle's Worksheet:** https://docs.google.com/spreadsheets/d/1a9KmTZwXzDtnM8xvJ3e7AY4ApfngiNC2ibohnTCP71U/edit?usp=sharing*"
   ]
  },
  {
   "cell_type": "markdown",
   "metadata": {},
   "source": [
    "**Create 50 new entries to annonate based on **"
   ]
  },
  {
   "cell_type": "code",
   "execution_count": null,
   "metadata": {},
   "outputs": [],
   "source": [
    "random_list = df_test.sample(n=50)\n",
    "random_list.to_csv (r'seed_test_dataset.csv', index = False, header=True)\n",
    "random_list.head()"
   ]
  }
 ],
 "metadata": {
  "kernelspec": {
   "display_name": "Python 3",
   "language": "python",
   "name": "python3"
  },
  "language_info": {
   "codemirror_mode": {
    "name": "ipython",
    "version": 3
   },
   "file_extension": ".py",
   "mimetype": "text/x-python",
   "name": "python",
   "nbconvert_exporter": "python",
   "pygments_lexer": "ipython3",
   "version": "3.8.3"
  }
 },
 "nbformat": 4,
 "nbformat_minor": 4
}
