{
 "cells": [
  {
   "cell_type": "code",
   "execution_count": 1,
   "metadata": {},
   "outputs": [],
   "source": [
    "# imports\n",
    "import numpy as np\n",
    "import pandas as pd\n",
    "\n",
    "# set pandas to display the maximum range if necessary\n",
    "pd.set_option(\"display.max_rows\", None, \"display.max_columns\", None)\n",
    "\n",
    "# labels are emotion labels only\n",
    "labels = ['anger_bf', 'fear_bf', 'joy_bf', 'sadness_bf', 'disgust_bf', 'surprise_bf', 'anger_af', 'fear_af', 'joy_af', 'sadness_af', 'disgust_af', 'surprise_af']\n",
    "# column names of the imported datasets\n",
    "col_names = ['id', 'anger_bf', 'fear_bf', 'joy_bf', 'sadness_bf', 'disgust_bf', 'surprise_bf', 'drug_name', 'anger_af', 'fear_af', 'joy_af', 'sadness_af', 'disgust_af', 'surprise_af', 'comments', 'data']"
   ]
  },
  {
   "cell_type": "code",
   "execution_count": 2,
   "metadata": {},
   "outputs": [],
   "source": [
    "# preprocess the datasets to trim non-relevant values for comparing annotators\n",
    "def preprocess_datasets(file_path):\n",
    "    df = pd.read_csv(file_path, sep='\\t', names=col_names, skiprows=1)\n",
    "\n",
    "    # drop columns, replace NaNs with a String 0: easier to deal with all string types, set index as unique_id \n",
    "    df = df.drop(['drug_name', 'comments', 'data'], axis=1)\n",
    "    df = df.replace(np.nan, '0')\n",
    "    df = df.set_index('id')\n",
    "    \n",
    "    return df"
   ]
  },
  {
   "cell_type": "code",
   "execution_count": 3,
   "metadata": {},
   "outputs": [
    {
     "data": {
      "text/html": [
       "<div>\n",
       "<style scoped>\n",
       "    .dataframe tbody tr th:only-of-type {\n",
       "        vertical-align: middle;\n",
       "    }\n",
       "\n",
       "    .dataframe tbody tr th {\n",
       "        vertical-align: top;\n",
       "    }\n",
       "\n",
       "    .dataframe thead th {\n",
       "        text-align: right;\n",
       "    }\n",
       "</style>\n",
       "<table border=\"1\" class=\"dataframe\">\n",
       "  <thead>\n",
       "    <tr style=\"text-align: right;\">\n",
       "      <th></th>\n",
       "      <th>anger_bf</th>\n",
       "      <th>fear_bf</th>\n",
       "      <th>joy_bf</th>\n",
       "      <th>sadness_bf</th>\n",
       "      <th>disgust_bf</th>\n",
       "      <th>surprise_bf</th>\n",
       "      <th>anger_af</th>\n",
       "      <th>fear_af</th>\n",
       "      <th>joy_af</th>\n",
       "      <th>sadness_af</th>\n",
       "      <th>disgust_af</th>\n",
       "      <th>surprise_af</th>\n",
       "    </tr>\n",
       "    <tr>\n",
       "      <th>id</th>\n",
       "      <th></th>\n",
       "      <th></th>\n",
       "      <th></th>\n",
       "      <th></th>\n",
       "      <th></th>\n",
       "      <th></th>\n",
       "      <th></th>\n",
       "      <th></th>\n",
       "      <th></th>\n",
       "      <th></th>\n",
       "      <th></th>\n",
       "      <th></th>\n",
       "    </tr>\n",
       "  </thead>\n",
       "  <tbody>\n",
       "    <tr>\n",
       "      <th>32104</th>\n",
       "      <td>0</td>\n",
       "      <td>0</td>\n",
       "      <td>0</td>\n",
       "      <td>0</td>\n",
       "      <td>0</td>\n",
       "      <td>0</td>\n",
       "      <td>0</td>\n",
       "      <td>0</td>\n",
       "      <td>2 Normal</td>\n",
       "      <td>0</td>\n",
       "      <td>0</td>\n",
       "      <td>0</td>\n",
       "    </tr>\n",
       "    <tr>\n",
       "      <th>224119</th>\n",
       "      <td>0</td>\n",
       "      <td>0</td>\n",
       "      <td>0</td>\n",
       "      <td>0</td>\n",
       "      <td>0</td>\n",
       "      <td>0</td>\n",
       "      <td>0</td>\n",
       "      <td>0</td>\n",
       "      <td>0</td>\n",
       "      <td>0</td>\n",
       "      <td>2 Normal</td>\n",
       "      <td>0</td>\n",
       "    </tr>\n",
       "    <tr>\n",
       "      <th>28132</th>\n",
       "      <td>0</td>\n",
       "      <td>3 High</td>\n",
       "      <td>0</td>\n",
       "      <td>3 High</td>\n",
       "      <td>0</td>\n",
       "      <td>0</td>\n",
       "      <td>0</td>\n",
       "      <td>1 Low</td>\n",
       "      <td>0</td>\n",
       "      <td>1 Low</td>\n",
       "      <td>0</td>\n",
       "      <td>0</td>\n",
       "    </tr>\n",
       "    <tr>\n",
       "      <th>26323</th>\n",
       "      <td>0</td>\n",
       "      <td>0</td>\n",
       "      <td>0</td>\n",
       "      <td>0</td>\n",
       "      <td>0</td>\n",
       "      <td>0</td>\n",
       "      <td>3 High</td>\n",
       "      <td>0</td>\n",
       "      <td>0</td>\n",
       "      <td>0</td>\n",
       "      <td>0</td>\n",
       "      <td>0</td>\n",
       "    </tr>\n",
       "    <tr>\n",
       "      <th>165354</th>\n",
       "      <td>0</td>\n",
       "      <td>0</td>\n",
       "      <td>0</td>\n",
       "      <td>0</td>\n",
       "      <td>0</td>\n",
       "      <td>0</td>\n",
       "      <td>3 High</td>\n",
       "      <td>0</td>\n",
       "      <td>1 Low</td>\n",
       "      <td>0</td>\n",
       "      <td>0</td>\n",
       "      <td>0</td>\n",
       "    </tr>\n",
       "  </tbody>\n",
       "</table>\n",
       "</div>"
      ],
      "text/plain": [
       "       anger_bf fear_bf joy_bf sadness_bf disgust_bf surprise_bf anger_af  \\\n",
       "id                                                                          \n",
       "32104         0       0      0          0          0           0        0   \n",
       "224119        0       0      0          0          0           0        0   \n",
       "28132         0  3 High      0     3 High          0           0        0   \n",
       "26323         0       0      0          0          0           0   3 High   \n",
       "165354        0       0      0          0          0           0   3 High   \n",
       "\n",
       "       fear_af    joy_af sadness_af disgust_af surprise_af  \n",
       "id                                                          \n",
       "32104        0  2 Normal          0          0           0  \n",
       "224119       0         0          0   2 Normal           0  \n",
       "28132    1 Low         0      1 Low          0           0  \n",
       "26323        0         0          0          0           0  \n",
       "165354       0     1 Low          0          0           0  "
      ]
     },
     "execution_count": 3,
     "metadata": {},
     "output_type": "execute_result"
    }
   ],
   "source": [
    "# Isabelle's worksheet looks like\n",
    "df_isa = preprocess_datasets(\"../worksheets/isabelle_worksheet.tsv\")\n",
    "\n",
    "# solving for a specific bug encountered while converting Isabelle's worksheet\n",
    "df_isa.at[26323, 'surprise_af'] = '0'\n",
    "\n",
    "# display trimmed dataset\n",
    "df_isa.head()"
   ]
  },
  {
   "cell_type": "code",
   "execution_count": 4,
   "metadata": {},
   "outputs": [
    {
     "data": {
      "text/html": [
       "<div>\n",
       "<style scoped>\n",
       "    .dataframe tbody tr th:only-of-type {\n",
       "        vertical-align: middle;\n",
       "    }\n",
       "\n",
       "    .dataframe tbody tr th {\n",
       "        vertical-align: top;\n",
       "    }\n",
       "\n",
       "    .dataframe thead th {\n",
       "        text-align: right;\n",
       "    }\n",
       "</style>\n",
       "<table border=\"1\" class=\"dataframe\">\n",
       "  <thead>\n",
       "    <tr style=\"text-align: right;\">\n",
       "      <th></th>\n",
       "      <th>anger_bf</th>\n",
       "      <th>fear_bf</th>\n",
       "      <th>joy_bf</th>\n",
       "      <th>sadness_bf</th>\n",
       "      <th>disgust_bf</th>\n",
       "      <th>surprise_bf</th>\n",
       "      <th>anger_af</th>\n",
       "      <th>fear_af</th>\n",
       "      <th>joy_af</th>\n",
       "      <th>sadness_af</th>\n",
       "      <th>disgust_af</th>\n",
       "      <th>surprise_af</th>\n",
       "    </tr>\n",
       "    <tr>\n",
       "      <th>id</th>\n",
       "      <th></th>\n",
       "      <th></th>\n",
       "      <th></th>\n",
       "      <th></th>\n",
       "      <th></th>\n",
       "      <th></th>\n",
       "      <th></th>\n",
       "      <th></th>\n",
       "      <th></th>\n",
       "      <th></th>\n",
       "      <th></th>\n",
       "      <th></th>\n",
       "    </tr>\n",
       "  </thead>\n",
       "  <tbody>\n",
       "    <tr>\n",
       "      <th>32104</th>\n",
       "      <td>0</td>\n",
       "      <td>0</td>\n",
       "      <td>0</td>\n",
       "      <td>3 High</td>\n",
       "      <td>0</td>\n",
       "      <td>0</td>\n",
       "      <td>0</td>\n",
       "      <td>0</td>\n",
       "      <td>2 Normal</td>\n",
       "      <td>0</td>\n",
       "      <td>0</td>\n",
       "      <td>2 Normal</td>\n",
       "    </tr>\n",
       "    <tr>\n",
       "      <th>224119</th>\n",
       "      <td>0</td>\n",
       "      <td>0</td>\n",
       "      <td>0</td>\n",
       "      <td>0</td>\n",
       "      <td>0</td>\n",
       "      <td>0</td>\n",
       "      <td>0</td>\n",
       "      <td>1 Low</td>\n",
       "      <td>0</td>\n",
       "      <td>0</td>\n",
       "      <td>3 High</td>\n",
       "      <td>0</td>\n",
       "    </tr>\n",
       "    <tr>\n",
       "      <th>28132</th>\n",
       "      <td>0</td>\n",
       "      <td>3 High</td>\n",
       "      <td>0</td>\n",
       "      <td>3 High</td>\n",
       "      <td>0</td>\n",
       "      <td>0</td>\n",
       "      <td>0</td>\n",
       "      <td>2 Normal</td>\n",
       "      <td>2 Normal</td>\n",
       "      <td>0</td>\n",
       "      <td>0</td>\n",
       "      <td>0</td>\n",
       "    </tr>\n",
       "    <tr>\n",
       "      <th>26323</th>\n",
       "      <td>0</td>\n",
       "      <td>0</td>\n",
       "      <td>0</td>\n",
       "      <td>0</td>\n",
       "      <td>0</td>\n",
       "      <td>0</td>\n",
       "      <td>1 Low</td>\n",
       "      <td>2 Normal</td>\n",
       "      <td>0</td>\n",
       "      <td>0</td>\n",
       "      <td>0</td>\n",
       "      <td>0</td>\n",
       "    </tr>\n",
       "    <tr>\n",
       "      <th>165354</th>\n",
       "      <td>0</td>\n",
       "      <td>0</td>\n",
       "      <td>0</td>\n",
       "      <td>0</td>\n",
       "      <td>0</td>\n",
       "      <td>0</td>\n",
       "      <td>3 High</td>\n",
       "      <td>0</td>\n",
       "      <td>2 Normal</td>\n",
       "      <td>0</td>\n",
       "      <td>0</td>\n",
       "      <td>0</td>\n",
       "    </tr>\n",
       "  </tbody>\n",
       "</table>\n",
       "</div>"
      ],
      "text/plain": [
       "       anger_bf fear_bf joy_bf sadness_bf disgust_bf surprise_bf anger_af  \\\n",
       "id                                                                          \n",
       "32104         0       0      0     3 High          0           0        0   \n",
       "224119        0       0      0          0          0           0        0   \n",
       "28132         0  3 High      0     3 High          0           0        0   \n",
       "26323         0       0      0          0          0           0    1 Low   \n",
       "165354        0       0      0          0          0           0   3 High   \n",
       "\n",
       "         fear_af    joy_af sadness_af disgust_af surprise_af  \n",
       "id                                                            \n",
       "32104          0  2 Normal          0          0    2 Normal  \n",
       "224119     1 Low         0          0     3 High           0  \n",
       "28132   2 Normal  2 Normal          0          0           0  \n",
       "26323   2 Normal         0          0          0           0  \n",
       "165354         0  2 Normal          0          0           0  "
      ]
     },
     "execution_count": 4,
     "metadata": {},
     "output_type": "execute_result"
    }
   ],
   "source": [
    "# Nishan's worksheet looks like\n",
    "df_n = preprocess_datasets(\"../worksheets/nishan_worksheet_with_older.tsv\")\n",
    "\n",
    "# display trimmed dataset\n",
    "df_n.head()"
   ]
  },
  {
   "cell_type": "code",
   "execution_count": 5,
   "metadata": {},
   "outputs": [],
   "source": [
    "# vectorize worksheet saving degrees of emotions: Anger, Joy, etc can be between 0 and 3\n",
    "def vectorize_with_degrees(df):\n",
    "    scores_with_degree = {}\n",
    "    \n",
    "    # retain the first character of the strings from the left and convert them to strings\n",
    "    for index, row in df.iterrows():\n",
    "        scores_with_degree[index] = list(map(int, row.str[:1]))\n",
    "    \n",
    "    return scores_with_degree"
   ]
  },
  {
   "cell_type": "code",
   "execution_count": 6,
   "metadata": {},
   "outputs": [],
   "source": [
    "# vectorize worksheet without degrees of emotions: Anger, Joy, etc can be between 0 or 1\n",
    "# processes degreed dict of lists instead of df\n",
    "def vectorize_no_degrees(degree_scores):\n",
    "    scores_no_degree = {}\n",
    "    \n",
    "    # if score > 0, then score becomes 1, else 0\n",
    "    for key, value in degree_scores.items():\n",
    "        foo = []\n",
    "        for index in value:\n",
    "            if index > 0:\n",
    "                foo.append(1)\n",
    "            else:\n",
    "                foo.append(0)\n",
    "        scores_no_degree[key] = foo\n",
    "        \n",
    "    return scores_no_degree"
   ]
  },
  {
   "cell_type": "code",
   "execution_count": 7,
   "metadata": {},
   "outputs": [],
   "source": [
    "# print the first 5 pairs of keys and lists\n",
    "def print_dict(score_dict, number_of_rows):\n",
    "    print({k: score_dict[k] for k in sorted(score_dict.keys())[:number_of_rows]})"
   ]
  },
  {
   "cell_type": "code",
   "execution_count": 8,
   "metadata": {},
   "outputs": [
    {
     "name": "stdout",
     "output_type": "stream",
     "text": [
      "{4308: [0, 0, 0, 0, 0, 0, 0, 0, 0, 0, 0, 0], 6528: [1, 0, 0, 0, 0, 0, 0, 0, 2, 0, 0, 0], 6764: [0, 0, 0, 0, 0, 0, 3, 0, 0, 3, 0, 0], 11600: [1, 0, 0, 0, 0, 0, 1, 0, 0, 0, 0, 0], 13633: [0, 0, 0, 0, 0, 0, 0, 0, 3, 1, 0, 0]}\n",
      "{4308: [0, 0, 0, 0, 0, 0, 0, 0, 0, 0, 0, 0], 6528: [1, 0, 0, 0, 0, 0, 0, 0, 1, 0, 0, 0], 6764: [0, 0, 0, 0, 0, 0, 1, 0, 0, 1, 0, 0], 11600: [1, 0, 0, 0, 0, 0, 1, 0, 0, 0, 0, 0], 13633: [0, 0, 0, 0, 0, 0, 0, 0, 1, 1, 0, 0]}\n"
     ]
    }
   ],
   "source": [
    "# vectorize and print scores\n",
    "isa_scores_with_degree = vectorize_with_degrees(df_isa)\n",
    "print_dict(isa_scores_with_degree, 5)\n",
    "\n",
    "# pass previous dict of lists\n",
    "isa_scores_no_degree = vectorize_no_degrees(isa_scores_with_degree)\n",
    "print_dict(isa_scores_no_degree, 5)"
   ]
  },
  {
   "cell_type": "code",
   "execution_count": 9,
   "metadata": {},
   "outputs": [
    {
     "name": "stdout",
     "output_type": "stream",
     "text": [
      "{4308: [0, 2, 0, 0, 3, 0, 0, 0, 1, 0, 0, 1], 6528: [2, 0, 0, 0, 0, 0, 0, 0, 3, 0, 0, 0], 6764: [0, 0, 0, 0, 0, 0, 3, 0, 0, 0, 3, 0], 11600: [0, 0, 0, 0, 0, 0, 1, 0, 0, 1, 0, 0], 13633: [0, 0, 0, 0, 0, 0, 3, 3, 0, 0, 0, 0]}\n",
      "{4308: [0, 1, 0, 0, 1, 0, 0, 0, 1, 0, 0, 1], 6528: [1, 0, 0, 0, 0, 0, 0, 0, 1, 0, 0, 0], 6764: [0, 0, 0, 0, 0, 0, 1, 0, 0, 0, 1, 0], 11600: [0, 0, 0, 0, 0, 0, 1, 0, 0, 1, 0, 0], 13633: [0, 0, 0, 0, 0, 0, 1, 1, 0, 0, 0, 0]}\n"
     ]
    }
   ],
   "source": [
    "# vectorize and print scores\n",
    "n_scores_with_degree = vectorize_with_degrees(df_n)\n",
    "print_dict(n_scores_with_degree, 5)\n",
    "\n",
    "# pass previous dict of lists\n",
    "n_scores_no_degree = vectorize_no_degrees(n_scores_with_degree)\n",
    "print_dict(n_scores_no_degree, 5)"
   ]
  },
  {
   "cell_type": "code",
   "execution_count": 10,
   "metadata": {},
   "outputs": [],
   "source": [
    "# slice dictionary based on starting and ending point\n",
    "def slice_dict(dictionary, start, end):\n",
    "    sliced_dictionary = dict()\n",
    "    \n",
    "    for key in dictionary: \n",
    "        # slicing till number_of_rows and reassigning \n",
    "        sliced_dictionary[key] = dictionary[key][start:end]\n",
    "        \n",
    "    return sliced_dictionary"
   ]
  },
  {
   "cell_type": "code",
   "execution_count": 11,
   "metadata": {},
   "outputs": [],
   "source": [
    "import sklearn\n",
    "from sklearn.metrics import cohen_kappa_score\n",
    "\n",
    "# Cohen Kappa Scores\n",
    "# both annotator scores have the same dimensions, or are normalized\n",
    "def inter_annotator_agreement(annotator1_scores, annotator2_score, start, end):\n",
    "    labels = ['unweighted_with_degree', 'linear_with_degree', 'quadratic_with_degree', 'unweighted_no_degree', 'linear_no_degree', 'quadratic_no_degree']\n",
    "    values = [[], [], [], [], [], []]\n",
    "    ck_scores = dict(zip(labels, values))\n",
    "    for key, values in annotator1_scores.items():\n",
    "        ck_scores[labels[0]].append(cohen_kappa_score(annotator1_scores[key], annotator2_score[key]))\n",
    "        ck_scores[labels[1]].append(cohen_kappa_score(annotator1_scores[key], annotator2_score[key], weights='linear'))\n",
    "        ck_scores[labels[2]].append(cohen_kappa_score(annotator1_scores[key], annotator2_score[key], weights='quadratic'))\n",
    "        ck_scores[labels[3]].append(cohen_kappa_score(annotator1_scores[key], annotator2_score[key]))\n",
    "        ck_scores[labels[4]].append(cohen_kappa_score(annotator1_scores[key], annotator2_score[key], weights='linear'))\n",
    "        ck_scores[labels[5]].append(cohen_kappa_score(annotator1_scores[key], annotator2_score[key], weights='quadratic'))\n",
    "    \n",
    "    sliced_ck_scores = slice_dict(ck_scores, start, end)\n",
    "    \n",
    "    return sliced_ck_scores"
   ]
  },
  {
   "cell_type": "code",
   "execution_count": 12,
   "metadata": {},
   "outputs": [],
   "source": [
    "# calculate average scores for all lists in the dictionary generated and provide string for display\n",
    "def averages(dictionary, emotion_degree, start, end):\n",
    "    display_string = \"-----------\" + emotion_degree + \"-----------\\n\\n\"\n",
    "    for keys, values in dictionary.items():\n",
    "        display_string += str(keys) + \": \" + str(sum(values)/len(values)) + \"\\n\"\n",
    "    display_string += \"\\nStarting point: \" + str(start+1) + \"\\n\" + \"Ending point: \" + str(end) + \"\\n----------------------***----------------------\\n\"\n",
    "    return display_string"
   ]
  },
  {
   "cell_type": "code",
   "execution_count": 13,
   "metadata": {},
   "outputs": [],
   "source": [
    "def annotator_phase(start, end, choice):\n",
    "    agreement_with_degree = inter_annotator_agreement(isa_scores_with_degree, n_scores_with_degree, start, end)\n",
    "    agreement_no_degree = inter_annotator_agreement(isa_scores_no_degree, n_scores_no_degree, start, end)\n",
    "    \n",
    "    if choice == \"print\":\n",
    "        print(averages(agreement_with_degree, \"With Degrees of Emotions\", start, end))\n",
    "        print(averages(agreement_with_degree, \"No Degrees of Emotions\", start, end))\n",
    "    elif choice == \"values\":\n",
    "        return agreement_with_degree, agreement_no_degree"
   ]
  },
  {
   "cell_type": "code",
   "execution_count": 14,
   "metadata": {},
   "outputs": [
    {
     "name": "stdout",
     "output_type": "stream",
     "text": [
      "-----------With Degrees of Emotions-----------\n",
      "\n",
      "unweighted_with_degree: 0.3175011163568026\n",
      "linear_with_degree: 0.40511746430641343\n",
      "quadratic_with_degree: 0.46769428416855086\n",
      "unweighted_no_degree: 0.3175011163568026\n",
      "linear_no_degree: 0.40511746430641343\n",
      "quadratic_no_degree: 0.46769428416855086\n",
      "\n",
      "Starting point: 1\n",
      "Ending point: 15\n",
      "----------------------***----------------------\n",
      "\n",
      "-----------No Degrees of Emotions-----------\n",
      "\n",
      "unweighted_with_degree: 0.3175011163568026\n",
      "linear_with_degree: 0.40511746430641343\n",
      "quadratic_with_degree: 0.46769428416855086\n",
      "unweighted_no_degree: 0.3175011163568026\n",
      "linear_no_degree: 0.40511746430641343\n",
      "quadratic_no_degree: 0.46769428416855086\n",
      "\n",
      "Starting point: 1\n",
      "Ending point: 15\n",
      "----------------------***----------------------\n",
      "\n",
      "-----------With Degrees of Emotions-----------\n",
      "\n",
      "unweighted_with_degree: 0.2879090958746287\n",
      "linear_with_degree: 0.3446560188832838\n",
      "quadratic_with_degree: 0.3891425185858672\n",
      "unweighted_no_degree: 0.2879090958746287\n",
      "linear_no_degree: 0.3446560188832838\n",
      "quadratic_no_degree: 0.3891425185858672\n",
      "\n",
      "Starting point: 16\n",
      "Ending point: 65\n",
      "----------------------***----------------------\n",
      "\n",
      "-----------No Degrees of Emotions-----------\n",
      "\n",
      "unweighted_with_degree: 0.2879090958746287\n",
      "linear_with_degree: 0.3446560188832838\n",
      "quadratic_with_degree: 0.3891425185858672\n",
      "unweighted_no_degree: 0.2879090958746287\n",
      "linear_no_degree: 0.3446560188832838\n",
      "quadratic_no_degree: 0.3891425185858672\n",
      "\n",
      "Starting point: 16\n",
      "Ending point: 65\n",
      "----------------------***----------------------\n",
      "\n"
     ]
    }
   ],
   "source": [
    "# rows corresponding to the annotations after the seed annotations\n",
    "annotator_phase(0, 15, \"print\")\n",
    "# rows corresponding to the annotations after the next 50 annotations\n",
    "annotator_phase(15, 65, \"print\")"
   ]
  },
  {
   "cell_type": "code",
   "execution_count": 15,
   "metadata": {},
   "outputs": [],
   "source": [
    "%%script false --no-raise-error\n",
    "# convert dictionaries into np.arrays for multilabel classification representation\n",
    "def dict_to_np_array_multiclass(dictionary):\n",
    "    np_array = np.empty((0, 12), int)\n",
    "    for key in dictionary:\n",
    "        np_array = np.append(np_array, np.array([dictionary[key]]), axis=0)\n",
    "    return np_array"
   ]
  },
  {
   "cell_type": "code",
   "execution_count": 16,
   "metadata": {},
   "outputs": [],
   "source": [
    "%%script false --no-raise-error\n",
    "from sklearn.metrics import multilabel_confusion_matrix\n",
    "\n",
    "# isabelle's annotations for multilabel scores\n",
    "isa_degree = dict_to_np_array_multiclass(isa_scores_with_degree)\n",
    "isa_no = dict_to_np_array_multiclass(isa_scores_no_degree)\n",
    "\n",
    "# nishan's annotations for multilabel scores\n",
    "n_degree = dict_to_np_array_multiclass(n_scores_with_degree)\n",
    "n_no = dict_to_np_array_multiclass(n_scores_no_degree)\n",
    "\n",
    "# first 15\n",
    "cf_15_degree = multilabel_confusion_matrix(isa_degree[0:15], n_degree[0:15])\n",
    "cf_15_no = multilabel_confusion_matrix(isa_no[0:15], n_no[0:15])\n",
    "\n",
    "# next 50\n",
    "cf_50_degree = multilabel_confusion_matrix(isa_degree[15:66], n_degree[15:66])\n",
    "cf_50_no = multilabel_confusion_matrix(isa_no[15:66], n_no[15:66])"
   ]
  },
  {
   "cell_type": "code",
   "execution_count": 17,
   "metadata": {},
   "outputs": [],
   "source": [
    "# convert dictionaries into arrays for binary classification representation\n",
    "def emo_singleclass(dictionary):\n",
    "    emo_array = []\n",
    "    for key in dictionary:\n",
    "        emo_array += dictionary[key]\n",
    "    return emo_array"
   ]
  },
  {
   "cell_type": "code",
   "execution_count": 18,
   "metadata": {},
   "outputs": [],
   "source": [
    "# remove both zero labels\n",
    "def normalize_for_viz(ar1, ar2):\n",
    "    ar1_dash = []\n",
    "    ar2_dash = []\n",
    "    for index1, index2 in zip(ar1, ar2):\n",
    "        if index1 == index2 == 0:\n",
    "            pass\n",
    "        else:\n",
    "            ar1_dash.append(index1)\n",
    "            ar2_dash.append(index2)\n",
    "    return ar1_dash, ar2_dash"
   ]
  },
  {
   "cell_type": "code",
   "execution_count": 19,
   "metadata": {},
   "outputs": [],
   "source": [
    "from sklearn.metrics import confusion_matrix\n",
    "\n",
    "# annotations for binary scores: Emotion with degree present or not present\n",
    "isa_degree, n_degree = normalize_for_viz(emo_singleclass(isa_scores_with_degree), emo_singleclass(n_scores_with_degree))\n",
    "isa_no, n_no = normalize_for_viz(emo_singleclass(isa_scores_no_degree), emo_singleclass(n_scores_no_degree))\n",
    "\n",
    "cf_degree = confusion_matrix(isa_degree, n_degree)\n",
    "cf_no = confusion_matrix(isa_no, n_no)"
   ]
  },
  {
   "cell_type": "code",
   "execution_count": 20,
   "metadata": {},
   "outputs": [
    {
     "data": {
      "text/plain": [
       "<AxesSubplot:>"
      ]
     },
     "execution_count": 20,
     "metadata": {},
     "output_type": "execute_result"
    },
    {
     "data": {
      "image/png": "[encoded data removed]",
      "text/plain": [
       "<Figure size 432x288 with 2 Axes>"
      ]
     },
     "metadata": {
      "needs_background": "light"
     },
     "output_type": "display_data"
    }
   ],
   "source": [
    "import seaborn as sns\n",
    "\n",
    "sns.heatmap(cf_degree/np.sum(cf_degree), annot=True, fmt='.2%', cmap='Blues')"
   ]
  },
  {
   "cell_type": "code",
   "execution_count": 21,
   "metadata": {},
   "outputs": [
    {
     "data": {
      "text/plain": [
       "<AxesSubplot:>"
      ]
     },
     "execution_count": 21,
     "metadata": {},
     "output_type": "execute_result"
    },
    {
     "data": {
      "image/png": "[encoded data removed]",
      "text/plain": [
       "<Figure size 432x288 with 2 Axes>"
      ]
     },
     "metadata": {
      "needs_background": "light"
     },
     "output_type": "display_data"
    }
   ],
   "source": [
    "sns.heatmap(cf_no/np.sum(cf_no), annot=True, fmt='.2%', cmap='Oranges')"
   ]
  },
  {
   "cell_type": "code",
   "execution_count": null,
   "metadata": {},
   "outputs": [],
   "source": []
  }
 ],
 "metadata": {
  "kernelspec": {
   "display_name": "Python 3",
   "language": "python",
   "name": "python3"
  },
  "language_info": {
   "codemirror_mode": {
    "name": "ipython",
    "version": 3
   },
   "file_extension": ".py",
   "mimetype": "text/x-python",
   "name": "python",
   "nbconvert_exporter": "python",
   "pygments_lexer": "ipython3",
   "version": "3.8.5"
  }
 },
 "nbformat": 4,
 "nbformat_minor": 4
}
