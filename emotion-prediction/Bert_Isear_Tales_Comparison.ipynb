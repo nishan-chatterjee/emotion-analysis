{
 "cells": [
  {
   "cell_type": "code",
   "execution_count": 1,
   "metadata": {},
   "outputs": [],
   "source": [
    "def percentages(scores, total):\n",
    "    p = []\n",
    "    for i, j in zip(scores, total):\n",
    "        p.append(str(round(i/j, 2)))\n",
    "    return p"
   ]
  },
  {
   "cell_type": "code",
   "execution_count": 2,
   "metadata": {},
   "outputs": [
    {
     "name": "stdout",
     "output_type": "stream",
     "text": [
      "isear_isear ['0.92', '0.8', '0.69', '0.82', '0.78']\n",
      "isear_tales ['0.85', '0.87', '0.74', '0.76', '0.8']\n",
      "tales_tales ['0.7', '0.53', '0.64', '0.83', '0.18']\n",
      "tales_isear ['0.71', '0.87', '0.62', '0.86', '0.16']\n"
     ]
    }
   ],
   "source": [
    "print(\"isear_isear\", percentages([151, 131, 113, 136, 129], [164, 164, 164, 165, 165]))\n",
    "print(\"isear_tales\", percentages([161, 136, 121, 123, 120], [190, 157, 163, 162, 150]))\n",
    "print(\"tales_tales\", percentages([192, 57, 70, 114, 10], [274, 107, 110, 138, 57]))\n",
    "print(\"tales_isear\", percentages([82, 220, 69, 118, 11], [116, 253, 111, 138, 68]))"
   ]
  },
  {
   "cell_type": "code",
   "execution_count": 3,
   "metadata": {},
   "outputs": [
    {
     "name": "stdout",
     "output_type": "stream",
     "text": [
      "Test-Train      Joy    Fear    Anger    Sadness    Disgust\n",
      "------------  -----  ------  -------  ---------  ---------\n",
      "isear-isear    0.92    0.8      0.69       0.82       0.78\n",
      "isear-tales    0.85    0.87     0.74       0.76       0.8\n",
      "tales-tales    0.7     0.53     0.64       0.83       0.18\n",
      "tales-isear    0.71    0.87     0.62       0.86       0.16\n"
     ]
    }
   ],
   "source": [
    "from tabulate import tabulate\n",
    "\n",
    "print(tabulate([['isear-isear', '0.92', '0.8', '0.69', '0.82', '0.78'],\n",
    "                ['isear-tales', '0.85', '0.87', '0.74', '0.76', '0.8'],\n",
    "                ['tales-tales', '0.7', '0.53', '0.64', '0.83', '0.18'],\n",
    "                ['tales-isear', '0.71', '0.87', '0.62', '0.86', '0.16']],\n",
    "               headers=['Test-Train', 'Joy', 'Fear', 'Anger', 'Sadness', 'Disgust']))"
   ]
  },
  {
   "cell_type": "code",
   "execution_count": null,
   "metadata": {},
   "outputs": [],
   "source": []
  }
 ],
 "metadata": {
  "kernelspec": {
   "display_name": "Python 3",
   "language": "python",
   "name": "python3"
  },
  "language_info": {
   "codemirror_mode": {
    "name": "ipython",
    "version": 3
   },
   "file_extension": ".py",
   "mimetype": "text/x-python",
   "name": "python",
   "nbconvert_exporter": "python",
   "pygments_lexer": "ipython3",
   "version": "3.8.5"
  }
 },
 "nbformat": 4,
 "nbformat_minor": 4
}
