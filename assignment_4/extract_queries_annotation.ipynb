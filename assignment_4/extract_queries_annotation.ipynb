{
 "cells": [
  {
   "cell_type": "markdown",
   "metadata": {},
   "source": [
    "**Load datasets**"
   ]
  },
  {
   "cell_type": "code",
   "execution_count": 1,
   "metadata": {
    "scrolled": true
   },
   "outputs": [
    {
     "data": {
      "text/html": [
       "<div>\n",
       "<style scoped>\n",
       "    .dataframe tbody tr th:only-of-type {\n",
       "        vertical-align: middle;\n",
       "    }\n",
       "\n",
       "    .dataframe tbody tr th {\n",
       "        vertical-align: top;\n",
       "    }\n",
       "\n",
       "    .dataframe thead th {\n",
       "        text-align: right;\n",
       "    }\n",
       "</style>\n",
       "<table border=\"1\" class=\"dataframe\">\n",
       "  <thead>\n",
       "    <tr style=\"text-align: right;\">\n",
       "      <th></th>\n",
       "      <th>uniqueID</th>\n",
       "      <th>drugName</th>\n",
       "      <th>condition</th>\n",
       "      <th>review</th>\n",
       "      <th>rating</th>\n",
       "      <th>date</th>\n",
       "      <th>usefulCount</th>\n",
       "    </tr>\n",
       "  </thead>\n",
       "  <tbody>\n",
       "    <tr>\n",
       "      <th>0</th>\n",
       "      <td>163740</td>\n",
       "      <td>Mirtazapine</td>\n",
       "      <td>Depression</td>\n",
       "      <td>\"I've tried a few antidepressants over the years (citalopram, fluoxetine, amitriptyline), but none of those helped with my depression, insomnia &amp; anxiety. My doctor suggested and changed me onto 45mg mirtazapine and this medicine has saved my life. Thankfully I have had no side effects especially the most common - weight gain, I've actually lost alot of weight. I still have suicidal thoughts but mirtazapine has saved me.\"</td>\n",
       "      <td>10</td>\n",
       "      <td>28-Feb-12</td>\n",
       "      <td>22</td>\n",
       "    </tr>\n",
       "    <tr>\n",
       "      <th>1</th>\n",
       "      <td>206473</td>\n",
       "      <td>Mesalamine</td>\n",
       "      <td>Crohn's Disease, Maintenance</td>\n",
       "      <td>\"My son has Crohn's disease and has done very well on the Asacol.  He has no complaints and shows no side effects.  He has taken as many as nine tablets per day at one time.  I've been very happy with the results, reducing his bouts of diarrhea drastically.\"</td>\n",
       "      <td>8</td>\n",
       "      <td>17-May-09</td>\n",
       "      <td>17</td>\n",
       "    </tr>\n",
       "    <tr>\n",
       "      <th>2</th>\n",
       "      <td>159672</td>\n",
       "      <td>Bactrim</td>\n",
       "      <td>Urinary Tract Infection</td>\n",
       "      <td>\"Quick reduction of symptoms\"</td>\n",
       "      <td>9</td>\n",
       "      <td>29-Sep-17</td>\n",
       "      <td>3</td>\n",
       "    </tr>\n",
       "    <tr>\n",
       "      <th>3</th>\n",
       "      <td>39293</td>\n",
       "      <td>Contrave</td>\n",
       "      <td>Weight Loss</td>\n",
       "      <td>\"Contrave combines drugs that were used for alcohol, smoking, and opioid cessation. People lose weight on it because it also helps control over-eating. I have no doubt that most obesity is caused from sugar/carb addiction, which is just as powerful as any drug. I have been taking it for five days, and the good news is, it seems to go to work immediately. I feel hungry before I want food now. I really don't care to eat; it's just to fill my stomach. Since I have only been on it a few days, I don't know if I've lost weight (I don't have a scale), but my clothes do feel a little looser, so maybe a pound or two. I'm hoping that after a few months on this medication, I will develop healthier habits that I can continue without the aid of Contrave.\"</td>\n",
       "      <td>9</td>\n",
       "      <td>5-Mar-17</td>\n",
       "      <td>35</td>\n",
       "    </tr>\n",
       "    <tr>\n",
       "      <th>4</th>\n",
       "      <td>97768</td>\n",
       "      <td>Cyclafem 1 / 35</td>\n",
       "      <td>Birth Control</td>\n",
       "      <td>\"I have been on this birth control for one cycle. After reading some of the reviews on this type and similar birth controls I was a bit apprehensive to start. Im giving this birth control a 9 out of 10 as I have not been on it long enough for a 10. So far I love this birth control! My side effects have been so minimal its like Im not even on birth control! I have experienced mild headaches here and there and some nausea but other than that ive been feeling great! I got my period on cue on the third day of the inactive pills and I had no idea it was coming because I had zero pms! My period was very light and I barely had any cramping! I had unprotected sex the first month and obviously didn't get pregnant so I'm very pleased! Highly recommend\"</td>\n",
       "      <td>9</td>\n",
       "      <td>22-Oct-15</td>\n",
       "      <td>4</td>\n",
       "    </tr>\n",
       "  </tbody>\n",
       "</table>\n",
       "</div>"
      ],
      "text/plain": [
       "   uniqueID         drugName                     condition  \\\n",
       "0    163740      Mirtazapine                    Depression   \n",
       "1    206473       Mesalamine  Crohn's Disease, Maintenance   \n",
       "2    159672          Bactrim       Urinary Tract Infection   \n",
       "3     39293         Contrave                   Weight Loss   \n",
       "4     97768  Cyclafem 1 / 35                 Birth Control   \n",
       "\n",
       "                                                                                                                                                                                                                                                                                                                                                                                                                                                                                                                                                                                                                                                                                                                                                                             review  \\\n",
       "0                                                                                                                                                                                                                                                                                                                                         \"I've tried a few antidepressants over the years (citalopram, fluoxetine, amitriptyline), but none of those helped with my depression, insomnia & anxiety. My doctor suggested and changed me onto 45mg mirtazapine and this medicine has saved my life. Thankfully I have had no side effects especially the most common - weight gain, I've actually lost alot of weight. I still have suicidal thoughts but mirtazapine has saved me.\"   \n",
       "1                                                                                                                                                                                                                                                                                                                                                                                                                                                                                                                \"My son has Crohn's disease and has done very well on the Asacol.  He has no complaints and shows no side effects.  He has taken as many as nine tablets per day at one time.  I've been very happy with the results, reducing his bouts of diarrhea drastically.\"   \n",
       "2                                                                                                                                                                                                                                                                                                                                                                                                                                                                                                                                                                                                                                                                                                                                                     \"Quick reduction of symptoms\"   \n",
       "3  \"Contrave combines drugs that were used for alcohol, smoking, and opioid cessation. People lose weight on it because it also helps control over-eating. I have no doubt that most obesity is caused from sugar/carb addiction, which is just as powerful as any drug. I have been taking it for five days, and the good news is, it seems to go to work immediately. I feel hungry before I want food now. I really don't care to eat; it's just to fill my stomach. Since I have only been on it a few days, I don't know if I've lost weight (I don't have a scale), but my clothes do feel a little looser, so maybe a pound or two. I'm hoping that after a few months on this medication, I will develop healthier habits that I can continue without the aid of Contrave.\"   \n",
       "4  \"I have been on this birth control for one cycle. After reading some of the reviews on this type and similar birth controls I was a bit apprehensive to start. Im giving this birth control a 9 out of 10 as I have not been on it long enough for a 10. So far I love this birth control! My side effects have been so minimal its like Im not even on birth control! I have experienced mild headaches here and there and some nausea but other than that ive been feeling great! I got my period on cue on the third day of the inactive pills and I had no idea it was coming because I had zero pms! My period was very light and I barely had any cramping! I had unprotected sex the first month and obviously didn't get pregnant so I'm very pleased! Highly recommend\"   \n",
       "\n",
       "   rating       date  usefulCount  \n",
       "0      10  28-Feb-12           22  \n",
       "1       8  17-May-09           17  \n",
       "2       9  29-Sep-17            3  \n",
       "3       9   5-Mar-17           35  \n",
       "4       9  22-Oct-15            4  "
      ]
     },
     "execution_count": 1,
     "metadata": {},
     "output_type": "execute_result"
    }
   ],
   "source": [
    "import html\n",
    "import pandas as pd\n",
    "pd.set_option('display.max_colwidth', None)  \n",
    "\n",
    "df_test = pd.read_csv(\"drugsComTest_raw.csv\", encoding='utf-8')\n",
    "# df_train = pd.read_csv(\"../dataset/drugsComTrain_raw.csv\")\n",
    "\n",
    "df_test['review'] = [html.unescape(index) for index in df_test['review']]\n",
    "\n",
    "df_test.head()"
   ]
  },
  {
   "cell_type": "code",
   "execution_count": 2,
   "metadata": {},
   "outputs": [
    {
     "name": "stderr",
     "output_type": "stream",
     "text": [
      "[nltk_data] Downloading package punkt to /home/nishan/nltk_data...\n",
      "[nltk_data]   Package punkt is already up-to-date!\n"
     ]
    },
    {
     "data": {
      "text/plain": [
       "True"
      ]
     },
     "execution_count": 2,
     "metadata": {},
     "output_type": "execute_result"
    }
   ],
   "source": [
    "import nltk\n",
    "nltk.download('punkt')"
   ]
  },
  {
   "cell_type": "code",
   "execution_count": 3,
   "metadata": {
    "scrolled": true
   },
   "outputs": [
    {
     "data": {
      "text/html": [
       "<div>\n",
       "<style scoped>\n",
       "    .dataframe tbody tr th:only-of-type {\n",
       "        vertical-align: middle;\n",
       "    }\n",
       "\n",
       "    .dataframe tbody tr th {\n",
       "        vertical-align: top;\n",
       "    }\n",
       "\n",
       "    .dataframe thead th {\n",
       "        text-align: right;\n",
       "    }\n",
       "</style>\n",
       "<table border=\"1\" class=\"dataframe\">\n",
       "  <thead>\n",
       "    <tr style=\"text-align: right;\">\n",
       "      <th></th>\n",
       "      <th>uniqueID</th>\n",
       "      <th>drugName</th>\n",
       "      <th>condition</th>\n",
       "      <th>review</th>\n",
       "      <th>rating</th>\n",
       "      <th>date</th>\n",
       "      <th>usefulCount</th>\n",
       "      <th>sentence-count</th>\n",
       "      <th>word-count</th>\n",
       "    </tr>\n",
       "  </thead>\n",
       "  <tbody>\n",
       "    <tr>\n",
       "      <th>2</th>\n",
       "      <td>159672</td>\n",
       "      <td>Bactrim</td>\n",
       "      <td>Urinary Tract Infection</td>\n",
       "      <td>\"Quick reduction of symptoms\"</td>\n",
       "      <td>9</td>\n",
       "      <td>29-Sep-17</td>\n",
       "      <td>3</td>\n",
       "      <td>1</td>\n",
       "      <td>4</td>\n",
       "    </tr>\n",
       "    <tr>\n",
       "      <th>13</th>\n",
       "      <td>66736</td>\n",
       "      <td>Seroquel</td>\n",
       "      <td>Schizoaffective Disorde</td>\n",
       "      <td>\"No problems, watch what you eat.\"</td>\n",
       "      <td>10</td>\n",
       "      <td>8-Oct-14</td>\n",
       "      <td>19</td>\n",
       "      <td>1</td>\n",
       "      <td>6</td>\n",
       "    </tr>\n",
       "    <tr>\n",
       "      <th>19</th>\n",
       "      <td>152490</td>\n",
       "      <td>Ciprofloxacin</td>\n",
       "      <td>Urinary Tract Infection</td>\n",
       "      <td>\"After just 1 dose of this ciprofloxacn, I felt 99% better.\"</td>\n",
       "      <td>10</td>\n",
       "      <td>9-Jun-10</td>\n",
       "      <td>9</td>\n",
       "      <td>1</td>\n",
       "      <td>11</td>\n",
       "    </tr>\n",
       "    <tr>\n",
       "      <th>23</th>\n",
       "      <td>12626</td>\n",
       "      <td>Cyclosporine</td>\n",
       "      <td>Keratoconjunctivitis Sicca</td>\n",
       "      <td>\"They didn't help my dry eyes at all.\"</td>\n",
       "      <td>1</td>\n",
       "      <td>31-Dec-15</td>\n",
       "      <td>17</td>\n",
       "      <td>1</td>\n",
       "      <td>8</td>\n",
       "    </tr>\n",
       "    <tr>\n",
       "      <th>26</th>\n",
       "      <td>173391</td>\n",
       "      <td>Clonazepam</td>\n",
       "      <td>Panic Disorde</td>\n",
       "      <td>\"klonopin has definitely given me my life back!\"</td>\n",
       "      <td>10</td>\n",
       "      <td>19-Apr-08</td>\n",
       "      <td>47</td>\n",
       "      <td>1</td>\n",
       "      <td>8</td>\n",
       "    </tr>\n",
       "  </tbody>\n",
       "</table>\n",
       "</div>"
      ],
      "text/plain": [
       "    uniqueID       drugName                   condition  \\\n",
       "2     159672        Bactrim     Urinary Tract Infection   \n",
       "13     66736       Seroquel     Schizoaffective Disorde   \n",
       "19    152490  Ciprofloxacin     Urinary Tract Infection   \n",
       "23     12626   Cyclosporine  Keratoconjunctivitis Sicca   \n",
       "26    173391     Clonazepam               Panic Disorde   \n",
       "\n",
       "                                                          review  rating  \\\n",
       "2                                  \"Quick reduction of symptoms\"       9   \n",
       "13                            \"No problems, watch what you eat.\"      10   \n",
       "19  \"After just 1 dose of this ciprofloxacn, I felt 99% better.\"      10   \n",
       "23                        \"They didn't help my dry eyes at all.\"       1   \n",
       "26              \"klonopin has definitely given me my life back!\"      10   \n",
       "\n",
       "         date  usefulCount  sentence-count  word-count  \n",
       "2   29-Sep-17            3               1           4  \n",
       "13   8-Oct-14           19               1           6  \n",
       "19   9-Jun-10            9               1          11  \n",
       "23  31-Dec-15           17               1           8  \n",
       "26  19-Apr-08           47               1           8  "
      ]
     },
     "execution_count": 3,
     "metadata": {},
     "output_type": "execute_result"
    }
   ],
   "source": [
    "df_test['sentence-count'] = [len(nltk.sent_tokenize(df_test.loc[index, 'review'])) for index, row in df_test.iterrows()]\n",
    "df_test = df_test.loc[df_test['sentence-count'] == 1] # taking reviews with a single sentence for starters\n",
    "df_test['word-count'] = [len(index.split()) for index in df_test['review']]\n",
    "df_test.head()"
   ]
  },
  {
   "cell_type": "code",
   "execution_count": 4,
   "metadata": {},
   "outputs": [
    {
     "data": {
      "text/plain": [
       "13"
      ]
     },
     "execution_count": 4,
     "metadata": {},
     "output_type": "execute_result"
    }
   ],
   "source": [
    "from statistics import median \n",
    "median(df_test['word-count'])"
   ]
  },
  {
   "cell_type": "markdown",
   "metadata": {},
   "source": [
    "**Create Random List of 100 to start annotation**"
   ]
  },
  {
   "cell_type": "code",
   "execution_count": null,
   "metadata": {
    "scrolled": true
   },
   "outputs": [],
   "source": [
    "random_list = annotation_dataset.sample(n=100)\n",
    "random_list.to_csv (r'annotation_dataset_main.csv', index = False, header=True)\n",
    "random_list.head()"
   ]
  },
  {
   "cell_type": "code",
   "execution_count": 5,
   "metadata": {},
   "outputs": [
    {
     "name": "stdout",
     "output_type": "stream",
     "text": [
      "[8, 21, 44, 79, 131]\n"
     ]
    }
   ],
   "source": [
    "import kmeans1d\n",
    "\n",
    "x = df_test['word-count']\n",
    "k = 5\n",
    "\n",
    "clusters, centroids = kmeans1d.cluster(x, k)\n",
    "print([round(i) for i in centroids])"
   ]
  },
  {
   "cell_type": "code",
   "execution_count": 6,
   "metadata": {},
   "outputs": [
    {
     "data": {
      "text/plain": [
       "(1256, 1661, 731)"
      ]
     },
     "execution_count": 6,
     "metadata": {},
     "output_type": "execute_result"
    }
   ],
   "source": [
    "annotation_dataset_8 = df_test.loc[df_test['word-count'] <= 8]\n",
    "annotation_dataset_8_21 = df_test.loc[(df_test['word-count'] > 8) & (df_test['word-count'] <= 21)]\n",
    "annotation_dataset_21_44 = df_test.loc[(df_test['word-count'] > 21) & (df_test['word-count'] <= 44)]\n",
    "\n",
    "len(annotation_dataset_8), len(annotation_dataset_8_21), len(annotation_dataset_21_44)"
   ]
  },
  {
   "cell_type": "code",
   "execution_count": 8,
   "metadata": {},
   "outputs": [
    {
     "data": {
      "text/html": [
       "<div>\n",
       "<style scoped>\n",
       "    .dataframe tbody tr th:only-of-type {\n",
       "        vertical-align: middle;\n",
       "    }\n",
       "\n",
       "    .dataframe tbody tr th {\n",
       "        vertical-align: top;\n",
       "    }\n",
       "\n",
       "    .dataframe thead th {\n",
       "        text-align: right;\n",
       "    }\n",
       "</style>\n",
       "<table border=\"1\" class=\"dataframe\">\n",
       "  <thead>\n",
       "    <tr style=\"text-align: right;\">\n",
       "      <th></th>\n",
       "      <th>uniqueID</th>\n",
       "      <th>drugName</th>\n",
       "      <th>condition</th>\n",
       "      <th>review</th>\n",
       "      <th>rating</th>\n",
       "      <th>date</th>\n",
       "      <th>usefulCount</th>\n",
       "      <th>sentence-count</th>\n",
       "      <th>word-count</th>\n",
       "    </tr>\n",
       "  </thead>\n",
       "  <tbody>\n",
       "    <tr>\n",
       "      <th>19857</th>\n",
       "      <td>34696</td>\n",
       "      <td>Minocycline</td>\n",
       "      <td>Acne</td>\n",
       "      <td>\"Workedad wonders!\"</td>\n",
       "      <td>10</td>\n",
       "      <td>23-Dec-15</td>\n",
       "      <td>0</td>\n",
       "      <td>1</td>\n",
       "      <td>2</td>\n",
       "    </tr>\n",
       "    <tr>\n",
       "      <th>1215</th>\n",
       "      <td>140390</td>\n",
       "      <td>Sterapred</td>\n",
       "      <td>Conjunctivitis, Allergic</td>\n",
       "      <td>\"Very good\"</td>\n",
       "      <td>9</td>\n",
       "      <td>1-Aug-12</td>\n",
       "      <td>6</td>\n",
       "      <td>1</td>\n",
       "      <td>2</td>\n",
       "    </tr>\n",
       "    <tr>\n",
       "      <th>4886</th>\n",
       "      <td>57196</td>\n",
       "      <td>Vandazole</td>\n",
       "      <td>Bacterial Vaginitis</td>\n",
       "      <td>\"Works well.\"</td>\n",
       "      <td>9</td>\n",
       "      <td>13-Aug-09</td>\n",
       "      <td>25</td>\n",
       "      <td>1</td>\n",
       "      <td>2</td>\n",
       "    </tr>\n",
       "    <tr>\n",
       "      <th>31862</th>\n",
       "      <td>61251</td>\n",
       "      <td>Xyzal</td>\n",
       "      <td>Urticaria</td>\n",
       "      <td>\"Excellent!!\"</td>\n",
       "      <td>10</td>\n",
       "      <td>20-Oct-13</td>\n",
       "      <td>21</td>\n",
       "      <td>1</td>\n",
       "      <td>1</td>\n",
       "    </tr>\n",
       "    <tr>\n",
       "      <th>25669</th>\n",
       "      <td>103000</td>\n",
       "      <td>Aripiprazole</td>\n",
       "      <td>Depression</td>\n",
       "      <td>\"I had vomiting and just couldn't eat. \"</td>\n",
       "      <td>1</td>\n",
       "      <td>19-Oct-09</td>\n",
       "      <td>19</td>\n",
       "      <td>1</td>\n",
       "      <td>8</td>\n",
       "    </tr>\n",
       "  </tbody>\n",
       "</table>\n",
       "</div>"
      ],
      "text/plain": [
       "       uniqueID      drugName                 condition  \\\n",
       "19857     34696   Minocycline                      Acne   \n",
       "1215     140390     Sterapred  Conjunctivitis, Allergic   \n",
       "4886      57196     Vandazole       Bacterial Vaginitis   \n",
       "31862     61251         Xyzal                 Urticaria   \n",
       "25669    103000  Aripiprazole                Depression   \n",
       "\n",
       "                                         review  rating       date  \\\n",
       "19857                       \"Workedad wonders!\"      10  23-Dec-15   \n",
       "1215                                \"Very good\"       9   1-Aug-12   \n",
       "4886                              \"Works well.\"       9  13-Aug-09   \n",
       "31862                             \"Excellent!!\"      10  20-Oct-13   \n",
       "25669  \"I had vomiting and just couldn't eat. \"       1  19-Oct-09   \n",
       "\n",
       "       usefulCount  sentence-count  word-count  \n",
       "19857            0               1           2  \n",
       "1215             6               1           2  \n",
       "4886            25               1           2  \n",
       "31862           21               1           1  \n",
       "25669           19               1           8  "
      ]
     },
     "execution_count": 8,
     "metadata": {},
     "output_type": "execute_result"
    }
   ],
   "source": [
    "random_list = annotation_dataset_8.sample(n=20).append(annotation_dataset_8_21.sample(n=20)).append(annotation_dataset_21_44.sample(n=20))\n",
    "random_list.to_csv (r'annotation_dataset_main.csv', index = False, header=True)\n",
    "random_list.head()"
   ]
  },
  {
   "cell_type": "code",
   "execution_count": null,
   "metadata": {},
   "outputs": [],
   "source": []
  }
 ],
 "metadata": {
  "kernelspec": {
   "display_name": "Python 3",
   "language": "python",
   "name": "python3"
  },
  "language_info": {
   "codemirror_mode": {
    "name": "ipython",
    "version": 3
   },
   "file_extension": ".py",
   "mimetype": "text/x-python",
   "name": "python",
   "nbconvert_exporter": "python",
   "pygments_lexer": "ipython3",
   "version": "3.8.5"
  }
 },
 "nbformat": 4,
 "nbformat_minor": 4
}
