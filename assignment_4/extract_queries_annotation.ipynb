{
 "cells": [
  {
   "cell_type": "markdown",
   "metadata": {},
   "source": [
    "**Load datasets**"
   ]
  },
  {
   "cell_type": "code",
   "execution_count": 3,
   "metadata": {
    "scrolled": true
   },
   "outputs": [
    {
     "data": {
      "text/html": [
       "<div>\n",
       "<style scoped>\n",
       "    .dataframe tbody tr th:only-of-type {\n",
       "        vertical-align: middle;\n",
       "    }\n",
       "\n",
       "    .dataframe tbody tr th {\n",
       "        vertical-align: top;\n",
       "    }\n",
       "\n",
       "    .dataframe thead th {\n",
       "        text-align: right;\n",
       "    }\n",
       "</style>\n",
       "<table border=\"1\" class=\"dataframe\">\n",
       "  <thead>\n",
       "    <tr style=\"text-align: right;\">\n",
       "      <th></th>\n",
       "      <th>uniqueID</th>\n",
       "      <th>drugName</th>\n",
       "      <th>condition</th>\n",
       "      <th>review</th>\n",
       "      <th>rating</th>\n",
       "      <th>date</th>\n",
       "      <th>usefulCount</th>\n",
       "    </tr>\n",
       "  </thead>\n",
       "  <tbody>\n",
       "    <tr>\n",
       "      <th>0</th>\n",
       "      <td>163740</td>\n",
       "      <td>Mirtazapine</td>\n",
       "      <td>Depression</td>\n",
       "      <td>\"I&amp;#039;ve tried a few antidepressants over th...</td>\n",
       "      <td>10</td>\n",
       "      <td>28-Feb-12</td>\n",
       "      <td>22</td>\n",
       "    </tr>\n",
       "    <tr>\n",
       "      <th>1</th>\n",
       "      <td>206473</td>\n",
       "      <td>Mesalamine</td>\n",
       "      <td>Crohn's Disease, Maintenance</td>\n",
       "      <td>\"My son has Crohn&amp;#039;s disease and has done ...</td>\n",
       "      <td>8</td>\n",
       "      <td>17-May-09</td>\n",
       "      <td>17</td>\n",
       "    </tr>\n",
       "    <tr>\n",
       "      <th>2</th>\n",
       "      <td>159672</td>\n",
       "      <td>Bactrim</td>\n",
       "      <td>Urinary Tract Infection</td>\n",
       "      <td>\"Quick reduction of symptoms\"</td>\n",
       "      <td>9</td>\n",
       "      <td>29-Sep-17</td>\n",
       "      <td>3</td>\n",
       "    </tr>\n",
       "    <tr>\n",
       "      <th>3</th>\n",
       "      <td>39293</td>\n",
       "      <td>Contrave</td>\n",
       "      <td>Weight Loss</td>\n",
       "      <td>\"Contrave combines drugs that were used for al...</td>\n",
       "      <td>9</td>\n",
       "      <td>5-Mar-17</td>\n",
       "      <td>35</td>\n",
       "    </tr>\n",
       "    <tr>\n",
       "      <th>4</th>\n",
       "      <td>97768</td>\n",
       "      <td>Cyclafem 1 / 35</td>\n",
       "      <td>Birth Control</td>\n",
       "      <td>\"I have been on this birth control for one cyc...</td>\n",
       "      <td>9</td>\n",
       "      <td>22-Oct-15</td>\n",
       "      <td>4</td>\n",
       "    </tr>\n",
       "  </tbody>\n",
       "</table>\n",
       "</div>"
      ],
      "text/plain": [
       "   uniqueID         drugName                     condition  \\\n",
       "0    163740      Mirtazapine                    Depression   \n",
       "1    206473       Mesalamine  Crohn's Disease, Maintenance   \n",
       "2    159672          Bactrim       Urinary Tract Infection   \n",
       "3     39293         Contrave                   Weight Loss   \n",
       "4     97768  Cyclafem 1 / 35                 Birth Control   \n",
       "\n",
       "                                              review  rating       date  \\\n",
       "0  \"I&#039;ve tried a few antidepressants over th...      10  28-Feb-12   \n",
       "1  \"My son has Crohn&#039;s disease and has done ...       8  17-May-09   \n",
       "2                      \"Quick reduction of symptoms\"       9  29-Sep-17   \n",
       "3  \"Contrave combines drugs that were used for al...       9   5-Mar-17   \n",
       "4  \"I have been on this birth control for one cyc...       9  22-Oct-15   \n",
       "\n",
       "   usefulCount  \n",
       "0           22  \n",
       "1           17  \n",
       "2            3  \n",
       "3           35  \n",
       "4            4  "
      ]
     },
     "execution_count": 3,
     "metadata": {},
     "output_type": "execute_result"
    }
   ],
   "source": [
    "import pandas as pd\n",
    "\n",
    "df_test = pd.read_csv(\"drugsComTest_raw.csv\")\n",
    "# df_train = pd.read_csv(\"../dataset/drugsComTrain_raw.csv\")\n",
    "\n",
    "df_test.head()"
   ]
  },
  {
   "cell_type": "code",
   "execution_count": 2,
   "metadata": {},
   "outputs": [
    {
     "name": "stderr",
     "output_type": "stream",
     "text": [
      "[nltk_data] Downloading package punkt to /home/nishan/nltk_data...\n",
      "[nltk_data]   Package punkt is already up-to-date!\n"
     ]
    },
    {
     "data": {
      "text/plain": [
       "True"
      ]
     },
     "execution_count": 2,
     "metadata": {},
     "output_type": "execute_result"
    }
   ],
   "source": [
    "import nltk\n",
    "nltk.download('punkt')"
   ]
  },
  {
   "cell_type": "code",
   "execution_count": 4,
   "metadata": {
    "scrolled": true
   },
   "outputs": [
    {
     "data": {
      "text/html": [
       "<div>\n",
       "<style scoped>\n",
       "    .dataframe tbody tr th:only-of-type {\n",
       "        vertical-align: middle;\n",
       "    }\n",
       "\n",
       "    .dataframe tbody tr th {\n",
       "        vertical-align: top;\n",
       "    }\n",
       "\n",
       "    .dataframe thead th {\n",
       "        text-align: right;\n",
       "    }\n",
       "</style>\n",
       "<table border=\"1\" class=\"dataframe\">\n",
       "  <thead>\n",
       "    <tr style=\"text-align: right;\">\n",
       "      <th></th>\n",
       "      <th>uniqueID</th>\n",
       "      <th>drugName</th>\n",
       "      <th>condition</th>\n",
       "      <th>review</th>\n",
       "      <th>rating</th>\n",
       "      <th>date</th>\n",
       "      <th>usefulCount</th>\n",
       "      <th>sentence-count</th>\n",
       "      <th>word-count</th>\n",
       "    </tr>\n",
       "  </thead>\n",
       "  <tbody>\n",
       "    <tr>\n",
       "      <th>2</th>\n",
       "      <td>159672</td>\n",
       "      <td>Bactrim</td>\n",
       "      <td>Urinary Tract Infection</td>\n",
       "      <td>\"Quick reduction of symptoms\"</td>\n",
       "      <td>9</td>\n",
       "      <td>29-Sep-17</td>\n",
       "      <td>3</td>\n",
       "      <td>1</td>\n",
       "      <td>4</td>\n",
       "    </tr>\n",
       "    <tr>\n",
       "      <th>13</th>\n",
       "      <td>66736</td>\n",
       "      <td>Seroquel</td>\n",
       "      <td>Schizoaffective Disorde</td>\n",
       "      <td>\"No problems, watch what you eat.\"</td>\n",
       "      <td>10</td>\n",
       "      <td>8-Oct-14</td>\n",
       "      <td>19</td>\n",
       "      <td>1</td>\n",
       "      <td>6</td>\n",
       "    </tr>\n",
       "    <tr>\n",
       "      <th>19</th>\n",
       "      <td>152490</td>\n",
       "      <td>Ciprofloxacin</td>\n",
       "      <td>Urinary Tract Infection</td>\n",
       "      <td>\"After just 1 dose of this ciprofloxacn, I fel...</td>\n",
       "      <td>10</td>\n",
       "      <td>9-Jun-10</td>\n",
       "      <td>9</td>\n",
       "      <td>1</td>\n",
       "      <td>11</td>\n",
       "    </tr>\n",
       "    <tr>\n",
       "      <th>23</th>\n",
       "      <td>12626</td>\n",
       "      <td>Cyclosporine</td>\n",
       "      <td>Keratoconjunctivitis Sicca</td>\n",
       "      <td>\"They didn&amp;#039;t help my dry eyes at all.\"</td>\n",
       "      <td>1</td>\n",
       "      <td>31-Dec-15</td>\n",
       "      <td>17</td>\n",
       "      <td>1</td>\n",
       "      <td>8</td>\n",
       "    </tr>\n",
       "    <tr>\n",
       "      <th>26</th>\n",
       "      <td>173391</td>\n",
       "      <td>Clonazepam</td>\n",
       "      <td>Panic Disorde</td>\n",
       "      <td>\"klonopin has definitely given me my life back!\"</td>\n",
       "      <td>10</td>\n",
       "      <td>19-Apr-08</td>\n",
       "      <td>47</td>\n",
       "      <td>1</td>\n",
       "      <td>8</td>\n",
       "    </tr>\n",
       "  </tbody>\n",
       "</table>\n",
       "</div>"
      ],
      "text/plain": [
       "    uniqueID       drugName                   condition  \\\n",
       "2     159672        Bactrim     Urinary Tract Infection   \n",
       "13     66736       Seroquel     Schizoaffective Disorde   \n",
       "19    152490  Ciprofloxacin     Urinary Tract Infection   \n",
       "23     12626   Cyclosporine  Keratoconjunctivitis Sicca   \n",
       "26    173391     Clonazepam               Panic Disorde   \n",
       "\n",
       "                                               review  rating       date  \\\n",
       "2                       \"Quick reduction of symptoms\"       9  29-Sep-17   \n",
       "13                 \"No problems, watch what you eat.\"      10   8-Oct-14   \n",
       "19  \"After just 1 dose of this ciprofloxacn, I fel...      10   9-Jun-10   \n",
       "23        \"They didn&#039;t help my dry eyes at all.\"       1  31-Dec-15   \n",
       "26   \"klonopin has definitely given me my life back!\"      10  19-Apr-08   \n",
       "\n",
       "    usefulCount  sentence-count  word-count  \n",
       "2             3               1           4  \n",
       "13           19               1           6  \n",
       "19            9               1          11  \n",
       "23           17               1           8  \n",
       "26           47               1           8  "
      ]
     },
     "execution_count": 4,
     "metadata": {},
     "output_type": "execute_result"
    }
   ],
   "source": [
    "df_test['sentence-count'] = [len(nltk.sent_tokenize(df_test.loc[index, 'review'])) for index, row in df_test.iterrows()]\n",
    "df_test = df_test.loc[df_test['sentence-count'] == 1] # taking reviews with a single sentence for starters\n",
    "df_test['word-count'] = [len(index.split()) for index in df_test['review']]\n",
    "df_test.head()"
   ]
  },
  {
   "cell_type": "code",
   "execution_count": 6,
   "metadata": {},
   "outputs": [
    {
     "data": {
      "text/plain": [
       "13"
      ]
     },
     "execution_count": 6,
     "metadata": {},
     "output_type": "execute_result"
    }
   ],
   "source": [
    "from statistics import median \n",
    "median(df_test['word-count'])"
   ]
  },
  {
   "cell_type": "code",
   "execution_count": 7,
   "metadata": {},
   "outputs": [
    {
     "data": {
      "text/plain": [
       "(18630, 36513, 376362)"
      ]
     },
     "execution_count": 7,
     "metadata": {},
     "output_type": "execute_result"
    }
   ],
   "source": [
    "annotation_dataset = df_test.loc[df_test['word-count'] <= 13]\n",
    "annotation_dataset.size, df_test.size, pd.read_csv(\"drugsComTest_raw.csv\").size"
   ]
  },
  {
   "cell_type": "markdown",
   "metadata": {},
   "source": [
    "**Create Random List of 100to start annotation**"
   ]
  },
  {
   "cell_type": "code",
   "execution_count": 9,
   "metadata": {},
   "outputs": [
    {
     "data": {
      "text/html": [
       "<div>\n",
       "<style scoped>\n",
       "    .dataframe tbody tr th:only-of-type {\n",
       "        vertical-align: middle;\n",
       "    }\n",
       "\n",
       "    .dataframe tbody tr th {\n",
       "        vertical-align: top;\n",
       "    }\n",
       "\n",
       "    .dataframe thead th {\n",
       "        text-align: right;\n",
       "    }\n",
       "</style>\n",
       "<table border=\"1\" class=\"dataframe\">\n",
       "  <thead>\n",
       "    <tr style=\"text-align: right;\">\n",
       "      <th></th>\n",
       "      <th>uniqueID</th>\n",
       "      <th>drugName</th>\n",
       "      <th>condition</th>\n",
       "      <th>review</th>\n",
       "      <th>rating</th>\n",
       "      <th>date</th>\n",
       "      <th>usefulCount</th>\n",
       "      <th>sentence-count</th>\n",
       "      <th>word-count</th>\n",
       "    </tr>\n",
       "  </thead>\n",
       "  <tbody>\n",
       "    <tr>\n",
       "      <th>28324</th>\n",
       "      <td>70296</td>\n",
       "      <td>Zofran</td>\n",
       "      <td>Nausea/Vomiting</td>\n",
       "      <td>\"Thankfully, this really works.\"</td>\n",
       "      <td>10</td>\n",
       "      <td>1-Dec-13</td>\n",
       "      <td>17</td>\n",
       "      <td>1</td>\n",
       "      <td>4</td>\n",
       "    </tr>\n",
       "    <tr>\n",
       "      <th>46124</th>\n",
       "      <td>79603</td>\n",
       "      <td>Calcium carbonate</td>\n",
       "      <td>GERD</td>\n",
       "      <td>\"They are great for immediate relief\"</td>\n",
       "      <td>10</td>\n",
       "      <td>17-Apr-15</td>\n",
       "      <td>1</td>\n",
       "      <td>1</td>\n",
       "      <td>6</td>\n",
       "    </tr>\n",
       "    <tr>\n",
       "      <th>40883</th>\n",
       "      <td>41056</td>\n",
       "      <td>Acetaminophen / oxycodone</td>\n",
       "      <td>Chronic Pain</td>\n",
       "      <td>\"They do not help pain they make back pain worse\"</td>\n",
       "      <td>1</td>\n",
       "      <td>18-Jan-16</td>\n",
       "      <td>7</td>\n",
       "      <td>1</td>\n",
       "      <td>10</td>\n",
       "    </tr>\n",
       "    <tr>\n",
       "      <th>28045</th>\n",
       "      <td>147637</td>\n",
       "      <td>Alprazolam</td>\n",
       "      <td>Not Listed / Othe</td>\n",
       "      <td>\"Helps me very much.\"</td>\n",
       "      <td>10</td>\n",
       "      <td>20-Feb-09</td>\n",
       "      <td>3</td>\n",
       "      <td>1</td>\n",
       "      <td>4</td>\n",
       "    </tr>\n",
       "    <tr>\n",
       "      <th>47687</th>\n",
       "      <td>8093</td>\n",
       "      <td>Xanax</td>\n",
       "      <td>Anxiety</td>\n",
       "      <td>\"It works really well.\"</td>\n",
       "      <td>9</td>\n",
       "      <td>14-Apr-08</td>\n",
       "      <td>58</td>\n",
       "      <td>1</td>\n",
       "      <td>4</td>\n",
       "    </tr>\n",
       "  </tbody>\n",
       "</table>\n",
       "</div>"
      ],
      "text/plain": [
       "       uniqueID                   drugName          condition  \\\n",
       "28324     70296                     Zofran    Nausea/Vomiting   \n",
       "46124     79603          Calcium carbonate               GERD   \n",
       "40883     41056  Acetaminophen / oxycodone       Chronic Pain   \n",
       "28045    147637                 Alprazolam  Not Listed / Othe   \n",
       "47687      8093                      Xanax            Anxiety   \n",
       "\n",
       "                                                  review  rating       date  \\\n",
       "28324                   \"Thankfully, this really works.\"      10   1-Dec-13   \n",
       "46124              \"They are great for immediate relief\"      10  17-Apr-15   \n",
       "40883  \"They do not help pain they make back pain worse\"       1  18-Jan-16   \n",
       "28045                              \"Helps me very much.\"      10  20-Feb-09   \n",
       "47687                            \"It works really well.\"       9  14-Apr-08   \n",
       "\n",
       "       usefulCount  sentence-count  word-count  \n",
       "28324           17               1           4  \n",
       "46124            1               1           6  \n",
       "40883            7               1          10  \n",
       "28045            3               1           4  \n",
       "47687           58               1           4  "
      ]
     },
     "execution_count": 9,
     "metadata": {},
     "output_type": "execute_result"
    }
   ],
   "source": [
    "random_list = annotation_dataset.sample(n=100)\n",
    "random_list.to_csv (r'annotation_dataset.csv', index = False, header=True)\n",
    "random_list.head()"
   ]
  },
  {
   "cell_type": "code",
   "execution_count": null,
   "metadata": {},
   "outputs": [],
   "source": []
  }
 ],
 "metadata": {
  "kernelspec": {
   "display_name": "Python 3",
   "language": "python",
   "name": "python3"
  },
  "language_info": {
   "codemirror_mode": {
    "name": "ipython",
    "version": 3
   },
   "file_extension": ".py",
   "mimetype": "text/x-python",
   "name": "python",
   "nbconvert_exporter": "python",
   "pygments_lexer": "ipython3",
   "version": "3.8.5"
  }
 },
 "nbformat": 4,
 "nbformat_minor": 4
}
